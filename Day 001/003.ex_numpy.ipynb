{
 "cells": [
  {
   "cell_type": "code",
   "execution_count": 1,
   "id": "initial_id",
   "metadata": {
    "collapsed": true,
    "ExecuteTime": {
     "end_time": "2024-03-21T07:18:23.761877Z",
     "start_time": "2024-03-21T07:18:23.645226Z"
    }
   },
   "outputs": [],
   "source": [
    "## Module Loading\n",
    "import numpy as np"
   ]
  },
  {
   "cell_type": "code",
   "outputs": [
    {
     "data": {
      "text/plain": "array([0., 0.])"
     },
     "execution_count": 2,
     "metadata": {},
     "output_type": "execute_result"
    }
   ],
   "source": [
    "#ndarray type data \n",
    "\n",
    "# array data full of 0: zeros()\n",
    "np.zeros(2)"
   ],
   "metadata": {
    "collapsed": false,
    "ExecuteTime": {
     "end_time": "2024-03-21T07:19:36.450520Z",
     "start_time": "2024-03-21T07:19:36.440327Z"
    }
   },
   "id": "5958df9394271145",
   "execution_count": 2
  },
  {
   "cell_type": "code",
   "outputs": [
    {
     "data": {
      "text/plain": "array([[0, 0, 0],\n       [0, 0, 0]], dtype=int8)"
     },
     "execution_count": 4,
     "metadata": {},
     "output_type": "execute_result"
    }
   ],
   "source": [
    "np.zeros((2,3), dtype=np.int8) #2행 3열"
   ],
   "metadata": {
    "collapsed": false,
    "ExecuteTime": {
     "end_time": "2024-03-21T07:20:07.713440Z",
     "start_time": "2024-03-21T07:20:07.691477Z"
    }
   },
   "id": "46b83d15c306d6a4",
   "execution_count": 4
  },
  {
   "cell_type": "code",
   "outputs": [
    {
     "data": {
      "text/plain": "(array([1, 1, 1, 1, 1, 1, 1, 1, 1, 1]),\n array([[ True,  True,  True,  True,  True],\n        [ True,  True,  True,  True,  True]]))"
     },
     "execution_count": 7,
     "metadata": {},
     "output_type": "execute_result"
    }
   ],
   "source": [
    "#array data full of 1: ones(rows, cols)\n",
    "np.ones((2,3)),#default dtype = float64\n",
    "np.ones(10, dtype=np.int32), np.ones((2,5), dtype=np.bool_) #ones, 1 = True"
   ],
   "metadata": {
    "collapsed": false,
    "ExecuteTime": {
     "end_time": "2024-03-21T07:22:47.497454Z",
     "start_time": "2024-03-21T07:22:47.479204Z"
    }
   },
   "id": "dde55f912eddb526",
   "execution_count": 7
  },
  {
   "cell_type": "code",
   "outputs": [
    {
     "data": {
      "text/plain": "array([[1, 3, 3, 2, 2, 1, 2, 3, 1, 2],\n       [1, 4, 1, 4, 3, 3, 1, 2, 4, 1],\n       [2, 1, 4, 1, 4, 3, 1, 3, 4, 1]])"
     },
     "execution_count": 8,
     "metadata": {},
     "output_type": "execute_result"
    }
   ],
   "source": [
    "# 랜덤 데이터로 ndarray 생성\n",
    "np.random.randint(1,5,size = (,3,10)) #1 ~ 4를 가지고 3행 10열 만들기"
   ],
   "metadata": {
    "collapsed": false,
    "ExecuteTime": {
     "end_time": "2024-03-21T07:23:30.958227Z",
     "start_time": "2024-03-21T07:23:30.934790Z"
    }
   },
   "id": "ce9a3ed928dbb4a3",
   "execution_count": 8
  },
  {
   "cell_type": "code",
   "outputs": [
    {
     "data": {
      "text/plain": "(array([0.41535579, 0.62180118]),\n array([[0.00596271, 0.40825902, 0.78294849]]))"
     },
     "execution_count": 10,
     "metadata": {},
     "output_type": "execute_result"
    }
   ],
   "source": [
    "# 0 ≤ value < 1 사이 값 생성\n",
    "np.random.rand(2) , np.random.rand(1,3)"
   ],
   "metadata": {
    "collapsed": false,
    "ExecuteTime": {
     "end_time": "2024-03-21T07:25:29.900317Z",
     "start_time": "2024-03-21T07:25:29.886615Z"
    }
   },
   "id": "c74f88c7b9762041",
   "execution_count": 10
  },
  {
   "cell_type": "code",
   "outputs": [
    {
     "data": {
      "text/plain": "(array([-0.27208985,  2.86762912,  1.86682107, -1.38094488,  0.95489371]),\n array([[[-0.90063734, -1.49270662,  1.18301827],\n         [-0.35167058,  0.37518368, -0.45455982]]]))"
     },
     "execution_count": 12,
     "metadata": {},
     "output_type": "execute_result"
    }
   ],
   "source": [
    "#정규분포를 따르는..\n",
    "np.random.randn(5), np.random.randn(1,2,3)"
   ],
   "metadata": {
    "collapsed": false,
    "ExecuteTime": {
     "end_time": "2024-03-21T07:26:12.759455Z",
     "start_time": "2024-03-21T07:26:12.738495Z"
    }
   },
   "id": "a2f07291f77d4ae5",
   "execution_count": 12
  },
  {
   "cell_type": "code",
   "outputs": [
    {
     "data": {
      "text/plain": "array([ 0.05056171,  0.49995133, -0.99590893,  0.69359851, -0.41830152])"
     },
     "execution_count": 14,
     "metadata": {},
     "output_type": "execute_result"
    }
   ],
   "source": [
    "# random 고정\n",
    "np.random.seed(4)\n",
    "np.random.randn(5)"
   ],
   "metadata": {
    "collapsed": false,
    "ExecuteTime": {
     "end_time": "2024-03-21T07:26:49.320411Z",
     "start_time": "2024-03-21T07:26:49.302008Z"
    }
   },
   "id": "308c9a058464919e",
   "execution_count": 14
  },
  {
   "cell_type": "code",
   "outputs": [
    {
     "name": "stdout",
     "output_type": "stream",
     "text": [
      " [ORIGINAL] : [ 0.96462482 -0.18060193 -0.30466772  0.68853327 -0.58434414  0.33244159\n",
      "  0.13800229  0.75509424 -0.36990224 -0.99204471]\n",
      " [SHUFFLED] : [-0.18060193 -0.36990224  0.75509424  0.96462482 -0.99204471  0.68853327\n",
      " -0.30466772  0.13800229 -0.58434414  0.33244159]\n"
     ]
    }
   ],
   "source": [
    "data = np.random.randn(10)\n",
    "print (f' [ORIGINAL] : {data}')\n",
    "np.random.shuffle(data)\n",
    "print(f' [SHUFFLED] : {data}')"
   ],
   "metadata": {
    "collapsed": false,
    "ExecuteTime": {
     "end_time": "2024-03-21T07:29:53.382143Z",
     "start_time": "2024-03-21T07:29:53.368438Z"
    }
   },
   "id": "e2d0ae2c0dcea699",
   "execution_count": 17
  },
  {
   "cell_type": "code",
   "outputs": [
    {
     "data": {
      "text/plain": "(0.44713547349099103, 0.9646248225456242, -0.9920447055886228)"
     },
     "execution_count": 18,
     "metadata": {},
     "output_type": "execute_result"
    }
   ],
   "source": [
    "data.sum(), data.max(), data.min()"
   ],
   "metadata": {
    "collapsed": false,
    "ExecuteTime": {
     "end_time": "2024-03-21T07:31:00.589712Z",
     "start_time": "2024-03-21T07:31:00.568772Z"
    }
   },
   "id": "4a128a62ae8c8d52",
   "execution_count": 18
  },
  {
   "cell_type": "code",
   "outputs": [
    {
     "data": {
      "text/plain": "3"
     },
     "execution_count": 19,
     "metadata": {},
     "output_type": "execute_result"
    }
   ],
   "source": [
    "data.argmax()"
   ],
   "metadata": {
    "collapsed": false,
    "ExecuteTime": {
     "end_time": "2024-03-21T07:31:09.897Z",
     "start_time": "2024-03-21T07:31:09.878266Z"
    }
   },
   "id": "1c0bc24643282760",
   "execution_count": 19
  },
  {
   "cell_type": "code",
   "outputs": [
    {
     "data": {
      "text/plain": "4"
     },
     "execution_count": 20,
     "metadata": {},
     "output_type": "execute_result"
    }
   ],
   "source": [
    "data.argmin()"
   ],
   "metadata": {
    "collapsed": false,
    "ExecuteTime": {
     "end_time": "2024-03-21T07:31:33.945060Z",
     "start_time": "2024-03-21T07:31:33.932104Z"
    }
   },
   "id": "97e5719428b77e0f",
   "execution_count": 20
  },
  {
   "cell_type": "code",
   "outputs": [],
   "source": [],
   "metadata": {
    "collapsed": false,
    "ExecuteTime": {
     "end_time": "2024-03-21T07:42:23.801326Z",
     "start_time": "2024-03-21T07:42:23.786987Z"
    }
   },
   "id": "6c79e897e513be76",
   "execution_count": 21
  },
  {
   "cell_type": "code",
   "outputs": [],
   "source": [],
   "metadata": {
    "collapsed": false,
    "ExecuteTime": {
     "end_time": "2024-03-21T07:42:25.451720Z",
     "start_time": "2024-03-21T07:42:25.446159Z"
    }
   },
   "id": "eeb3989e6d8a5a47",
   "execution_count": 21
  },
  {
   "cell_type": "code",
   "outputs": [],
   "source": [],
   "metadata": {
    "collapsed": false
   },
   "id": "fca0fcd846de1fda"
  }
 ],
 "metadata": {
  "kernelspec": {
   "display_name": "Python 3",
   "language": "python",
   "name": "python3"
  },
  "language_info": {
   "codemirror_mode": {
    "name": "ipython",
    "version": 2
   },
   "file_extension": ".py",
   "mimetype": "text/x-python",
   "name": "python",
   "nbconvert_exporter": "python",
   "pygments_lexer": "ipython2",
   "version": "2.7.6"
  }
 },
 "nbformat": 4,
 "nbformat_minor": 5
}
