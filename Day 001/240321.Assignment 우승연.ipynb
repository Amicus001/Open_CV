{
 "cells": [
  {
   "cell_type": "markdown",
   "source": [
    "## 언어 분석 모델\n",
    "- 알파벳 26개를 사용하는 언어를 식별할 수 있따\n",
    "- 언어마다 사용하는 알파벳 빈도는 다르다\n",
    "\n",
    "## 모델\n",
    "- 알파벳 입력 시 해당 언어를 출력한다\n",
    "\n",
    "## 데이터\n",
    "- '../datas/240321. assignment/'의 test, train 파일\n",
    "\n",
    "## target : if data.find('en'): english, \n",
    "##                      ('fr'): french,\n",
    "##                      ('id') : indonesian,\n",
    "##                      ('tl') : thailand"
   ],
   "metadata": {
    "collapsed": false
   },
   "id": "696e0dd4cf139cc2"
  },
  {
   "cell_type": "code",
   "outputs": [],
   "source": [
    "#import model\n",
    "\n",
    "import pandas as pd\n",
    "import numpy as np\n",
    "import matplotlib.pyplot as plt\n",
    "import torch\n",
    "import torch.nn as nn\n",
    "import torch.optim as optim\n",
    "import os"
   ],
   "metadata": {
    "collapsed": false,
    "ExecuteTime": {
     "end_time": "2024-03-21T10:47:39.926635Z",
     "start_time": "2024-03-21T10:47:39.910689Z"
    }
   },
   "id": "7bcd8bf13c735374",
   "execution_count": 2
  },
  {
   "cell_type": "code",
   "outputs": [],
   "source": [
    "#load data\n",
    "def loadingdata(folderpath):\n",
    "    datalist = []\n",
    "    labels = []\n",
    "    \n",
    "    for file in os.listdir(folderpath):\n",
    "        if file.endswith(\".txt\"):\n",
    "            datalist.append(file)\n",
    "                \n",
    "    for file in os.listdir(folderpath):\n",
    "        if file.find('en'):\n",
    "            labels.append('en')\n",
    "        elif file.find('fr'):\n",
    "            labels.append('fr')\n",
    "        elif file.find('id'):\n",
    "            labels.append('id')\n",
    "        elif file.find('tl'):\n",
    "            labels.append('tl')\n",
    "            \n",
    "    return datalist, labels"
   ],
   "metadata": {
    "collapsed": false,
    "ExecuteTime": {
     "end_time": "2024-03-21T10:52:40.727272Z",
     "start_time": "2024-03-21T10:52:40.718301Z"
    }
   },
   "id": "9142796c0fe818b4",
   "execution_count": 7
  },
  {
   "cell_type": "code",
   "outputs": [],
   "source": [
    "trainpath = '../datas/240321. assignment/train/'\n",
    "testpath = '../datas/240321. assignment/test/'\n",
    "\n",
    "trainlabels = loadingdata(trainpath)\n",
    "testlabels = loadingdata(testpath)"
   ],
   "metadata": {
    "collapsed": false,
    "ExecuteTime": {
     "end_time": "2024-03-21T10:52:43.833062Z",
     "start_time": "2024-03-21T10:52:43.813126Z"
    }
   },
   "id": "8a8ad33decbb88f0",
   "execution_count": 8
  },
  {
   "cell_type": "code",
   "outputs": [],
   "source": [
    "#train data\n",
    "for i in range(len(trainlabels[0])):\n",
    "    with open(trainpath + trainlabels[0][i], 'r', encoding='utf-8') as f:\n",
    "        train_data = f.read().split('\\n')\n",
    "        train_data = pd.DataFrame(train_data, columns=['text'])"
   ],
   "metadata": {
    "collapsed": false,
    "ExecuteTime": {
     "end_time": "2024-03-21T10:58:36.643861Z",
     "start_time": "2024-03-21T10:58:36.622925Z"
    }
   },
   "id": "4e62a45eafc4154a",
   "execution_count": 17
  },
  {
   "cell_type": "code",
   "outputs": [],
   "source": [
    "#test data\n",
    "\n",
    "for i in range(len(testlabels[0])):\n",
    "    with open(testpath + testlabels[0][i], 'r', encoding='utf-8') as f:\n",
    "        test_data = f.read().split('\\n')\n",
    "        test_data = pd.DataFrame(test_data,columns=['text'])"
   ],
   "metadata": {
    "collapsed": false,
    "ExecuteTime": {
     "end_time": "2024-03-21T10:59:11.994605Z",
     "start_time": "2024-03-21T10:59:11.981646Z"
    }
   },
   "id": "d07ba760964b4eb1",
   "execution_count": 18
  },
  {
   "cell_type": "code",
   "outputs": [],
   "source": [
    "train_data.to_csv('../datas/240321. assignment/train_data.csv', index=False)\n",
    "test_data.to_csv('../datas/240321. assignment/test_data.csv', index=False)"
   ],
   "metadata": {
    "collapsed": false,
    "ExecuteTime": {
     "end_time": "2024-03-21T10:59:17.391378Z",
     "start_time": "2024-03-21T10:59:17.368448Z"
    }
   },
   "id": "88f36177673eeddd",
   "execution_count": 19
  },
  {
   "cell_type": "code",
   "outputs": [],
   "source": [
    "train = pd.read_csv('../datas/240321. assignment/train_data.csv')\n",
    "test = pd.read_csv('../datas/240321. assignment/test_data.csv')"
   ],
   "metadata": {
    "collapsed": false,
    "ExecuteTime": {
     "end_time": "2024-03-21T11:00:43.830546Z",
     "start_time": "2024-03-21T11:00:43.813604Z"
    }
   },
   "id": "bf1ed779c2e01091",
   "execution_count": 20
  },
  {
   "cell_type": "code",
   "outputs": [
    {
     "data": {
      "text/plain": "                                         text\n0                                         NaN\n1  Nengneng met so: Pangasinan (panpalinewan)\n2                                         NaN\n3                                         NaN\n4                                         NaN",
      "text/html": "<div>\n<style scoped>\n    .dataframe tbody tr th:only-of-type {\n        vertical-align: middle;\n    }\n\n    .dataframe tbody tr th {\n        vertical-align: top;\n    }\n\n    .dataframe thead th {\n        text-align: right;\n    }\n</style>\n<table border=\"1\" class=\"dataframe\">\n  <thead>\n    <tr style=\"text-align: right;\">\n      <th></th>\n      <th>text</th>\n    </tr>\n  </thead>\n  <tbody>\n    <tr>\n      <th>0</th>\n      <td>NaN</td>\n    </tr>\n    <tr>\n      <th>1</th>\n      <td>Nengneng met so: Pangasinan (panpalinewan)</td>\n    </tr>\n    <tr>\n      <th>2</th>\n      <td>NaN</td>\n    </tr>\n    <tr>\n      <th>3</th>\n      <td>NaN</td>\n    </tr>\n    <tr>\n      <th>4</th>\n      <td>NaN</td>\n    </tr>\n  </tbody>\n</table>\n</div>"
     },
     "execution_count": 22,
     "metadata": {},
     "output_type": "execute_result"
    }
   ],
   "source": [
    "train.head()"
   ],
   "metadata": {
    "collapsed": false,
    "ExecuteTime": {
     "end_time": "2024-03-21T11:01:54.901235Z",
     "start_time": "2024-03-21T11:01:54.885494Z"
    }
   },
   "id": "c80879e6c4c7b2a4",
   "execution_count": 22
  },
  {
   "cell_type": "code",
   "outputs": [
    {
     "data": {
      "text/plain": "                                           text\n0                                           NaN\n1    Nengneng met so: Pangasinan (panpalinewan)\n2                                           NaN\n3                                           NaN\n4                                           NaN\n..                                          ...\n270                                         NaN\n271                                         NaN\n272                                         NaN\n273                                         NaN\n274                                         NaN\n\n[275 rows x 1 columns]",
      "text/html": "<div>\n<style scoped>\n    .dataframe tbody tr th:only-of-type {\n        vertical-align: middle;\n    }\n\n    .dataframe tbody tr th {\n        vertical-align: top;\n    }\n\n    .dataframe thead th {\n        text-align: right;\n    }\n</style>\n<table border=\"1\" class=\"dataframe\">\n  <thead>\n    <tr style=\"text-align: right;\">\n      <th></th>\n      <th>text</th>\n    </tr>\n  </thead>\n  <tbody>\n    <tr>\n      <th>0</th>\n      <td>NaN</td>\n    </tr>\n    <tr>\n      <th>1</th>\n      <td>Nengneng met so: Pangasinan (panpalinewan)</td>\n    </tr>\n    <tr>\n      <th>2</th>\n      <td>NaN</td>\n    </tr>\n    <tr>\n      <th>3</th>\n      <td>NaN</td>\n    </tr>\n    <tr>\n      <th>4</th>\n      <td>NaN</td>\n    </tr>\n    <tr>\n      <th>...</th>\n      <td>...</td>\n    </tr>\n    <tr>\n      <th>270</th>\n      <td>NaN</td>\n    </tr>\n    <tr>\n      <th>271</th>\n      <td>NaN</td>\n    </tr>\n    <tr>\n      <th>272</th>\n      <td>NaN</td>\n    </tr>\n    <tr>\n      <th>273</th>\n      <td>NaN</td>\n    </tr>\n    <tr>\n      <th>274</th>\n      <td>NaN</td>\n    </tr>\n  </tbody>\n</table>\n<p>275 rows × 1 columns</p>\n</div>"
     },
     "execution_count": 23,
     "metadata": {},
     "output_type": "execute_result"
    }
   ],
   "source": [
    "train"
   ],
   "metadata": {
    "collapsed": false,
    "ExecuteTime": {
     "end_time": "2024-03-21T11:01:59.620906Z",
     "start_time": "2024-03-21T11:01:59.600020Z"
    }
   },
   "id": "ba49cff3fa067465",
   "execution_count": 23
  },
  {
   "cell_type": "code",
   "outputs": [
    {
     "data": {
      "text/plain": "         text\n0         NaN\n1  Apple Inc.\n2         NaN\n3         NaN\n4         NaN",
      "text/html": "<div>\n<style scoped>\n    .dataframe tbody tr th:only-of-type {\n        vertical-align: middle;\n    }\n\n    .dataframe tbody tr th {\n        vertical-align: top;\n    }\n\n    .dataframe thead th {\n        text-align: right;\n    }\n</style>\n<table border=\"1\" class=\"dataframe\">\n  <thead>\n    <tr style=\"text-align: right;\">\n      <th></th>\n      <th>text</th>\n    </tr>\n  </thead>\n  <tbody>\n    <tr>\n      <th>0</th>\n      <td>NaN</td>\n    </tr>\n    <tr>\n      <th>1</th>\n      <td>Apple Inc.</td>\n    </tr>\n    <tr>\n      <th>2</th>\n      <td>NaN</td>\n    </tr>\n    <tr>\n      <th>3</th>\n      <td>NaN</td>\n    </tr>\n    <tr>\n      <th>4</th>\n      <td>NaN</td>\n    </tr>\n  </tbody>\n</table>\n</div>"
     },
     "execution_count": 24,
     "metadata": {},
     "output_type": "execute_result"
    }
   ],
   "source": [
    "test.head()"
   ],
   "metadata": {
    "collapsed": false,
    "ExecuteTime": {
     "end_time": "2024-03-21T11:02:10.352373Z",
     "start_time": "2024-03-21T11:02:10.334096Z"
    }
   },
   "id": "d27fd0d8bff6586f",
   "execution_count": 24
  },
  {
   "cell_type": "code",
   "outputs": [
    {
     "data": {
      "text/plain": "(275, 1)"
     },
     "execution_count": 25,
     "metadata": {},
     "output_type": "execute_result"
    }
   ],
   "source": [
    "train.shape"
   ],
   "metadata": {
    "collapsed": false,
    "ExecuteTime": {
     "end_time": "2024-03-21T11:04:39.412446Z",
     "start_time": "2024-03-21T11:04:39.405470Z"
    }
   },
   "id": "f5ad3215e64c5c7b",
   "execution_count": 25
  },
  {
   "cell_type": "code",
   "outputs": [
    {
     "data": {
      "text/plain": "(73, 1)"
     },
     "execution_count": 26,
     "metadata": {},
     "output_type": "execute_result"
    }
   ],
   "source": [
    "test.shape"
   ],
   "metadata": {
    "collapsed": false,
    "ExecuteTime": {
     "end_time": "2024-03-21T11:04:42.983175Z",
     "start_time": "2024-03-21T11:04:42.969932Z"
    }
   },
   "id": "8225683e9911ec03",
   "execution_count": 26
  },
  {
   "cell_type": "code",
   "outputs": [
    {
     "data": {
      "text/plain": "text    77\ndtype: int64"
     },
     "execution_count": 27,
     "metadata": {},
     "output_type": "execute_result"
    }
   ],
   "source": [
    "train.isnull().sum()"
   ],
   "metadata": {
    "collapsed": false,
    "ExecuteTime": {
     "end_time": "2024-03-21T11:04:48.411310Z",
     "start_time": "2024-03-21T11:04:48.403173Z"
    }
   },
   "id": "127418c4e7bbdc30",
   "execution_count": 27
  },
  {
   "cell_type": "code",
   "outputs": [
    {
     "data": {
      "text/plain": "text    41\ndtype: int64"
     },
     "execution_count": 28,
     "metadata": {},
     "output_type": "execute_result"
    }
   ],
   "source": [
    "test.isnull().sum()"
   ],
   "metadata": {
    "collapsed": false,
    "ExecuteTime": {
     "end_time": "2024-03-21T11:04:51.290149Z",
     "start_time": "2024-03-21T11:04:51.278188Z"
    }
   },
   "id": "5f64fb9fead79a75",
   "execution_count": 28
  },
  {
   "cell_type": "code",
   "outputs": [
    {
     "name": "stdout",
     "output_type": "stream",
     "text": [
      "<class 'pandas.core.frame.DataFrame'>\n",
      "RangeIndex: 275 entries, 0 to 274\n",
      "Data columns (total 1 columns):\n",
      " #   Column  Non-Null Count  Dtype \n",
      "---  ------  --------------  ----- \n",
      " 0   text    198 non-null    object\n",
      "dtypes: object(1)\n",
      "memory usage: 2.3+ KB\n"
     ]
    }
   ],
   "source": [
    "train.info()"
   ],
   "metadata": {
    "collapsed": false,
    "ExecuteTime": {
     "end_time": "2024-03-21T11:04:54.530509Z",
     "start_time": "2024-03-21T11:04:54.510574Z"
    }
   },
   "id": "ae8c2e8b48bd4547",
   "execution_count": 29
  },
  {
   "cell_type": "code",
   "outputs": [
    {
     "name": "stdout",
     "output_type": "stream",
     "text": [
      "<class 'pandas.core.frame.DataFrame'>\n",
      "RangeIndex: 73 entries, 0 to 72\n",
      "Data columns (total 1 columns):\n",
      " #   Column  Non-Null Count  Dtype \n",
      "---  ------  --------------  ----- \n",
      " 0   text    32 non-null     object\n",
      "dtypes: object(1)\n",
      "memory usage: 712.0+ bytes\n"
     ]
    }
   ],
   "source": [
    "test.info()"
   ],
   "metadata": {
    "collapsed": false,
    "ExecuteTime": {
     "end_time": "2024-03-21T11:04:56.955308Z",
     "start_time": "2024-03-21T11:04:56.940354Z"
    }
   },
   "id": "157585f17c938e70",
   "execution_count": 30
  },
  {
   "cell_type": "code",
   "outputs": [
    {
     "data": {
      "text/plain": "                                              text\ncount                                          198\nunique                                         198\ntop     Nengneng met so: Pangasinan (panpalinewan)\nfreq                                             1",
      "text/html": "<div>\n<style scoped>\n    .dataframe tbody tr th:only-of-type {\n        vertical-align: middle;\n    }\n\n    .dataframe tbody tr th {\n        vertical-align: top;\n    }\n\n    .dataframe thead th {\n        text-align: right;\n    }\n</style>\n<table border=\"1\" class=\"dataframe\">\n  <thead>\n    <tr style=\"text-align: right;\">\n      <th></th>\n      <th>text</th>\n    </tr>\n  </thead>\n  <tbody>\n    <tr>\n      <th>count</th>\n      <td>198</td>\n    </tr>\n    <tr>\n      <th>unique</th>\n      <td>198</td>\n    </tr>\n    <tr>\n      <th>top</th>\n      <td>Nengneng met so: Pangasinan (panpalinewan)</td>\n    </tr>\n    <tr>\n      <th>freq</th>\n      <td>1</td>\n    </tr>\n  </tbody>\n</table>\n</div>"
     },
     "execution_count": 31,
     "metadata": {},
     "output_type": "execute_result"
    }
   ],
   "source": [
    "train.describe()"
   ],
   "metadata": {
    "collapsed": false,
    "ExecuteTime": {
     "end_time": "2024-03-21T11:04:59.735333Z",
     "start_time": "2024-03-21T11:04:59.718388Z"
    }
   },
   "id": "5898ecf075449d9e",
   "execution_count": 31
  },
  {
   "cell_type": "code",
   "outputs": [
    {
     "data": {
      "text/plain": "              text\ncount           32\nunique          32\ntop     Apple Inc.\nfreq             1",
      "text/html": "<div>\n<style scoped>\n    .dataframe tbody tr th:only-of-type {\n        vertical-align: middle;\n    }\n\n    .dataframe tbody tr th {\n        vertical-align: top;\n    }\n\n    .dataframe thead th {\n        text-align: right;\n    }\n</style>\n<table border=\"1\" class=\"dataframe\">\n  <thead>\n    <tr style=\"text-align: right;\">\n      <th></th>\n      <th>text</th>\n    </tr>\n  </thead>\n  <tbody>\n    <tr>\n      <th>count</th>\n      <td>32</td>\n    </tr>\n    <tr>\n      <th>unique</th>\n      <td>32</td>\n    </tr>\n    <tr>\n      <th>top</th>\n      <td>Apple Inc.</td>\n    </tr>\n    <tr>\n      <th>freq</th>\n      <td>1</td>\n    </tr>\n  </tbody>\n</table>\n</div>"
     },
     "execution_count": 32,
     "metadata": {},
     "output_type": "execute_result"
    }
   ],
   "source": [
    "test.describe()"
   ],
   "metadata": {
    "collapsed": false,
    "ExecuteTime": {
     "end_time": "2024-03-21T11:05:02.164955Z",
     "start_time": "2024-03-21T11:05:02.141032Z"
    }
   },
   "id": "e4db1748d9e31076",
   "execution_count": 32
  },
  {
   "cell_type": "code",
   "outputs": [
    {
     "data": {
      "text/plain": "text    77\ndtype: int64"
     },
     "execution_count": 33,
     "metadata": {},
     "output_type": "execute_result"
    }
   ],
   "source": [
    "train.isnull().sum()"
   ],
   "metadata": {
    "collapsed": false,
    "ExecuteTime": {
     "end_time": "2024-03-21T11:05:06.230750Z",
     "start_time": "2024-03-21T11:05:06.210816Z"
    }
   },
   "id": "f0430a7c714b98e",
   "execution_count": 33
  },
  {
   "cell_type": "code",
   "outputs": [
    {
     "data": {
      "text/plain": "text    41\ndtype: int64"
     },
     "execution_count": 34,
     "metadata": {},
     "output_type": "execute_result"
    }
   ],
   "source": [
    "test.isnull().sum()"
   ],
   "metadata": {
    "collapsed": false,
    "ExecuteTime": {
     "end_time": "2024-03-21T11:05:08.826009Z",
     "start_time": "2024-03-21T11:05:08.817617Z"
    }
   },
   "id": "e819f90d4e91641a",
   "execution_count": 34
  },
  {
   "cell_type": "code",
   "outputs": [],
   "source": [],
   "metadata": {
    "collapsed": false,
    "ExecuteTime": {
     "end_time": "2024-03-21T11:05:09.011437Z",
     "start_time": "2024-03-21T11:05:08.997793Z"
    }
   },
   "id": "9647507e91260739",
   "execution_count": 34
  },
  {
   "cell_type": "code",
   "outputs": [],
   "source": [
    "train.dropna(inplace=True)\n",
    "test.dropna(inplace=True)\n"
   ],
   "metadata": {
    "collapsed": false,
    "ExecuteTime": {
     "end_time": "2024-03-21T11:05:19.456464Z",
     "start_time": "2024-03-21T11:05:19.448491Z"
    }
   },
   "id": "80ee6b0fde390ae2",
   "execution_count": 35
  },
  {
   "cell_type": "code",
   "outputs": [
    {
     "data": {
      "text/plain": "text    0\ndtype: int64"
     },
     "execution_count": 36,
     "metadata": {},
     "output_type": "execute_result"
    }
   ],
   "source": [
    "train.isnull().sum()"
   ],
   "metadata": {
    "collapsed": false,
    "ExecuteTime": {
     "end_time": "2024-03-21T11:05:22.704095Z",
     "start_time": "2024-03-21T11:05:22.692620Z"
    }
   },
   "id": "4979e6783e4ec08d",
   "execution_count": 36
  },
  {
   "cell_type": "code",
   "outputs": [
    {
     "data": {
      "text/plain": "text    0\ndtype: int64"
     },
     "execution_count": 37,
     "metadata": {},
     "output_type": "execute_result"
    }
   ],
   "source": [
    "test.isnull().sum()"
   ],
   "metadata": {
    "collapsed": false,
    "ExecuteTime": {
     "end_time": "2024-03-21T11:05:26.567199Z",
     "start_time": "2024-03-21T11:05:26.547266Z"
    }
   },
   "id": "e66f60518a93df33",
   "execution_count": 37
  },
  {
   "cell_type": "code",
   "outputs": [
    {
     "data": {
      "text/plain": "                                                text\n1         Nengneng met so: Pangasinan (panpalinewan)\n5  Say Pangasinan et unaan ya klase luyag na Rehi...\n6  Walay kabaleg tan sukat to ya 5,451.01 kilomet...\n7  Say salitan Pangasinan so kumasakey ya salita ...\n8  Say ngaran ya Pangasinan so labay ton ibaga da...",
      "text/html": "<div>\n<style scoped>\n    .dataframe tbody tr th:only-of-type {\n        vertical-align: middle;\n    }\n\n    .dataframe tbody tr th {\n        vertical-align: top;\n    }\n\n    .dataframe thead th {\n        text-align: right;\n    }\n</style>\n<table border=\"1\" class=\"dataframe\">\n  <thead>\n    <tr style=\"text-align: right;\">\n      <th></th>\n      <th>text</th>\n    </tr>\n  </thead>\n  <tbody>\n    <tr>\n      <th>1</th>\n      <td>Nengneng met so: Pangasinan (panpalinewan)</td>\n    </tr>\n    <tr>\n      <th>5</th>\n      <td>Say Pangasinan et unaan ya klase luyag na Rehi...</td>\n    </tr>\n    <tr>\n      <th>6</th>\n      <td>Walay kabaleg tan sukat to ya 5,451.01 kilomet...</td>\n    </tr>\n    <tr>\n      <th>7</th>\n      <td>Say salitan Pangasinan so kumasakey ya salita ...</td>\n    </tr>\n    <tr>\n      <th>8</th>\n      <td>Say ngaran ya Pangasinan so labay ton ibaga da...</td>\n    </tr>\n  </tbody>\n</table>\n</div>"
     },
     "execution_count": 38,
     "metadata": {},
     "output_type": "execute_result"
    }
   ],
   "source": [
    "train.head()"
   ],
   "metadata": {
    "collapsed": false,
    "ExecuteTime": {
     "end_time": "2024-03-21T11:05:30.478116Z",
     "start_time": "2024-03-21T11:05:30.468150Z"
    }
   },
   "id": "d153b019c705a228",
   "execution_count": 38
  },
  {
   "cell_type": "code",
   "outputs": [
    {
     "data": {
      "text/plain": "                                                 text\n1                                          Apple Inc.\n7   Apple Campus (1 Infinite Loop, Cupertino, Cali...\n11                                                Uri\n12                          Pampubliko (NASDAQ: AAPL)\n15                                         Industriya",
      "text/html": "<div>\n<style scoped>\n    .dataframe tbody tr th:only-of-type {\n        vertical-align: middle;\n    }\n\n    .dataframe tbody tr th {\n        vertical-align: top;\n    }\n\n    .dataframe thead th {\n        text-align: right;\n    }\n</style>\n<table border=\"1\" class=\"dataframe\">\n  <thead>\n    <tr style=\"text-align: right;\">\n      <th></th>\n      <th>text</th>\n    </tr>\n  </thead>\n  <tbody>\n    <tr>\n      <th>1</th>\n      <td>Apple Inc.</td>\n    </tr>\n    <tr>\n      <th>7</th>\n      <td>Apple Campus (1 Infinite Loop, Cupertino, Cali...</td>\n    </tr>\n    <tr>\n      <th>11</th>\n      <td>Uri</td>\n    </tr>\n    <tr>\n      <th>12</th>\n      <td>Pampubliko (NASDAQ: AAPL)</td>\n    </tr>\n    <tr>\n      <th>15</th>\n      <td>Industriya</td>\n    </tr>\n  </tbody>\n</table>\n</div>"
     },
     "execution_count": 39,
     "metadata": {},
     "output_type": "execute_result"
    }
   ],
   "source": [
    "test.head()"
   ],
   "metadata": {
    "collapsed": false,
    "ExecuteTime": {
     "end_time": "2024-03-21T11:05:34.986312Z",
     "start_time": "2024-03-21T11:05:34.969640Z"
    }
   },
   "id": "b47fb25f0cb34d41",
   "execution_count": 39
  },
  {
   "cell_type": "code",
   "outputs": [],
   "source": [
    "train.to_csv('../datas/240321. assignment/train_data.csv', index=False)\n",
    "test.to_csv('../datas/240321. assignment/test_data.csv', index=False)\n"
   ],
   "metadata": {
    "collapsed": false,
    "ExecuteTime": {
     "end_time": "2024-03-21T11:05:46.899763Z",
     "start_time": "2024-03-21T11:05:46.889794Z"
    }
   },
   "id": "8753c3dd2f9c8100",
   "execution_count": 40
  },
  {
   "cell_type": "code",
   "outputs": [],
   "source": [
    "train = pd.read_csv('../datas/240321. assignment/train_data.csv')"
   ],
   "metadata": {
    "collapsed": false,
    "ExecuteTime": {
     "end_time": "2024-03-21T11:05:52.190342Z",
     "start_time": "2024-03-21T11:05:52.169794Z"
    }
   },
   "id": "1c1c87025f65a97d",
   "execution_count": 41
  },
  {
   "cell_type": "code",
   "outputs": [],
   "source": [
    "test = pd.read_csv('../datas/240321. assignment/test_data.csv')"
   ],
   "metadata": {
    "collapsed": false,
    "ExecuteTime": {
     "end_time": "2024-03-21T11:05:55.134726Z",
     "start_time": "2024-03-21T11:05:55.121896Z"
    }
   },
   "id": "a6d434e046164017",
   "execution_count": 42
  },
  {
   "cell_type": "code",
   "outputs": [
    {
     "data": {
      "text/plain": "                                                text\n0         Nengneng met so: Pangasinan (panpalinewan)\n1  Say Pangasinan et unaan ya klase luyag na Rehi...\n2  Walay kabaleg tan sukat to ya 5,451.01 kilomet...\n3  Say salitan Pangasinan so kumasakey ya salita ...\n4  Say ngaran ya Pangasinan so labay ton ibaga da...",
      "text/html": "<div>\n<style scoped>\n    .dataframe tbody tr th:only-of-type {\n        vertical-align: middle;\n    }\n\n    .dataframe tbody tr th {\n        vertical-align: top;\n    }\n\n    .dataframe thead th {\n        text-align: right;\n    }\n</style>\n<table border=\"1\" class=\"dataframe\">\n  <thead>\n    <tr style=\"text-align: right;\">\n      <th></th>\n      <th>text</th>\n    </tr>\n  </thead>\n  <tbody>\n    <tr>\n      <th>0</th>\n      <td>Nengneng met so: Pangasinan (panpalinewan)</td>\n    </tr>\n    <tr>\n      <th>1</th>\n      <td>Say Pangasinan et unaan ya klase luyag na Rehi...</td>\n    </tr>\n    <tr>\n      <th>2</th>\n      <td>Walay kabaleg tan sukat to ya 5,451.01 kilomet...</td>\n    </tr>\n    <tr>\n      <th>3</th>\n      <td>Say salitan Pangasinan so kumasakey ya salita ...</td>\n    </tr>\n    <tr>\n      <th>4</th>\n      <td>Say ngaran ya Pangasinan so labay ton ibaga da...</td>\n    </tr>\n  </tbody>\n</table>\n</div>"
     },
     "execution_count": 43,
     "metadata": {},
     "output_type": "execute_result"
    }
   ],
   "source": [
    "train.head()"
   ],
   "metadata": {
    "collapsed": false,
    "ExecuteTime": {
     "end_time": "2024-03-21T11:05:59.582814Z",
     "start_time": "2024-03-21T11:05:59.568862Z"
    }
   },
   "id": "a3ba41f0e2a8cd1b",
   "execution_count": 43
  },
  {
   "cell_type": "code",
   "outputs": [
    {
     "data": {
      "text/plain": "                                                text\n0                                         Apple Inc.\n1  Apple Campus (1 Infinite Loop, Cupertino, Cali...\n2                                                Uri\n3                          Pampubliko (NASDAQ: AAPL)\n4                                         Industriya",
      "text/html": "<div>\n<style scoped>\n    .dataframe tbody tr th:only-of-type {\n        vertical-align: middle;\n    }\n\n    .dataframe tbody tr th {\n        vertical-align: top;\n    }\n\n    .dataframe thead th {\n        text-align: right;\n    }\n</style>\n<table border=\"1\" class=\"dataframe\">\n  <thead>\n    <tr style=\"text-align: right;\">\n      <th></th>\n      <th>text</th>\n    </tr>\n  </thead>\n  <tbody>\n    <tr>\n      <th>0</th>\n      <td>Apple Inc.</td>\n    </tr>\n    <tr>\n      <th>1</th>\n      <td>Apple Campus (1 Infinite Loop, Cupertino, Cali...</td>\n    </tr>\n    <tr>\n      <th>2</th>\n      <td>Uri</td>\n    </tr>\n    <tr>\n      <th>3</th>\n      <td>Pampubliko (NASDAQ: AAPL)</td>\n    </tr>\n    <tr>\n      <th>4</th>\n      <td>Industriya</td>\n    </tr>\n  </tbody>\n</table>\n</div>"
     },
     "execution_count": 44,
     "metadata": {},
     "output_type": "execute_result"
    }
   ],
   "source": [
    "test.head()"
   ],
   "metadata": {
    "collapsed": false,
    "ExecuteTime": {
     "end_time": "2024-03-21T11:06:04.022417Z",
     "start_time": "2024-03-21T11:06:04.001484Z"
    }
   },
   "id": "7ce19691332af306",
   "execution_count": 44
  },
  {
   "cell_type": "code",
   "outputs": [],
   "source": [],
   "metadata": {
    "collapsed": false
   },
   "id": "25dd9ed35153c27c"
  }
 ],
 "metadata": {
  "kernelspec": {
   "display_name": "Python 3",
   "language": "python",
   "name": "python3"
  },
  "language_info": {
   "codemirror_mode": {
    "name": "ipython",
    "version": 2
   },
   "file_extension": ".py",
   "mimetype": "text/x-python",
   "name": "python",
   "nbconvert_exporter": "python",
   "pygments_lexer": "ipython2",
   "version": "2.7.6"
  }
 },
 "nbformat": 4,
 "nbformat_minor": 5
}
