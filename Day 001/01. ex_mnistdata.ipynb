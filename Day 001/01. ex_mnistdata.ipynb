{
 "cells": [
  {
   "cell_type": "markdown",
   "source": [
    "### 이미지 로데이터 파일에서 데이터 추출하기"
   ],
   "metadata": {
    "collapsed": false
   },
   "id": "8b1ec4491cff9912"
  },
  {
   "cell_type": "code",
   "outputs": [],
   "source": [
    "# [ 1 ]. 파일 입출력 방식\n",
    "# with open () as ~\n",
    "\n",
    "filepath = '../datas/t10k-images.idx3-ubyte'"
   ],
   "metadata": {
    "collapsed": false,
    "ExecuteTime": {
     "end_time": "2024-03-21T01:41:27.680843Z",
     "start_time": "2024-03-21T01:41:27.674852Z"
    }
   },
   "id": "bc3a8e806e5b8591",
   "execution_count": 3
  },
  {
   "cell_type": "code",
   "outputs": [],
   "source": [
    "#파일 읽을 때 고려 사항: mode(br) : 바이트 읽기\n",
    "with open(filepath, mode='br')as file:\n",
    "    alldata = file.read()"
   ],
   "metadata": {
    "collapsed": false,
    "ExecuteTime": {
     "end_time": "2024-03-21T01:41:28.055494Z",
     "start_time": "2024-03-21T01:41:28.035239Z"
    }
   },
   "id": "3ee862cdd7237706",
   "execution_count": 4
  },
  {
   "cell_type": "code",
   "outputs": [
    {
     "name": "stdout",
     "output_type": "stream",
     "text": [
      "<class 'bytes'> 7840016\n"
     ]
    }
   ],
   "source": [
    "print(type(alldata), len(alldata))"
   ],
   "metadata": {
    "collapsed": false,
    "ExecuteTime": {
     "end_time": "2024-03-21T01:42:51.986708Z",
     "start_time": "2024-03-21T01:42:51.977738Z"
    }
   },
   "id": "6e2fc6ed4dc87776",
   "execution_count": 8
  },
  {
   "cell_type": "code",
   "outputs": [
    {
     "name": "stdout",
     "output_type": "stream",
     "text": [
      "b\"\\x00\\x00\\x08\\x03\\x00\\x00'\\x10\\x00\\x00\"\n"
     ]
    }
   ],
   "source": [
    "print(alldata[:10])\n"
   ],
   "metadata": {
    "collapsed": false,
    "ExecuteTime": {
     "end_time": "2024-03-21T01:43:13.594966Z",
     "start_time": "2024-03-21T01:43:13.576028Z"
    }
   },
   "id": "af00d78d5d5154a1",
   "execution_count": 9
  },
  {
   "cell_type": "code",
   "outputs": [
    {
     "name": "stdout",
     "output_type": "stream",
     "text": [
      "b'\\x00\\x00\\x08\\x03'\n",
      "b\"\\x00\\x00'\\x10\"\n",
      "b'\\x00\\x00\\x00\\x1c'\n",
      "b'\\x00\\x00\\x00\\x1c'\n"
     ]
    }
   ],
   "source": [
    "#파일 읽을 때 고려 사항: mode(br) : 바이트 읽기\n",
    "with open(filepath, mode='br')as file:\n",
    "    magic_code = file.read(4)\n",
    "    print(magic_code)\n",
    "    data_length = file.read(4)\n",
    "    print(data_length)\n",
    "    row = file.read(4)\n",
    "    print(row)\n",
    "    col = file.read(4)\n",
    "    print(col)"
   ],
   "metadata": {
    "collapsed": false,
    "ExecuteTime": {
     "end_time": "2024-03-21T01:57:44.748824Z",
     "start_time": "2024-03-21T01:57:44.735675Z"
    }
   },
   "id": "e0d4fd139bbe219d",
   "execution_count": 13
  },
  {
   "cell_type": "code",
   "outputs": [
    {
     "data": {
      "text/plain": "'0000001c'"
     },
     "execution_count": 14,
     "metadata": {},
     "output_type": "execute_result"
    }
   ],
   "source": [
    "# 바이트 -> 알아볼 수 있는 문자로\n",
    "\n",
    "row.hex()"
   ],
   "metadata": {
    "collapsed": false,
    "ExecuteTime": {
     "end_time": "2024-03-21T01:57:56.375267Z",
     "start_time": "2024-03-21T01:57:56.356330Z"
    }
   },
   "id": "5bf57337c4085892",
   "execution_count": 14
  },
  {
   "cell_type": "markdown",
   "source": [
    "[2 ]  파이썬의 byte 데이터 변환 모듈 struct 활용하기 <hr>"
   ],
   "metadata": {
    "collapsed": false
   },
   "id": "58cfdb37c50ca137"
  },
  {
   "cell_type": "code",
   "outputs": [],
   "source": [
    "## 모듈 로딩\n",
    "import struct\n",
    "import os"
   ],
   "metadata": {
    "collapsed": false,
    "ExecuteTime": {
     "end_time": "2024-03-21T04:28:46.015427Z",
     "start_time": "2024-03-21T04:28:45.999340Z"
    }
   },
   "id": "17df42bc31be6f2f",
   "execution_count": 19
  },
  {
   "cell_type": "code",
   "outputs": [],
   "source": [
    "### 데이터 추출 및 저장 관련 변수\n",
    "# 학습용 : train.csv\n",
    "# 테스트용 : test.csv\n",
    "# 위치 : ../datas/csv/\n",
    "\n",
    "datadir = '../datas/csv/'\n",
    "trainfile = datadir + 'train.csv'\n",
    "testfile = datadir + 'test.csv'"
   ],
   "metadata": {
    "collapsed": false,
    "ExecuteTime": {
     "end_time": "2024-03-21T04:28:46.466258Z",
     "start_time": "2024-03-21T04:28:46.460064Z"
    }
   },
   "id": "504daee680f3bcf",
   "execution_count": 20
  },
  {
   "cell_type": "code",
   "outputs": [],
   "source": [
    "# 사용자 정의 함수======================================\n",
    "## 기능: raw data 파일을 읽어서 csv 파일로 저장\n",
    "## 함수명: to_csv\n",
    "## 매개변수: 파일이름, 데이터 수\n",
    "## 반환 값: 파일 생성 여부(True / False)\n",
    "#=======================================================\n",
    "\n",
    "#디버깅 출력 제어 플래그 변수\n",
    "DEBUG = False\n",
    "def to_csv(filename, maxdata):\n",
    "    #data\n",
    "    #label, image file open\n",
    "    labelfile = open('../datas/csv/'+filename+'-labels.idx1-ubyte', 'rb') #rb = read_binary\n",
    "    imagefile = open('../datas/csv/'+filename+'-images.idx3-ubyte', 'rb') #rb = read_binary\n",
    "    \n",
    "    #tocsv\n",
    "    csv_f = open('../datas/csv/'+filename+'.csv','w',encoding='utf-8')\n",
    "    \n",
    "    #read header info\n",
    "    mag, lblcount = struct.unpack(\">II\", labelfile.read(8))# magic code + label quantity\n",
    "    mag, imgcoumt = struct.unpack(\">II\", imagefile.read(8))#magic code +image quantity\n",
    "    rows, cols = struct.unpack('>II', imagefile.read(8)) # rows, cols count\n",
    "    pxls = rows * cols\n",
    "    \n",
    "    if DEBUG:\n",
    "        print('lblcount{},imgcount{}'.format(lblcount,imgcoumt))\n",
    "        print('rows{}, cols{}'.format(rows, cols))\n",
    "        \n",
    "    #read image data & convert to csv\n",
    "    res = []\n",
    "    for idx in range(lblcount):\n",
    "        if idx>maxdata : break\n",
    "        \n",
    "        #number id data value reading\n",
    "        #tuple-> single data return(value)\n",
    "        \n",
    "        lable = struct.unpack('B',labelfile.read(1))[0]\n",
    "        if DEBUG: print('label->{}'.format(lable))\n",
    "        \n",
    "        #read img data\n",
    "        bdata = imagefile.read(pxls)\n",
    "        sdata = list(map(lambda n:str(n),bdata))#to str\n",
    "        if DEBUG: print('sdata={}.'.format(sdata))\n",
    "        \n",
    "        #write in csv file\n",
    "        csv_f.write(str(lable)+',')\n",
    "        csv_f.write(','.join(sdata)+'\\n')\n",
    "        \n",
    "    csv_f.close()\n",
    "    labelfile.close()\n",
    "    imagefile.close()\n",
    "    \n",
    "    \n",
    "    #생성된 파일 존재 여부 확인 & 반환\n",
    "    \n",
    "    return  os.path.exists(datadir+f'{filename}.csv')"
   ],
   "metadata": {
    "collapsed": false,
    "ExecuteTime": {
     "end_time": "2024-03-21T04:36:53.395521Z",
     "start_time": "2024-03-21T04:36:53.378808Z"
    }
   },
   "id": "b780e2871d48cdfc",
   "execution_count": 27
  },
  {
   "cell_type": "code",
   "outputs": [
    {
     "data": {
      "text/plain": "True"
     },
     "execution_count": 28,
     "metadata": {},
     "output_type": "execute_result"
    }
   ],
   "source": [
    "# 학습용 데이터파일 생성하기\n",
    "to_csv('train',10000)\n"
   ],
   "metadata": {
    "collapsed": false,
    "ExecuteTime": {
     "end_time": "2024-03-21T04:36:56.229135Z",
     "start_time": "2024-03-21T04:36:54.277336Z"
    }
   },
   "id": "eb458776e456446f",
   "execution_count": 28
  },
  {
   "cell_type": "code",
   "outputs": [
    {
     "data": {
      "text/plain": "True"
     },
     "execution_count": 30,
     "metadata": {},
     "output_type": "execute_result"
    }
   ],
   "source": [
    "to_csv('t10k',1000)"
   ],
   "metadata": {
    "collapsed": false,
    "ExecuteTime": {
     "end_time": "2024-03-21T04:41:42.623401Z",
     "start_time": "2024-03-21T04:41:42.441783Z"
    }
   },
   "id": "1c05ff78aa70ce13",
   "execution_count": 30
  },
  {
   "cell_type": "code",
   "outputs": [],
   "source": [
    "import pandas as pd\n",
    "import matplotlib.pyplot as plt"
   ],
   "metadata": {
    "collapsed": false,
    "ExecuteTime": {
     "end_time": "2024-03-21T04:55:02.639284Z",
     "start_time": "2024-03-21T04:55:01.341259Z"
    }
   },
   "id": "e64179b88e07da40",
   "execution_count": 31
  },
  {
   "cell_type": "markdown",
   "source": [
    "[3] 이미지 데이터 로딩 후 시각화 <hr>"
   ],
   "metadata": {
    "collapsed": false
   },
   "id": "511089a744a84524"
  },
  {
   "cell_type": "markdown",
   "source": [
    "[3 - 1] 이미지 데이터 로딩: csv -> DF or Numpy ndarray"
   ],
   "metadata": {
    "collapsed": false
   },
   "id": "aff5f2d8e0784c99"
  },
  {
   "cell_type": "code",
   "outputs": [],
   "source": [
    "train = pd.DataFrame(pd.read_csv('../datas/csv/train.csv',header=None))\n",
    "test = pd.DataFrame(pd.read_csv('../datas/csv/t10k.csv',header=None))"
   ],
   "metadata": {
    "collapsed": false,
    "ExecuteTime": {
     "end_time": "2024-03-21T04:57:41.212441Z",
     "start_time": "2024-03-21T04:57:40.470180Z"
    }
   },
   "id": "510f9599bc363e0b",
   "execution_count": 34
  },
  {
   "cell_type": "markdown",
   "source": [
    "[3 - 2] 이미지 데이터 시각화"
   ],
   "metadata": {
    "collapsed": false
   },
   "id": "7420e3f10dab045d"
  },
  {
   "cell_type": "code",
   "outputs": [
    {
     "data": {
      "text/plain": "((10001,),\n (10001, 784),\n    1    2    3    4    5    6    7    8    9    10   ...  775  776  777  778  \\\n 0    0    0    0    0    0    0    0    0    0    0  ...    0    0    0    0   \n 1    0    0    0    0    0    0    0    0    0    0  ...    0    0    0    0   \n 2    0    0    0    0    0    0    0    0    0    0  ...    0    0    0    0   \n \n    779  780  781  782  783  784  \n 0    0    0    0    0    0    0  \n 1    0    0    0    0    0    0  \n 2    0    0    0    0    0    0  \n \n [3 rows x 784 columns])"
     },
     "execution_count": 39,
     "metadata": {},
     "output_type": "execute_result"
    }
   ],
   "source": [
    "# 이미지 데이터와 라벨 분리\n",
    "labels = train[0]\n",
    "imgdata = train.iloc[:,1:]\n",
    "\n",
    "labels.shape, imgdata.shape, imgdata[:3]\n",
    "\n",
    "#plt.imshow(train.iloc[0,1:].values.reshape(28,28).astype(int),cmap='gray')"
   ],
   "metadata": {
    "collapsed": false,
    "ExecuteTime": {
     "end_time": "2024-03-21T05:14:43.538136Z",
     "start_time": "2024-03-21T05:14:43.514921Z"
    }
   },
   "id": "68f020fa13dd67a3",
   "execution_count": 39
  },
  {
   "cell_type": "code",
   "outputs": [
    {
     "data": {
      "text/plain": "(numpy.ndarray, (784,), 1)"
     },
     "execution_count": 42,
     "metadata": {},
     "output_type": "execute_result"
    }
   ],
   "source": [
    "# 1d -> 2d 이미지데이터 변환\n",
    "\n",
    "rawdata = imgdata.iloc[0].values\n",
    "type(rawdata), rawdata.shape, rawdata.ndim"
   ],
   "metadata": {
    "collapsed": false,
    "ExecuteTime": {
     "end_time": "2024-03-21T05:18:01.648261Z",
     "start_time": "2024-03-21T05:18:01.635292Z"
    }
   },
   "id": "a8bf522ff9861967",
   "execution_count": 42
  },
  {
   "cell_type": "code",
   "outputs": [
    {
     "data": {
      "text/plain": "(numpy.ndarray, (28, 28), 2)"
     },
     "execution_count": 45,
     "metadata": {},
     "output_type": "execute_result"
    }
   ],
   "source": [
    "rawdata = rawdata.reshape(-1,28) #28개의 열로 만들어주라, 행은 알아서 정해\n",
    "type(rawdata), rawdata.shape, rawdata.ndim #2d로 바뀜\n",
    "\n"
   ],
   "metadata": {
    "collapsed": false,
    "ExecuteTime": {
     "end_time": "2024-03-21T05:19:58.575638Z",
     "start_time": "2024-03-21T05:19:58.559954Z"
    }
   },
   "id": "3ca7dbb6682f57d8",
   "execution_count": 45
  },
  {
   "cell_type": "code",
   "outputs": [
    {
     "data": {
      "text/plain": "<Figure size 640x480 with 1 Axes>",
      "image/png": "[encoded data removed]"
     },
     "metadata": {},
     "output_type": "display_data"
    }
   ],
   "source": [
    "# 시각화\n",
    "plt.title([labels[0]])\n",
    "plt.imshow(rawdata,cmap='gray')\n",
    "plt.axis('off')\n",
    "plt.show()"
   ],
   "metadata": {
    "collapsed": false,
    "ExecuteTime": {
     "end_time": "2024-03-21T05:27:03.754007Z",
     "start_time": "2024-03-21T05:27:03.678381Z"
    }
   },
   "id": "501aedf55f2b0a78",
   "execution_count": 51
  },
  {
   "cell_type": "code",
   "outputs": [],
   "source": [],
   "metadata": {
    "collapsed": false
   },
   "id": "2313534691748e23"
  }
 ],
 "metadata": {
  "kernelspec": {
   "display_name": "Python 3",
   "language": "python",
   "name": "python3"
  },
  "language_info": {
   "codemirror_mode": {
    "name": "ipython",
    "version": 2
   },
   "file_extension": ".py",
   "mimetype": "text/x-python",
   "name": "python",
   "nbconvert_exporter": "python",
   "pygments_lexer": "ipython2",
   "version": "2.7.6"
  }
 },
 "nbformat": 4,
 "nbformat_minor": 5
}
