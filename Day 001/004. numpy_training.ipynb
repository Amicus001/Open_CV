{
 "cells": [
  {
   "cell_type": "code",
   "execution_count": 61,
   "id": "initial_id",
   "metadata": {
    "collapsed": true,
    "ExecuteTime": {
     "end_time": "2024-03-21T08:40:04.847495Z",
     "start_time": "2024-03-21T08:40:04.833277Z"
    }
   },
   "outputs": [],
   "source": [
    "import numpy as np"
   ]
  },
  {
   "cell_type": "code",
   "outputs": [
    {
     "name": "stdout",
     "output_type": "stream",
     "text": [
      "5\n",
      "\n",
      "[12  3]\n",
      "\n",
      "[[1 2 3]\n",
      " [4 5 6]]\n"
     ]
    }
   ],
   "source": [
    "# 객체 생성\n",
    "ar1 = np.array(5)\n",
    "ar2 = np. array([12,3])\n",
    "ar3 = np.array([[1,2,3],[4,5,6]],dtype=int)\n",
    "\n",
    "print(ar1, ar2, ar3, sep='\\n\\n')"
   ],
   "metadata": {
    "collapsed": false,
    "ExecuteTime": {
     "end_time": "2024-03-21T08:40:05.172349Z",
     "start_time": "2024-03-21T08:40:05.150967Z"
    }
   },
   "id": "5b7379e812a010ee",
   "execution_count": 62
  },
  {
   "cell_type": "code",
   "outputs": [],
   "source": [
    "#속성 프린트하기\n",
    "def printAttribute(obj, strobj):\n",
    "    print(f'======= {strobj} Attribute =======')\n",
    "    print(f'DEMENSION: {obj.ndim}')\n",
    "    print(f'SHAPE: {obj.shape}')\n",
    "    print(f'DTYPE: {obj.dtype}')\n",
    "    print(f'SIZE: {obj.size}')\n",
    "    print(f'ITEM SIZE: {obj.itemsize}')\n",
    "    print(f'DATA: {obj.data}')"
   ],
   "metadata": {
    "collapsed": false,
    "ExecuteTime": {
     "end_time": "2024-03-21T08:40:05.203662Z",
     "start_time": "2024-03-21T08:40:05.196012Z"
    }
   },
   "id": "3037c1cdcc4f0da5",
   "execution_count": 63
  },
  {
   "cell_type": "code",
   "outputs": [
    {
     "name": "stdout",
     "output_type": "stream",
     "text": [
      "======= ar3 Attribute =======\n",
      "DEMENSION: 0\n",
      "SHAPE: ()\n",
      "DTYPE: int32\n",
      "SIZE: 1\n",
      "ITEM SIZE: 4\n",
      "DATA: <memory at 0x0000027121B139A0>\n"
     ]
    }
   ],
   "source": [
    "printAttribute(ar1,'ar3')"
   ],
   "metadata": {
    "collapsed": false,
    "ExecuteTime": {
     "end_time": "2024-03-21T08:40:05.234587Z",
     "start_time": "2024-03-21T08:40:05.218345Z"
    }
   },
   "id": "9839beb1b692d659",
   "execution_count": 64
  },
  {
   "cell_type": "code",
   "outputs": [],
   "source": [
    "#메서드 알아보기\n",
    "def runAM(obj):\n",
    "    print(f'[Obj.MAX]: {obj.max()}')\n",
    "    print(f'[Obj.MIN]: {obj.min()}')\n",
    "    print(f'[OBJ.SUM]: {obj.sum()}')\n",
    "    print(f'[OBJ.CUMULATIVE SUM]: {obj.cumsum()}',sep='\\n')\n",
    "    print(f'[OBJ.MEAN]: {obj.mean()}')\n",
    "    if obj.ndim>=2:\n",
    "        print(f'[OBJ.MAX(axis=0)]: {obj.max(axis=0)}')\n",
    "        print(f'[OBJ.MAX(axis=1)]: {obj.max(axis=1)}')\n",
    "        print(f'[OBJ.SUM(axis=0)]: {obj.sum(axis=0)}')\n",
    "        print(f'[OBJ.SUM(axis=1)]: {obj.sum(axis=1)}')\n",
    "        print(f'[OBJ.MEAN(axis=0)]: {obj.mean(axis=0)}')\n",
    "        print(f'[OBJ.MEAN(acis=1]: {obj.mean(axis=1)}')"
   ],
   "metadata": {
    "collapsed": false,
    "ExecuteTime": {
     "end_time": "2024-03-21T08:40:05.281554Z",
     "start_time": "2024-03-21T08:40:05.261492Z"
    }
   },
   "id": "9d447ede15318366",
   "execution_count": 65
  },
  {
   "cell_type": "code",
   "outputs": [
    {
     "name": "stdout",
     "output_type": "stream",
     "text": [
      "[Obj.MAX]: 6\n",
      "[Obj.MIN]: 1\n",
      "[OBJ.SUM]: 21\n",
      "[OBJ.CUMULATIVE SUM]: [ 1  3  6 10 15 21]\n",
      "[OBJ.MEAN]: 3.5\n",
      "[OBJ.MAX(axis=0)]: [4 5 6]\n",
      "[OBJ.MAX(axis=1)]: [3 6]\n",
      "[OBJ.SUM(axis=0)]: [5 7 9]\n",
      "[OBJ.SUM(axis=1)]: [ 6 15]\n",
      "[OBJ.MEAN(axis=0)]: [2.5 3.5 4.5]\n",
      "[OBJ.MEAN(acis=1]: [2. 5.]\n"
     ]
    }
   ],
   "source": [
    "runAM(ar3)"
   ],
   "metadata": {
    "collapsed": false,
    "ExecuteTime": {
     "end_time": "2024-03-21T08:40:05.296679Z",
     "start_time": "2024-03-21T08:40:05.288271Z"
    }
   },
   "id": "197b797ac7af83f8",
   "execution_count": 66
  },
  {
   "cell_type": "code",
   "outputs": [],
   "source": [
    "# 1로만 채운 ndarray 생성하기\n",
    "arr1 = np.ones(5)\n",
    "arr2 = np.ones((3,))\n",
    "arr3 = np.ones((2,3))\n",
    "arr4 = np.ones((2,2),dtype=int)"
   ],
   "metadata": {
    "collapsed": false,
    "ExecuteTime": {
     "end_time": "2024-03-21T08:40:05.327511Z",
     "start_time": "2024-03-21T08:40:05.309885Z"
    }
   },
   "id": "c009c7b7fc608dd2",
   "execution_count": 67
  },
  {
   "cell_type": "code",
   "outputs": [
    {
     "name": "stdout",
     "output_type": "stream",
     "text": [
      "[Obj.MAX]: 1\n",
      "[Obj.MIN]: 1\n",
      "[OBJ.SUM]: 4\n",
      "[OBJ.CUMULATIVE SUM]: [1 2 3 4]\n",
      "[OBJ.MEAN]: 1.0\n",
      "[OBJ.MAX(axis=0)]: [1 1]\n",
      "[OBJ.MAX(axis=1)]: [1 1]\n",
      "[OBJ.SUM(axis=0)]: [2 2]\n",
      "[OBJ.SUM(axis=1)]: [2 2]\n",
      "[OBJ.MEAN(axis=0)]: [1. 1.]\n",
      "[OBJ.MEAN(acis=1]: [1. 1.]\n"
     ]
    }
   ],
   "source": [
    "runAM(arr4)"
   ],
   "metadata": {
    "collapsed": false,
    "ExecuteTime": {
     "end_time": "2024-03-21T08:40:05.358505Z",
     "start_time": "2024-03-21T08:40:05.336582Z"
    }
   },
   "id": "50dcfe14c76c7f99",
   "execution_count": 68
  },
  {
   "cell_type": "code",
   "outputs": [],
   "source": [
    "#0으로만 채운 ndarray 생성하기\n",
    "arr0_1 = np.zeros(5)\n",
    "arr0_2 = np.zeros((5,)) #얘 왜 1차원이지?\n",
    "arr0_3 = np.zeros((3,3),dtype=int)"
   ],
   "metadata": {
    "collapsed": false,
    "ExecuteTime": {
     "end_time": "2024-03-21T08:40:05.373695Z",
     "start_time": "2024-03-21T08:40:05.361685Z"
    }
   },
   "id": "d7fe22c78af2bfa4",
   "execution_count": 69
  },
  {
   "cell_type": "code",
   "outputs": [
    {
     "data": {
      "text/plain": "(array([0., 0., 0., 0., 0.]),\n dtype('float64'),\n array([[0, 0, 0],\n        [0, 0, 0],\n        [0, 0, 0]]))"
     },
     "execution_count": 70,
     "metadata": {},
     "output_type": "execute_result"
    }
   ],
   "source": [
    "arr0_1, arr0_2.dtype, arr0_3"
   ],
   "metadata": {
    "collapsed": false,
    "ExecuteTime": {
     "end_time": "2024-03-21T08:40:05.389263Z",
     "start_time": "2024-03-21T08:40:05.375821Z"
    }
   },
   "id": "aa64279965ea3712",
   "execution_count": 70
  },
  {
   "cell_type": "code",
   "outputs": [],
   "source": [
    "# 대각선으로 1, 나머지 0으로 채우는 객체 생성\n",
    "\n",
    "arreye1 = np.eye(2)\n",
    "arreye2 = np.eye(2,3)\n",
    "arreye3 = np.eye(2,k=1) #k = 주대각선(1이 채워지는 위치)을 오른쪽 아래로 한 칸 이동한다."
   ],
   "metadata": {
    "collapsed": false,
    "ExecuteTime": {
     "end_time": "2024-03-21T08:40:05.404363Z",
     "start_time": "2024-03-21T08:40:05.396326Z"
    }
   },
   "id": "cdf3ae0db5695e27",
   "execution_count": 71
  },
  {
   "cell_type": "code",
   "outputs": [
    {
     "name": "stdout",
     "output_type": "stream",
     "text": [
      "[[1. 0.]\n",
      " [0. 1.]]\n",
      "\n",
      "[[1. 0. 0.]\n",
      " [0. 1. 0.]]\n",
      "\n",
      "[[0. 1.]\n",
      " [0. 0.]]\n"
     ]
    }
   ],
   "source": [
    "print(arreye1, arreye2, arreye3, sep='\\n\\n')"
   ],
   "metadata": {
    "collapsed": false,
    "ExecuteTime": {
     "end_time": "2024-03-21T08:40:05.419978Z",
     "start_time": "2024-03-21T08:40:05.411122Z"
    }
   },
   "id": "2c4026cbd1672e18",
   "execution_count": 72
  },
  {
   "cell_type": "code",
   "outputs": [],
   "source": [
    "# 빈 ndarray 객체 생성\n",
    "emptyarr1 = np.empty(2)\n",
    "emptyarr2 = np.empty((2,),dtype=np.float16)\n",
    "emptyarr3 = np.empty((2,3),dtype=np.int64)"
   ],
   "metadata": {
    "collapsed": false,
    "ExecuteTime": {
     "end_time": "2024-03-21T08:40:05.436072Z",
     "start_time": "2024-03-21T08:40:05.429863Z"
    }
   },
   "id": "342cd791ddd942fb",
   "execution_count": 73
  },
  {
   "cell_type": "code",
   "outputs": [
    {
     "name": "stdout",
     "output_type": "stream",
     "text": [
      "[1. 1.]\n",
      "\n",
      "[0.000015 0.      ]\n",
      "\n",
      "[[4607182418800017408                   0                   0]\n",
      " [                  0 4607182418800017408                   0]]\n"
     ]
    }
   ],
   "source": [
    "print(emptyarr1, emptyarr2,emptyarr3, sep='\\n\\n')"
   ],
   "metadata": {
    "collapsed": false,
    "ExecuteTime": {
     "end_time": "2024-03-21T08:40:05.483258Z",
     "start_time": "2024-03-21T08:40:05.468366Z"
    }
   },
   "id": "4f087341324709b5",
   "execution_count": 74
  },
  {
   "cell_type": "code",
   "outputs": [],
   "source": [
    "# 입력 배열의 shape만 복사하고 모든 원소를 1로 초기화하는 객체\n",
    "\n",
    "onelike1 = np.array([[11,11],[22,22],[33,33]])\n",
    "onelike2 = np.ones_like(onelike1)"
   ],
   "metadata": {
    "collapsed": false,
    "ExecuteTime": {
     "end_time": "2024-03-21T08:40:05.498681Z",
     "start_time": "2024-03-21T08:40:05.489905Z"
    }
   },
   "id": "97608d0245756daf",
   "execution_count": 75
  },
  {
   "cell_type": "code",
   "outputs": [
    {
     "name": "stdout",
     "output_type": "stream",
     "text": [
      "[[11 11]\n",
      " [22 22]\n",
      " [33 33]]\n",
      "\n",
      "[[1 1]\n",
      " [1 1]\n",
      " [1 1]]\n"
     ]
    }
   ],
   "source": [
    "print(onelike1, onelike2, sep='\\n\\n')"
   ],
   "metadata": {
    "collapsed": false,
    "ExecuteTime": {
     "end_time": "2024-03-21T08:40:05.545536Z",
     "start_time": "2024-03-21T08:40:05.529936Z"
    }
   },
   "id": "91a37d51f7755424",
   "execution_count": 76
  },
  {
   "cell_type": "code",
   "outputs": [],
   "source": [
    "#arange: 범위를 나타내는 숫자열을 ndarray로 반환하는 객체\n",
    "\n",
    "arrng1 = np.arange(10)\n",
    "arrng2 = np.arange(1,10)\n",
    "arrng3 = np.arange(1,10,3, dtype=np.float32)"
   ],
   "metadata": {
    "collapsed": false,
    "ExecuteTime": {
     "end_time": "2024-03-21T08:40:05.561370Z",
     "start_time": "2024-03-21T08:40:05.548068Z"
    }
   },
   "id": "13c58220f268362a",
   "execution_count": 77
  },
  {
   "cell_type": "code",
   "outputs": [
    {
     "data": {
      "text/plain": "(array([0, 1, 2, 3, 4, 5, 6, 7, 8, 9]),\n array([1, 2, 3, 4, 5, 6, 7, 8, 9]),\n array([1., 4., 7.], dtype=float32))"
     },
     "execution_count": 78,
     "metadata": {},
     "output_type": "execute_result"
    }
   ],
   "source": [
    "arrng1,arrng2, arrng3"
   ],
   "metadata": {
    "collapsed": false,
    "ExecuteTime": {
     "end_time": "2024-03-21T08:40:05.577235Z",
     "start_time": "2024-03-21T08:40:05.565162Z"
    }
   },
   "id": "7e6fd1b09ff87c68",
   "execution_count": 78
  },
  {
   "cell_type": "code",
   "outputs": [],
   "source": [
    "# 주어진 범위 내에서 균등한 간격으로 일정 개수의 숫자를 포함하는 배열 생성하기\n",
    "lin1 = np.linspace(2,3,num =3)\n",
    "lin2 = np.linspace(1,5, num= 5)\n",
    "lin3 = np.linspace(1,5, num = 5, endpoint= False) #stop 값 포함하지 않음\n",
    "lin4 = np.linspace(1,5, num= 5, retstep= True) #배열과 스텝 값 반환함"
   ],
   "metadata": {
    "collapsed": false,
    "ExecuteTime": {
     "end_time": "2024-03-21T08:40:05.607278Z",
     "start_time": "2024-03-21T08:40:05.589606Z"
    }
   },
   "id": "4edba297aa86df3a",
   "execution_count": 79
  },
  {
   "cell_type": "code",
   "outputs": [
    {
     "name": "stdout",
     "output_type": "stream",
     "text": [
      "[2.  2.5 3. ]\n",
      "\n",
      "[1. 2. 3. 4. 5.]\n",
      "\n",
      "[1.  1.8 2.6 3.4 4.2]\n",
      "\n",
      "(array([1., 2., 3., 4., 5.]), 1.0)\n"
     ]
    }
   ],
   "source": [
    "print(lin1, lin2, lin3, lin4, sep='\\n\\n')"
   ],
   "metadata": {
    "collapsed": false,
    "ExecuteTime": {
     "end_time": "2024-03-21T08:40:05.623186Z",
     "start_time": "2024-03-21T08:40:05.609807Z"
    }
   },
   "id": "8f8d9894f598e019",
   "execution_count": 80
  },
  {
   "cell_type": "code",
   "outputs": [],
   "source": [
    "# 로그스케일 숫자 배열 생성하기\n",
    "np.set_printoptions(precision=6, suppress=True)\n",
    "\n",
    "log1 = np.logspace(2,3,num = 2)\n",
    "log2 = np.logspace(1,5, num=5, base=2)\n",
    "log3 = np.logspace(1,3, num = 3, endpoint=False)\n",
    "log4 = np.logspace(1,3, num = 3, endpoint=True)"
   ],
   "metadata": {
    "collapsed": false,
    "ExecuteTime": {
     "end_time": "2024-03-21T08:40:05.638610Z",
     "start_time": "2024-03-21T08:40:05.626064Z"
    }
   },
   "id": "926cc5dfb1d97540",
   "execution_count": 81
  },
  {
   "cell_type": "code",
   "outputs": [
    {
     "data": {
      "text/plain": "(array([ 100., 1000.]),\n array([ 2.,  4.,  8., 16., 32.]),\n array([ 10.      ,  46.415888, 215.443469]),\n array([  10.,  100., 1000.]))"
     },
     "execution_count": 82,
     "metadata": {},
     "output_type": "execute_result"
    }
   ],
   "source": [
    "log1, log2, log3, log4"
   ],
   "metadata": {
    "collapsed": false,
    "ExecuteTime": {
     "end_time": "2024-03-21T08:40:05.669502Z",
     "start_time": "2024-03-21T08:40:05.651574Z"
    }
   },
   "id": "12b674294fa99fa",
   "execution_count": 82
  },
  {
   "cell_type": "markdown",
   "source": [
    "### ndarray 객체 shape 변환하기"
   ],
   "metadata": {
    "collapsed": false
   },
   "id": "98f1c4fe54580842"
  },
  {
   "cell_type": "code",
   "outputs": [
    {
     "name": "stdout",
     "output_type": "stream",
     "text": [
      "[arr01.shape]: (2, 5) \n",
      " [[ 1  2  3  4  5]\n",
      " [ 6  7  8  9 10]]\n",
      "\n",
      "\n",
      "\n",
      "[arr01.T.shape]: (2, 5) \n",
      " [[ 1  2  3  4  5]\n",
      " [ 6  7  8  9 10]]\n"
     ]
    }
   ],
   "source": [
    "# ndarray 객체 생성\n",
    "arr01 = np.array([[1,2,3,4,5],[6,7,8,9,10]])\n",
    "print('[arr01.shape]:',arr01.shape, '\\n', arr01)\n",
    "print('\\n\\n')\n",
    "arr01 = arr01.T #행렬 전치: 열을 행으로, 행을 열로 전환\n",
    "print('[arr01.T.shape]:',arr01.T.shape, '\\n', arr01.T)"
   ],
   "metadata": {
    "collapsed": false,
    "ExecuteTime": {
     "end_time": "2024-03-21T08:40:05.684283Z",
     "start_time": "2024-03-21T08:40:05.672919Z"
    }
   },
   "id": "6aa31df961c5b13a",
   "execution_count": 83
  },
  {
   "cell_type": "markdown",
   "source": [
    "## ndarray 객체 shape, size(원소 수) 변환하기"
   ],
   "metadata": {
    "collapsed": false
   },
   "id": "6d6ce0a31dcf82bb"
  },
  {
   "cell_type": "code",
   "outputs": [],
   "source": [
    "#size 변환\n",
    "np.resize(arr01, (5,2)) # 5행 2열로 변환하여 복사본 반환\n",
    "arr01.resize((5,2), refcheck=True) # 원본 ndarray에 변경 적용하기"
   ],
   "metadata": {
    "collapsed": false,
    "ExecuteTime": {
     "end_time": "2024-03-21T08:40:05.731672Z",
     "start_time": "2024-03-21T08:40:05.717224Z"
    }
   },
   "id": "7e1d2af4beb7a706",
   "execution_count": 84
  },
  {
   "cell_type": "markdown",
   "source": [
    "## Boolean Indexing"
   ],
   "metadata": {
    "collapsed": false
   },
   "id": "a0f88e719792baa9"
  },
  {
   "cell_type": "code",
   "outputs": [],
   "source": [
    "names = np.array(['Bob', 'Joe', 'Will', 'Bob', 'Joe'])\n",
    "\n",
    "name1 = names == 'Bob'\n",
    "name2 = names != 'Bob'\n",
    "name3 = ~(names =='Bob')\n",
    "name4 = (names=='Bob')|(names == 'Joe')#%%\n",
    " #or\n",
    "name5 = (names=='Bob')&(names == 'Joe') #and\n"
   ],
   "metadata": {
    "collapsed": false,
    "ExecuteTime": {
     "end_time": "2024-03-21T08:40:05.747399Z",
     "start_time": "2024-03-21T08:40:05.738257Z"
    }
   },
   "id": "1ccc9ba7847d1c16",
   "execution_count": 85
  },
  {
   "cell_type": "code",
   "outputs": [
    {
     "name": "stdout",
     "output_type": "stream",
     "text": [
      "[[False False False]\n",
      " [ True  True  True]\n",
      " [False False False]\n",
      " [False False False]]\n",
      "[3 4 5]\n"
     ]
    }
   ],
   "source": [
    "#ndarray object create-----------------\n",
    "\n",
    "data = np.array([[0,1,2],[3,4,5],[6,7,8],[9,10,11]])\n",
    "\n",
    "#3,4,5 추출을 위한 마스크 생성 & 적용\n",
    "\n",
    "mask = (data>2)&(data<6)\n",
    "print(mask)\n",
    "print(data[mask])"
   ],
   "metadata": {
    "collapsed": false,
    "ExecuteTime": {
     "end_time": "2024-03-21T08:40:05.778400Z",
     "start_time": "2024-03-21T08:40:05.767207Z"
    }
   },
   "id": "c151041aa3b7b1ed",
   "execution_count": 86
  },
  {
   "cell_type": "code",
   "outputs": [
    {
     "name": "stdout",
     "output_type": "stream",
     "text": [
      "[[ True  True  True]\n",
      " [False False False]\n",
      " [ True  True  True]\n",
      " [ True  True  True]]\n",
      "[ 0  1  2  6  7  8  9 10 11]\n"
     ]
    }
   ],
   "source": [
    "# 3,4,5 데이터를 제외한 나머지 데이터 추출을 위한 마스크 생성 & 적용\n",
    "\n",
    "mask2 = ~((data>2)&(data<6)) #~: not~\n",
    "print(mask2)\n",
    "print(data[mask2])"
   ],
   "metadata": {
    "collapsed": false,
    "ExecuteTime": {
     "end_time": "2024-03-21T08:40:05.824355Z",
     "start_time": "2024-03-21T08:40:05.813481Z"
    }
   },
   "id": "925c92cf9400e7d2",
   "execution_count": 87
  },
  {
   "cell_type": "markdown",
   "source": [
    "### 행, 열, 요소 삭제하기"
   ],
   "metadata": {
    "collapsed": false
   },
   "id": "fdd0f932b849d93b"
  },
  {
   "cell_type": "code",
   "outputs": [
    {
     "data": {
      "text/plain": "array([ 0,  1,  7,  8,  9, 10, 11])"
     },
     "execution_count": 88,
     "metadata": {},
     "output_type": "execute_result"
    }
   ],
   "source": [
    "#요소 삭제: 1D array 반환\n",
    "np.delete(data, 2) #data array의 2번째 요소 삭제\n",
    "np.delete(data, [2,3,4,5,6]) #data array의 2~6번째 요소 삭제"
   ],
   "metadata": {
    "collapsed": false,
    "ExecuteTime": {
     "end_time": "2024-03-21T08:40:05.855554Z",
     "start_time": "2024-03-21T08:40:05.835187Z"
    }
   },
   "id": "3ee3610be2051840",
   "execution_count": 88
  },
  {
   "cell_type": "code",
   "outputs": [
    {
     "data": {
      "text/plain": "array([[ 0,  1,  2],\n       [ 6,  7,  8],\n       [ 9, 10, 11]])"
     },
     "execution_count": 89,
     "metadata": {},
     "output_type": "execute_result"
    }
   ],
   "source": [
    "# 행 삭제\n",
    "np.delete(data,1, axis = 0)#data array 1번째 행(axis = 0) 삭제"
   ],
   "metadata": {
    "collapsed": false,
    "ExecuteTime": {
     "end_time": "2024-03-21T08:40:05.934125Z",
     "start_time": "2024-03-21T08:40:05.916391Z"
    }
   },
   "id": "d9b1922ae56c9237",
   "execution_count": 89
  },
  {
   "cell_type": "code",
   "outputs": [
    {
     "data": {
      "text/plain": "array([[ 0,  2],\n       [ 3,  5],\n       [ 6,  8],\n       [ 9, 11]])"
     },
     "execution_count": 90,
     "metadata": {},
     "output_type": "execute_result"
    }
   ],
   "source": [
    "# 열 삭제\n",
    "np.delete(data,1, axis = 1) #data array 1번째 열(axis = 1) 삭제"
   ],
   "metadata": {
    "collapsed": false,
    "ExecuteTime": {
     "end_time": "2024-03-21T08:40:05.949695Z",
     "start_time": "2024-03-21T08:40:05.936717Z"
    }
   },
   "id": "b1908a69a8b73d3c",
   "execution_count": 90
  },
  {
   "cell_type": "markdown",
   "source": [
    "## 행, 열, 요소 추가하기: append"
   ],
   "metadata": {
    "collapsed": false
   },
   "id": "66fbddf0bbd61c8d"
  },
  {
   "cell_type": "code",
   "outputs": [
    {
     "data": {
      "text/plain": "array([ 0,  1,  2,  3,  4,  5,  6,  7,  8,  9, 10, 11, 11, 12, 13])"
     },
     "execution_count": 91,
     "metadata": {},
     "output_type": "execute_result"
    }
   ],
   "source": [
    "#요소 추가하기\n",
    "np.append(data,[11,12,13])"
   ],
   "metadata": {
    "collapsed": false,
    "ExecuteTime": {
     "end_time": "2024-03-21T08:40:05.965501Z",
     "start_time": "2024-03-21T08:40:05.951177Z"
    }
   },
   "id": "9dcdf1f776f5991a",
   "execution_count": 91
  },
  {
   "cell_type": "code",
   "outputs": [
    {
     "data": {
      "text/plain": "array([[ 0,  1,  2],\n       [ 3,  4,  5],\n       [ 6,  7,  8],\n       [ 9, 10, 11],\n       [12, 13, 14]])"
     },
     "execution_count": 92,
     "metadata": {},
     "output_type": "execute_result"
    }
   ],
   "source": [
    "# 행 추가하기\n",
    "\n",
    "np.append(data, [[12,13,14]], axis = 0)"
   ],
   "metadata": {
    "collapsed": false,
    "ExecuteTime": {
     "end_time": "2024-03-21T08:40:05.996302Z",
     "start_time": "2024-03-21T08:40:05.988841Z"
    }
   },
   "id": "30ff50cbf690efe4",
   "execution_count": 92
  },
  {
   "cell_type": "code",
   "outputs": [
    {
     "data": {
      "text/plain": "array([[ 0,  1,  2],\n       [ 3,  4,  5],\n       [ 6,  7,  8],\n       [ 9, 10, 11],\n       [12, 13, 14],\n       [15, 16, 17]])"
     },
     "execution_count": 93,
     "metadata": {},
     "output_type": "execute_result"
    }
   ],
   "source": [
    "# 행 추가하기\n",
    "np.append(data, [[12,13,14]], axis = 0)"
   ],
   "metadata": {
    "collapsed": false,
    "ExecuteTime": {
     "end_time": "2024-03-21T08:40:06.026884Z",
     "start_time": "2024-03-21T08:40:06.017195Z"
    }
   },
   "id": "36f3073f1c4675d1",
   "execution_count": 93
  },
  {
   "cell_type": "code",
   "outputs": [
    {
     "ename": "ValueError",
     "evalue": "all the input array dimensions except for the concatenation axis must match exactly, but along dimension 0, the array at index 0 has size 4 and the array at index 1 has size 1",
     "output_type": "error",
     "traceback": [
      "\u001B[1;31m---------------------------------------------------------------------------\u001B[0m",
      "\u001B[1;31mValueError\u001B[0m                                Traceback (most recent call last)",
      "Cell \u001B[1;32mIn[105], line 2\u001B[0m\n\u001B[0;32m      1\u001B[0m \u001B[38;5;66;03m# # 열 추가하기\u001B[39;00m\n\u001B[1;32m----> 2\u001B[0m \u001B[43mnp\u001B[49m\u001B[38;5;241;43m.\u001B[39;49m\u001B[43mappend\u001B[49m\u001B[43m(\u001B[49m\u001B[43mdata\u001B[49m\u001B[43m,\u001B[49m\u001B[43m[\u001B[49m\u001B[43m[\u001B[49m\u001B[38;5;241;43m4\u001B[39;49m\u001B[43m,\u001B[49m\u001B[38;5;241;43m5\u001B[39;49m\u001B[43m,\u001B[49m\u001B[38;5;241;43m6\u001B[39;49m\u001B[43m]\u001B[49m\u001B[43m]\u001B[49m\u001B[43m,\u001B[49m\u001B[43m \u001B[49m\u001B[43maxis\u001B[49m\u001B[43m \u001B[49m\u001B[38;5;241;43m=\u001B[39;49m\u001B[43m \u001B[49m\u001B[38;5;241;43m1\u001B[39;49m\u001B[43m)\u001B[49m\n",
      "File \u001B[1;32m<__array_function__ internals>:200\u001B[0m, in \u001B[0;36mappend\u001B[1;34m(*args, **kwargs)\u001B[0m\n",
      "File \u001B[1;32m~\\anaconda3\\envs\\Pytorch38\\lib\\site-packages\\numpy\\lib\\function_base.py:5499\u001B[0m, in \u001B[0;36mappend\u001B[1;34m(arr, values, axis)\u001B[0m\n\u001B[0;32m   5497\u001B[0m     values \u001B[38;5;241m=\u001B[39m ravel(values)\n\u001B[0;32m   5498\u001B[0m     axis \u001B[38;5;241m=\u001B[39m arr\u001B[38;5;241m.\u001B[39mndim\u001B[38;5;241m-\u001B[39m\u001B[38;5;241m1\u001B[39m\n\u001B[1;32m-> 5499\u001B[0m \u001B[38;5;28;01mreturn\u001B[39;00m \u001B[43mconcatenate\u001B[49m\u001B[43m(\u001B[49m\u001B[43m(\u001B[49m\u001B[43marr\u001B[49m\u001B[43m,\u001B[49m\u001B[43m \u001B[49m\u001B[43mvalues\u001B[49m\u001B[43m)\u001B[49m\u001B[43m,\u001B[49m\u001B[43m \u001B[49m\u001B[43maxis\u001B[49m\u001B[38;5;241;43m=\u001B[39;49m\u001B[43maxis\u001B[49m\u001B[43m)\u001B[49m\n",
      "File \u001B[1;32m<__array_function__ internals>:200\u001B[0m, in \u001B[0;36mconcatenate\u001B[1;34m(*args, **kwargs)\u001B[0m\n",
      "\u001B[1;31mValueError\u001B[0m: all the input array dimensions except for the concatenation axis must match exactly, but along dimension 0, the array at index 0 has size 4 and the array at index 1 has size 1"
     ]
    }
   ],
   "source": [
    "# # 열 추가하기\n",
    "np.append(data,[[4,5,6]], axis = 1)"
   ],
   "metadata": {
    "collapsed": false,
    "ExecuteTime": {
     "end_time": "2024-03-21T08:46:11.797379Z",
     "start_time": "2024-03-21T08:46:11.704252Z"
    }
   },
   "id": "1099b33e0d65cd5a",
   "execution_count": 105
  },
  {
   "cell_type": "markdown",
   "source": [
    "## 행, 열, 요소 삽입하기"
   ],
   "metadata": {
    "collapsed": false
   },
   "id": "7211b5446abb0b37"
  },
  {
   "cell_type": "code",
   "outputs": [
    {
     "data": {
      "text/plain": "array([ 0,  1,  5,  2,  3,  4,  5,  6,  7,  8,  9, 10, 11])"
     },
     "execution_count": 98,
     "metadata": {},
     "output_type": "execute_result"
    }
   ],
   "source": [
    "# 요소 삽입\n",
    "np. insert(data, 2, 5)"
   ],
   "metadata": {
    "collapsed": false,
    "ExecuteTime": {
     "end_time": "2024-03-21T08:43:22.665186Z",
     "start_time": "2024-03-21T08:43:22.644130Z"
    }
   },
   "id": "fd2d2c5a2692719",
   "execution_count": 98
  },
  {
   "cell_type": "code",
   "outputs": [
    {
     "data": {
      "text/plain": "array([[ 0,  1,  2],\n       [ 3,  4,  5],\n       [ 5,  6,  7],\n       [ 6,  7,  8],\n       [ 9, 10, 11]])"
     },
     "execution_count": 99,
     "metadata": {},
     "output_type": "execute_result"
    }
   ],
   "source": [
    "#행 삽입\n",
    "np.insert(data,2,[5,6,7], axis = 0)"
   ],
   "metadata": {
    "collapsed": false,
    "ExecuteTime": {
     "end_time": "2024-03-21T08:43:51.827522Z",
     "start_time": "2024-03-21T08:43:51.820484Z"
    }
   },
   "id": "4de44e5bca5e1f90",
   "execution_count": 99
  },
  {
   "cell_type": "code",
   "outputs": [
    {
     "data": {
      "text/plain": "array([[ 0,  1,  7,  2],\n       [ 3,  4,  8,  5],\n       [ 6,  7,  9,  8],\n       [ 9, 10, 10, 11]])"
     },
     "execution_count": 101,
     "metadata": {},
     "output_type": "execute_result"
    }
   ],
   "source": [
    "# 열 삽입\n",
    "np.insert(data,2,[7,8,9,10], axis = 1)"
   ],
   "metadata": {
    "collapsed": false,
    "ExecuteTime": {
     "end_time": "2024-03-21T08:44:24.639575Z",
     "start_time": "2024-03-21T08:44:24.622431Z"
    }
   },
   "id": "dde30e6485fc954b",
   "execution_count": 101
  },
  {
   "cell_type": "markdown",
   "source": [
    "## 합치기 / 연결: 2개 이상의 배열\n",
    "- np. concatenate((arr1, arr2), axis): 축 기준 결합\n",
    "- 기준 축 제외 나머지 shape 동일할 것"
   ],
   "metadata": {
    "collapsed": false
   },
   "id": "f0a904a25c77de5d"
  },
  {
   "cell_type": "code",
   "outputs": [
    {
     "data": {
      "text/plain": "((5, 5),\n 2,\n array([[14, 19,  7, 17, 17],\n        [12, 17,  3,  6, 12],\n        [15,  1,  3, 13,  4],\n        [11, 14, 18, 12,  6],\n        [ 1,  3, 19, 19, 11]]))"
     },
     "execution_count": 109,
     "metadata": {},
     "output_type": "execute_result"
    }
   ],
   "source": [
    "data1 = np.random.randint(1,20,(5,5))\n",
    "data2 = np.random.randint(1,20,(5,5))\n",
    "data1.shape, data1.ndim, data1"
   ],
   "metadata": {
    "collapsed": false,
    "ExecuteTime": {
     "end_time": "2024-03-21T08:50:06.289198Z",
     "start_time": "2024-03-21T08:50:06.273869Z"
    }
   },
   "id": "801fbdc25c761bca",
   "execution_count": 109
  },
  {
   "cell_type": "code",
   "outputs": [],
   "source": [
    "# [Default] 행 방향\n",
    "data3 = np.concatenate((data1,data2))"
   ],
   "metadata": {
    "collapsed": false,
    "ExecuteTime": {
     "end_time": "2024-03-21T08:50:12.230441Z",
     "start_time": "2024-03-21T08:50:12.212949Z"
    }
   },
   "id": "75f22d99e4011205",
   "execution_count": 110
  },
  {
   "cell_type": "code",
   "outputs": [],
   "source": [
    "#[Option] 열 방향\n",
    "data4 = np.concatenate((data1,data2), axis = 1)"
   ],
   "metadata": {
    "collapsed": false,
    "ExecuteTime": {
     "end_time": "2024-03-21T08:50:34.192278Z",
     "start_time": "2024-03-21T08:50:34.173974Z"
    }
   },
   "id": "d730808be198119d",
   "execution_count": 111
  },
  {
   "cell_type": "code",
   "outputs": [],
   "source": [
    "#[Option2] 1D\n",
    "data5 = np.concatenate((data1, data2), axis = None)"
   ],
   "metadata": {
    "collapsed": false,
    "ExecuteTime": {
     "end_time": "2024-03-21T08:51:23.602949Z",
     "start_time": "2024-03-21T08:51:23.590973Z"
    }
   },
   "id": "dfc3b00f46077602",
   "execution_count": 112
  },
  {
   "cell_type": "code",
   "outputs": [],
   "source": [],
   "metadata": {
    "collapsed": false
   },
   "id": "b33e5bb3576060ad"
  }
 ],
 "metadata": {
  "kernelspec": {
   "display_name": "Python 3",
   "language": "python",
   "name": "python3"
  },
  "language_info": {
   "codemirror_mode": {
    "name": "ipython",
    "version": 2
   },
   "file_extension": ".py",
   "mimetype": "text/x-python",
   "name": "python",
   "nbconvert_exporter": "python",
   "pygments_lexer": "ipython2",
   "version": "2.7.6"
  }
 },
 "nbformat": 4,
 "nbformat_minor": 5
}
