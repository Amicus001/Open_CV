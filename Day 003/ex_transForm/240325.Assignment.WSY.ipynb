{
 "cells": [
  {
   "cell_type": "markdown",
   "source": [
    "# 이미지 활용한 CNN 모델 만들기\n",
    "- ImageFolder\n",
    "- transforms\n",
    "- DataLoader\n",
    "- CNN\n",
    "- Weight\n",
    "\n",
    "사용하기"
   ],
   "metadata": {
    "collapsed": false
   },
   "id": "e36cee6e482dc798"
  },
  {
   "cell_type": "markdown",
   "source": [
    "# 이미지 = 해파리."
   ],
   "metadata": {
    "collapsed": false
   },
   "id": "6fa2f072eec32f7d"
  },
  {
   "cell_type": "code",
   "execution_count": 43,
   "id": "initial_id",
   "metadata": {
    "collapsed": true,
    "ExecuteTime": {
     "end_time": "2024-03-25T09:51:46.567791Z",
     "start_time": "2024-03-25T09:51:45.200399Z"
    }
   },
   "outputs": [],
   "source": [
    "# 모듈 로딩\n",
    "\n",
    "from PIL import Image\n",
    "import torchvision.transforms as transforms\n",
    "import cv2\n",
    "import torch\n",
    "import torch.nn as nn\n",
    "from torchvision.datasets import ImageFolder\n",
    "import pandas as pd\n",
    "from torch.utils.data import DataLoader, Dataset\n",
    "import numpy as np\n",
    "import torch.nn.functional as f\n",
    "import torchmetrics.functional as metrics"
   ]
  },
  {
   "cell_type": "code",
   "outputs": [],
   "source": [
    "# 사이즈 조정, 텐서화\n",
    "preprocessing = transforms.Compose([transforms.Resize(size=(50,50)), transforms.ToTensor()])"
   ],
   "metadata": {
    "collapsed": false,
    "ExecuteTime": {
     "end_time": "2024-03-25T09:34:13.499707Z",
     "start_time": "2024-03-25T09:34:13.485698Z"
    }
   },
   "id": "656f643d614ed15c",
   "execution_count": 31
  },
  {
   "cell_type": "code",
   "outputs": [],
   "source": [
    "# 폴명이 분류 클래스 되는 데이터셋 만들기\n",
    "imgroot = '../../../datas/Project Jellyfish/train_Test_Valid/Train'\n",
    "imgdataset = ImageFolder(root=imgroot, transform=preprocessing)\n",
    "dataloader = DataLoader(dataset=imgdataset, batch_size=10, shuffle=True)"
   ],
   "metadata": {
    "collapsed": false,
    "ExecuteTime": {
     "end_time": "2024-03-25T09:34:13.514867Z",
     "start_time": "2024-03-25T09:34:13.501711Z"
    }
   },
   "id": "65f1d80074cf9019",
   "execution_count": 32
  },
  {
   "cell_type": "code",
   "outputs": [],
   "source": [
    "# valid dataset\n",
    "valroot = '../../../datas/Project Jellyfish/train_Test_Valid/valid'\n",
    "valdataset = ImageFolder(root=imgroot, transform=preprocessing)\n",
    "valid_dl = DataLoader(dataset=imgdataset, batch_size=10, shuffle=True)"
   ],
   "metadata": {
    "collapsed": false,
    "ExecuteTime": {
     "end_time": "2024-03-25T10:15:38.810536Z",
     "start_time": "2024-03-25T10:15:38.787951Z"
    }
   },
   "id": "39449566aaaa4c94",
   "execution_count": 53
  },
  {
   "cell_type": "code",
   "outputs": [],
   "source": [
    "# test dataset\n",
    "\n",
    "testroot = '../../../datas/Project Jellyfish/train_Test_Valid/test'\n",
    "testdataset = ImageFolder(root=imgroot, transform=preprocessing)\n",
    "test_dl = DataLoader(dataset=imgdataset, batch_size=10, shuffle=True)"
   ],
   "metadata": {
    "collapsed": false,
    "ExecuteTime": {
     "end_time": "2024-03-25T10:15:43.908148Z",
     "start_time": "2024-03-25T10:15:43.891092Z"
    }
   },
   "id": "d6598e2e227deb37",
   "execution_count": 54
  },
  {
   "cell_type": "code",
   "outputs": [
    {
     "data": {
      "text/plain": "(['Moon_jellyfish',\n  'barrel_jellyfish',\n  'blue_jellyfish',\n  'compass_jellyfish',\n  'lions_mane_jellyfish',\n  'mauve_stinger_jellyfish'],\n {'Moon_jellyfish': 0,\n  'barrel_jellyfish': 1,\n  'blue_jellyfish': 2,\n  'compass_jellyfish': 3,\n  'lions_mane_jellyfish': 4,\n  'mauve_stinger_jellyfish': 5},\n [('../../../datas/Project Jellyfish/train_Test_Valid/Train\\\\Moon_jellyfish\\\\01.jpg',\n   0),\n  ('../../../datas/Project Jellyfish/train_Test_Valid/Train\\\\Moon_jellyfish\\\\02.jpg',\n   0),\n  ('../../../datas/Project Jellyfish/train_Test_Valid/Train\\\\Moon_jellyfish\\\\03.jpg',\n   0),\n  ('../../../datas/Project Jellyfish/train_Test_Valid/Train\\\\Moon_jellyfish\\\\04.jpg',\n   0),\n  ('../../../datas/Project Jellyfish/train_Test_Valid/Train\\\\Moon_jellyfish\\\\05.jpg',\n   0),\n  ('../../../datas/Project Jellyfish/train_Test_Valid/Train\\\\Moon_jellyfish\\\\06.jpg',\n   0),\n  ('../../../datas/Project Jellyfish/train_Test_Valid/Train\\\\Moon_jellyfish\\\\08.jpg',\n   0),\n  ('../../../datas/Project Jellyfish/train_Test_Valid/Train\\\\Moon_jellyfish\\\\10.jpg',\n   0),\n  ('../../../datas/Project Jellyfish/train_Test_Valid/Train\\\\Moon_jellyfish\\\\100.jpg',\n   0),\n  ('../../../datas/Project Jellyfish/train_Test_Valid/Train\\\\Moon_jellyfish\\\\101.JPG',\n   0),\n  ('../../../datas/Project Jellyfish/train_Test_Valid/Train\\\\Moon_jellyfish\\\\102.jpg',\n   0),\n  ('../../../datas/Project Jellyfish/train_Test_Valid/Train\\\\Moon_jellyfish\\\\103.jpg',\n   0),\n  ('../../../datas/Project Jellyfish/train_Test_Valid/Train\\\\Moon_jellyfish\\\\104.jpg',\n   0),\n  ('../../../datas/Project Jellyfish/train_Test_Valid/Train\\\\Moon_jellyfish\\\\105.jpg',\n   0),\n  ('../../../datas/Project Jellyfish/train_Test_Valid/Train\\\\Moon_jellyfish\\\\106.jpg',\n   0),\n  ('../../../datas/Project Jellyfish/train_Test_Valid/Train\\\\Moon_jellyfish\\\\107.jpg',\n   0),\n  ('../../../datas/Project Jellyfish/train_Test_Valid/Train\\\\Moon_jellyfish\\\\108.jpg',\n   0),\n  ('../../../datas/Project Jellyfish/train_Test_Valid/Train\\\\Moon_jellyfish\\\\109.jpg',\n   0),\n  ('../../../datas/Project Jellyfish/train_Test_Valid/Train\\\\Moon_jellyfish\\\\110.jpg',\n   0),\n  ('../../../datas/Project Jellyfish/train_Test_Valid/Train\\\\Moon_jellyfish\\\\111.jpg',\n   0),\n  ('../../../datas/Project Jellyfish/train_Test_Valid/Train\\\\Moon_jellyfish\\\\112.jpg',\n   0),\n  ('../../../datas/Project Jellyfish/train_Test_Valid/Train\\\\Moon_jellyfish\\\\113.jpg',\n   0),\n  ('../../../datas/Project Jellyfish/train_Test_Valid/Train\\\\Moon_jellyfish\\\\114.jpg',\n   0),\n  ('../../../datas/Project Jellyfish/train_Test_Valid/Train\\\\Moon_jellyfish\\\\115.jpg',\n   0),\n  ('../../../datas/Project Jellyfish/train_Test_Valid/Train\\\\Moon_jellyfish\\\\116.jpg',\n   0),\n  ('../../../datas/Project Jellyfish/train_Test_Valid/Train\\\\Moon_jellyfish\\\\117.jpg',\n   0),\n  ('../../../datas/Project Jellyfish/train_Test_Valid/Train\\\\Moon_jellyfish\\\\118.jpg',\n   0),\n  ('../../../datas/Project Jellyfish/train_Test_Valid/Train\\\\Moon_jellyfish\\\\119.jpg',\n   0),\n  ('../../../datas/Project Jellyfish/train_Test_Valid/Train\\\\Moon_jellyfish\\\\12.jpg',\n   0),\n  ('../../../datas/Project Jellyfish/train_Test_Valid/Train\\\\Moon_jellyfish\\\\120.jpg',\n   0),\n  ('../../../datas/Project Jellyfish/train_Test_Valid/Train\\\\Moon_jellyfish\\\\121.jpg',\n   0),\n  ('../../../datas/Project Jellyfish/train_Test_Valid/Train\\\\Moon_jellyfish\\\\122.jpg',\n   0),\n  ('../../../datas/Project Jellyfish/train_Test_Valid/Train\\\\Moon_jellyfish\\\\123.jpg',\n   0),\n  ('../../../datas/Project Jellyfish/train_Test_Valid/Train\\\\Moon_jellyfish\\\\124.jpg',\n   0),\n  ('../../../datas/Project Jellyfish/train_Test_Valid/Train\\\\Moon_jellyfish\\\\125.jpg',\n   0),\n  ('../../../datas/Project Jellyfish/train_Test_Valid/Train\\\\Moon_jellyfish\\\\126.jpg',\n   0),\n  ('../../../datas/Project Jellyfish/train_Test_Valid/Train\\\\Moon_jellyfish\\\\127.jpg',\n   0),\n  ('../../../datas/Project Jellyfish/train_Test_Valid/Train\\\\Moon_jellyfish\\\\128.jpg',\n   0),\n  ('../../../datas/Project Jellyfish/train_Test_Valid/Train\\\\Moon_jellyfish\\\\129.JPG',\n   0),\n  ('../../../datas/Project Jellyfish/train_Test_Valid/Train\\\\Moon_jellyfish\\\\13.jpg',\n   0),\n  ('../../../datas/Project Jellyfish/train_Test_Valid/Train\\\\Moon_jellyfish\\\\130.jpg',\n   0),\n  ('../../../datas/Project Jellyfish/train_Test_Valid/Train\\\\Moon_jellyfish\\\\131.jpg',\n   0),\n  ('../../../datas/Project Jellyfish/train_Test_Valid/Train\\\\Moon_jellyfish\\\\133.jpg',\n   0),\n  ('../../../datas/Project Jellyfish/train_Test_Valid/Train\\\\Moon_jellyfish\\\\134.jpg',\n   0),\n  ('../../../datas/Project Jellyfish/train_Test_Valid/Train\\\\Moon_jellyfish\\\\135.jpg',\n   0),\n  ('../../../datas/Project Jellyfish/train_Test_Valid/Train\\\\Moon_jellyfish\\\\136.jpg',\n   0),\n  ('../../../datas/Project Jellyfish/train_Test_Valid/Train\\\\Moon_jellyfish\\\\137.jpg',\n   0),\n  ('../../../datas/Project Jellyfish/train_Test_Valid/Train\\\\Moon_jellyfish\\\\138.jpg',\n   0),\n  ('../../../datas/Project Jellyfish/train_Test_Valid/Train\\\\Moon_jellyfish\\\\139.jpg',\n   0),\n  ('../../../datas/Project Jellyfish/train_Test_Valid/Train\\\\Moon_jellyfish\\\\14.jpg',\n   0),\n  ('../../../datas/Project Jellyfish/train_Test_Valid/Train\\\\Moon_jellyfish\\\\140.jpg',\n   0),\n  ('../../../datas/Project Jellyfish/train_Test_Valid/Train\\\\Moon_jellyfish\\\\141.jpg',\n   0),\n  ('../../../datas/Project Jellyfish/train_Test_Valid/Train\\\\Moon_jellyfish\\\\142.jpg',\n   0),\n  ('../../../datas/Project Jellyfish/train_Test_Valid/Train\\\\Moon_jellyfish\\\\143.jpg',\n   0),\n  ('../../../datas/Project Jellyfish/train_Test_Valid/Train\\\\Moon_jellyfish\\\\144.jpg',\n   0),\n  ('../../../datas/Project Jellyfish/train_Test_Valid/Train\\\\Moon_jellyfish\\\\145.jpg',\n   0),\n  ('../../../datas/Project Jellyfish/train_Test_Valid/Train\\\\Moon_jellyfish\\\\146.jpg',\n   0),\n  ('../../../datas/Project Jellyfish/train_Test_Valid/Train\\\\Moon_jellyfish\\\\147.jpg',\n   0),\n  ('../../../datas/Project Jellyfish/train_Test_Valid/Train\\\\Moon_jellyfish\\\\148.jpg',\n   0),\n  ('../../../datas/Project Jellyfish/train_Test_Valid/Train\\\\Moon_jellyfish\\\\149.JPG',\n   0),\n  ('../../../datas/Project Jellyfish/train_Test_Valid/Train\\\\Moon_jellyfish\\\\150.jpg',\n   0),\n  ('../../../datas/Project Jellyfish/train_Test_Valid/Train\\\\Moon_jellyfish\\\\151.jpg',\n   0),\n  ('../../../datas/Project Jellyfish/train_Test_Valid/Train\\\\Moon_jellyfish\\\\152.jpg',\n   0),\n  ('../../../datas/Project Jellyfish/train_Test_Valid/Train\\\\Moon_jellyfish\\\\153.jpg',\n   0),\n  ('../../../datas/Project Jellyfish/train_Test_Valid/Train\\\\Moon_jellyfish\\\\154.jpg',\n   0),\n  ('../../../datas/Project Jellyfish/train_Test_Valid/Train\\\\Moon_jellyfish\\\\155.jpg',\n   0),\n  ('../../../datas/Project Jellyfish/train_Test_Valid/Train\\\\Moon_jellyfish\\\\156.jpg',\n   0),\n  ('../../../datas/Project Jellyfish/train_Test_Valid/Train\\\\Moon_jellyfish\\\\157.jpg',\n   0),\n  ('../../../datas/Project Jellyfish/train_Test_Valid/Train\\\\Moon_jellyfish\\\\158.jpg',\n   0),\n  ('../../../datas/Project Jellyfish/train_Test_Valid/Train\\\\Moon_jellyfish\\\\159.jpg',\n   0),\n  ('../../../datas/Project Jellyfish/train_Test_Valid/Train\\\\Moon_jellyfish\\\\16.jpg',\n   0),\n  ('../../../datas/Project Jellyfish/train_Test_Valid/Train\\\\Moon_jellyfish\\\\160.jpg',\n   0),\n  ('../../../datas/Project Jellyfish/train_Test_Valid/Train\\\\Moon_jellyfish\\\\161.jpg',\n   0),\n  ('../../../datas/Project Jellyfish/train_Test_Valid/Train\\\\Moon_jellyfish\\\\162.jpg',\n   0),\n  ('../../../datas/Project Jellyfish/train_Test_Valid/Train\\\\Moon_jellyfish\\\\163.jpg',\n   0),\n  ('../../../datas/Project Jellyfish/train_Test_Valid/Train\\\\Moon_jellyfish\\\\164.jpg',\n   0),\n  ('../../../datas/Project Jellyfish/train_Test_Valid/Train\\\\Moon_jellyfish\\\\165.jpg',\n   0),\n  ('../../../datas/Project Jellyfish/train_Test_Valid/Train\\\\Moon_jellyfish\\\\17.jpg',\n   0),\n  ('../../../datas/Project Jellyfish/train_Test_Valid/Train\\\\Moon_jellyfish\\\\18.jpg',\n   0),\n  ('../../../datas/Project Jellyfish/train_Test_Valid/Train\\\\Moon_jellyfish\\\\21.jpg',\n   0),\n  ('../../../datas/Project Jellyfish/train_Test_Valid/Train\\\\Moon_jellyfish\\\\22.jpg',\n   0),\n  ('../../../datas/Project Jellyfish/train_Test_Valid/Train\\\\Moon_jellyfish\\\\24.jpg',\n   0),\n  ('../../../datas/Project Jellyfish/train_Test_Valid/Train\\\\Moon_jellyfish\\\\25.jpg',\n   0),\n  ('../../../datas/Project Jellyfish/train_Test_Valid/Train\\\\Moon_jellyfish\\\\26.jpg',\n   0),\n  ('../../../datas/Project Jellyfish/train_Test_Valid/Train\\\\Moon_jellyfish\\\\28.jpg',\n   0),\n  ('../../../datas/Project Jellyfish/train_Test_Valid/Train\\\\Moon_jellyfish\\\\29.JPG',\n   0),\n  ('../../../datas/Project Jellyfish/train_Test_Valid/Train\\\\Moon_jellyfish\\\\30.jpg',\n   0),\n  ('../../../datas/Project Jellyfish/train_Test_Valid/Train\\\\Moon_jellyfish\\\\31.jpg',\n   0),\n  ('../../../datas/Project Jellyfish/train_Test_Valid/Train\\\\Moon_jellyfish\\\\32.jpg',\n   0),\n  ('../../../datas/Project Jellyfish/train_Test_Valid/Train\\\\Moon_jellyfish\\\\34.jpg',\n   0),\n  ('../../../datas/Project Jellyfish/train_Test_Valid/Train\\\\Moon_jellyfish\\\\35.jpg',\n   0),\n  ('../../../datas/Project Jellyfish/train_Test_Valid/Train\\\\Moon_jellyfish\\\\36.jpg',\n   0),\n  ('../../../datas/Project Jellyfish/train_Test_Valid/Train\\\\Moon_jellyfish\\\\37.jpg',\n   0),\n  ('../../../datas/Project Jellyfish/train_Test_Valid/Train\\\\Moon_jellyfish\\\\38.jpg',\n   0),\n  ('../../../datas/Project Jellyfish/train_Test_Valid/Train\\\\Moon_jellyfish\\\\40.jpg',\n   0),\n  ('../../../datas/Project Jellyfish/train_Test_Valid/Train\\\\Moon_jellyfish\\\\41.jpg',\n   0),\n  ('../../../datas/Project Jellyfish/train_Test_Valid/Train\\\\Moon_jellyfish\\\\42.jpg',\n   0),\n  ('../../../datas/Project Jellyfish/train_Test_Valid/Train\\\\Moon_jellyfish\\\\43.jpg',\n   0),\n  ('../../../datas/Project Jellyfish/train_Test_Valid/Train\\\\Moon_jellyfish\\\\45.jpg',\n   0),\n  ('../../../datas/Project Jellyfish/train_Test_Valid/Train\\\\Moon_jellyfish\\\\46.jpg',\n   0),\n  ('../../../datas/Project Jellyfish/train_Test_Valid/Train\\\\Moon_jellyfish\\\\47.jpg',\n   0),\n  ('../../../datas/Project Jellyfish/train_Test_Valid/Train\\\\Moon_jellyfish\\\\49.jpg',\n   0),\n  ('../../../datas/Project Jellyfish/train_Test_Valid/Train\\\\Moon_jellyfish\\\\50.jpg',\n   0),\n  ('../../../datas/Project Jellyfish/train_Test_Valid/Train\\\\Moon_jellyfish\\\\51.jpg',\n   0),\n  ('../../../datas/Project Jellyfish/train_Test_Valid/Train\\\\Moon_jellyfish\\\\52.JPG',\n   0),\n  ('../../../datas/Project Jellyfish/train_Test_Valid/Train\\\\Moon_jellyfish\\\\53.jpg',\n   0),\n  ('../../../datas/Project Jellyfish/train_Test_Valid/Train\\\\Moon_jellyfish\\\\54.jpg',\n   0),\n  ('../../../datas/Project Jellyfish/train_Test_Valid/Train\\\\Moon_jellyfish\\\\55.jpg',\n   0),\n  ('../../../datas/Project Jellyfish/train_Test_Valid/Train\\\\Moon_jellyfish\\\\56.jpg',\n   0),\n  ('../../../datas/Project Jellyfish/train_Test_Valid/Train\\\\Moon_jellyfish\\\\57.jpg',\n   0),\n  ('../../../datas/Project Jellyfish/train_Test_Valid/Train\\\\Moon_jellyfish\\\\58.jpg',\n   0),\n  ('../../../datas/Project Jellyfish/train_Test_Valid/Train\\\\Moon_jellyfish\\\\61.jpg',\n   0),\n  ('../../../datas/Project Jellyfish/train_Test_Valid/Train\\\\Moon_jellyfish\\\\62.jpg',\n   0),\n  ('../../../datas/Project Jellyfish/train_Test_Valid/Train\\\\Moon_jellyfish\\\\63.jpg',\n   0),\n  ('../../../datas/Project Jellyfish/train_Test_Valid/Train\\\\Moon_jellyfish\\\\64.jpg',\n   0),\n  ('../../../datas/Project Jellyfish/train_Test_Valid/Train\\\\Moon_jellyfish\\\\65.jpg',\n   0),\n  ('../../../datas/Project Jellyfish/train_Test_Valid/Train\\\\Moon_jellyfish\\\\66.jpg',\n   0),\n  ('../../../datas/Project Jellyfish/train_Test_Valid/Train\\\\Moon_jellyfish\\\\67.jpg',\n   0),\n  ('../../../datas/Project Jellyfish/train_Test_Valid/Train\\\\Moon_jellyfish\\\\68.jpg',\n   0),\n  ('../../../datas/Project Jellyfish/train_Test_Valid/Train\\\\Moon_jellyfish\\\\69.jpg',\n   0),\n  ('../../../datas/Project Jellyfish/train_Test_Valid/Train\\\\Moon_jellyfish\\\\70.jpg',\n   0),\n  ('../../../datas/Project Jellyfish/train_Test_Valid/Train\\\\Moon_jellyfish\\\\71.jpg',\n   0),\n  ('../../../datas/Project Jellyfish/train_Test_Valid/Train\\\\Moon_jellyfish\\\\72.jpg',\n   0),\n  ('../../../datas/Project Jellyfish/train_Test_Valid/Train\\\\Moon_jellyfish\\\\73.jpg',\n   0),\n  ('../../../datas/Project Jellyfish/train_Test_Valid/Train\\\\Moon_jellyfish\\\\74.jpg',\n   0),\n  ('../../../datas/Project Jellyfish/train_Test_Valid/Train\\\\Moon_jellyfish\\\\75.jpg',\n   0),\n  ('../../../datas/Project Jellyfish/train_Test_Valid/Train\\\\Moon_jellyfish\\\\76.jpg',\n   0),\n  ('../../../datas/Project Jellyfish/train_Test_Valid/Train\\\\Moon_jellyfish\\\\77.jpg',\n   0),\n  ('../../../datas/Project Jellyfish/train_Test_Valid/Train\\\\Moon_jellyfish\\\\78.jpg',\n   0),\n  ('../../../datas/Project Jellyfish/train_Test_Valid/Train\\\\Moon_jellyfish\\\\79.jpg',\n   0),\n  ('../../../datas/Project Jellyfish/train_Test_Valid/Train\\\\Moon_jellyfish\\\\80.jpg',\n   0),\n  ('../../../datas/Project Jellyfish/train_Test_Valid/Train\\\\Moon_jellyfish\\\\81.jpg',\n   0),\n  ('../../../datas/Project Jellyfish/train_Test_Valid/Train\\\\Moon_jellyfish\\\\82.JPG',\n   0),\n  ('../../../datas/Project Jellyfish/train_Test_Valid/Train\\\\Moon_jellyfish\\\\83.jpg',\n   0),\n  ('../../../datas/Project Jellyfish/train_Test_Valid/Train\\\\Moon_jellyfish\\\\84.jpg',\n   0),\n  ('../../../datas/Project Jellyfish/train_Test_Valid/Train\\\\Moon_jellyfish\\\\85.jpg',\n   0),\n  ('../../../datas/Project Jellyfish/train_Test_Valid/Train\\\\Moon_jellyfish\\\\86.jpg',\n   0),\n  ('../../../datas/Project Jellyfish/train_Test_Valid/Train\\\\Moon_jellyfish\\\\87.jpg',\n   0),\n  ('../../../datas/Project Jellyfish/train_Test_Valid/Train\\\\Moon_jellyfish\\\\88.jpg',\n   0),\n  ('../../../datas/Project Jellyfish/train_Test_Valid/Train\\\\Moon_jellyfish\\\\89.jpg',\n   0),\n  ('../../../datas/Project Jellyfish/train_Test_Valid/Train\\\\Moon_jellyfish\\\\90.jpg',\n   0),\n  ('../../../datas/Project Jellyfish/train_Test_Valid/Train\\\\Moon_jellyfish\\\\91.jpg',\n   0),\n  ('../../../datas/Project Jellyfish/train_Test_Valid/Train\\\\Moon_jellyfish\\\\92.jpg',\n   0),\n  ('../../../datas/Project Jellyfish/train_Test_Valid/Train\\\\Moon_jellyfish\\\\93.jpg',\n   0),\n  ('../../../datas/Project Jellyfish/train_Test_Valid/Train\\\\Moon_jellyfish\\\\94.jpg',\n   0),\n  ('../../../datas/Project Jellyfish/train_Test_Valid/Train\\\\Moon_jellyfish\\\\95.jpg',\n   0),\n  ('../../../datas/Project Jellyfish/train_Test_Valid/Train\\\\Moon_jellyfish\\\\96.jpg',\n   0),\n  ('../../../datas/Project Jellyfish/train_Test_Valid/Train\\\\Moon_jellyfish\\\\97.jpg',\n   0),\n  ('../../../datas/Project Jellyfish/train_Test_Valid/Train\\\\Moon_jellyfish\\\\98.jpg',\n   0),\n  ('../../../datas/Project Jellyfish/train_Test_Valid/Train\\\\Moon_jellyfish\\\\99.jpg',\n   0),\n  ('../../../datas/Project Jellyfish/train_Test_Valid/Train\\\\barrel_jellyfish\\\\aug-100-24.jpg',\n   1),\n  ('../../../datas/Project Jellyfish/train_Test_Valid/Train\\\\barrel_jellyfish\\\\aug-101-25.jpg',\n   1),\n  ('../../../datas/Project Jellyfish/train_Test_Valid/Train\\\\barrel_jellyfish\\\\aug-102-27.jpg',\n   1),\n  ('../../../datas/Project Jellyfish/train_Test_Valid/Train\\\\barrel_jellyfish\\\\aug-103-28.jpg',\n   1),\n  ('../../../datas/Project Jellyfish/train_Test_Valid/Train\\\\barrel_jellyfish\\\\aug-104-29.jpg',\n   1),\n  ('../../../datas/Project Jellyfish/train_Test_Valid/Train\\\\barrel_jellyfish\\\\aug-105-30.jpg',\n   1),\n  ('../../../datas/Project Jellyfish/train_Test_Valid/Train\\\\barrel_jellyfish\\\\aug-106-31.jpg',\n   1),\n  ('../../../datas/Project Jellyfish/train_Test_Valid/Train\\\\barrel_jellyfish\\\\aug-107-32.JPG',\n   1),\n  ('../../../datas/Project Jellyfish/train_Test_Valid/Train\\\\barrel_jellyfish\\\\aug-108-33.jpg',\n   1),\n  ('../../../datas/Project Jellyfish/train_Test_Valid/Train\\\\barrel_jellyfish\\\\aug-90-11.jpg',\n   1),\n  ('../../../datas/Project Jellyfish/train_Test_Valid/Train\\\\barrel_jellyfish\\\\aug-91-12.jpg',\n   1),\n  ('../../../datas/Project Jellyfish/train_Test_Valid/Train\\\\barrel_jellyfish\\\\aug-92-13.jpg',\n   1),\n  ('../../../datas/Project Jellyfish/train_Test_Valid/Train\\\\barrel_jellyfish\\\\aug-93-14.jpg',\n   1),\n  ('../../../datas/Project Jellyfish/train_Test_Valid/Train\\\\barrel_jellyfish\\\\aug-94-15.jpg',\n   1),\n  ('../../../datas/Project Jellyfish/train_Test_Valid/Train\\\\barrel_jellyfish\\\\aug-95-17.jpg',\n   1),\n  ('../../../datas/Project Jellyfish/train_Test_Valid/Train\\\\barrel_jellyfish\\\\aug-96-18.jpg',\n   1),\n  ('../../../datas/Project Jellyfish/train_Test_Valid/Train\\\\barrel_jellyfish\\\\aug-97-20.jpg',\n   1),\n  ('../../../datas/Project Jellyfish/train_Test_Valid/Train\\\\barrel_jellyfish\\\\aug-98-21.jpg',\n   1),\n  ('../../../datas/Project Jellyfish/train_Test_Valid/Train\\\\barrel_jellyfish\\\\aug-99-22.jpg',\n   1),\n  ('../../../datas/Project Jellyfish/train_Test_Valid/Train\\\\barrel_jellyfish\\\\br_01.jpeg',\n   1),\n  ('../../../datas/Project Jellyfish/train_Test_Valid/Train\\\\barrel_jellyfish\\\\br_02.jpg',\n   1),\n  ('../../../datas/Project Jellyfish/train_Test_Valid/Train\\\\barrel_jellyfish\\\\br_03.jpg',\n   1),\n  ('../../../datas/Project Jellyfish/train_Test_Valid/Train\\\\barrel_jellyfish\\\\br_04.jpg',\n   1),\n  ('../../../datas/Project Jellyfish/train_Test_Valid/Train\\\\barrel_jellyfish\\\\br_05.jpg',\n   1),\n  ('../../../datas/Project Jellyfish/train_Test_Valid/Train\\\\barrel_jellyfish\\\\br_06.jpg',\n   1),\n  ('../../../datas/Project Jellyfish/train_Test_Valid/Train\\\\barrel_jellyfish\\\\br_07.jpg',\n   1),\n  ('../../../datas/Project Jellyfish/train_Test_Valid/Train\\\\barrel_jellyfish\\\\br_08.jpg',\n   1),\n  ('../../../datas/Project Jellyfish/train_Test_Valid/Train\\\\barrel_jellyfish\\\\br_09.jpg',\n   1),\n  ('../../../datas/Project Jellyfish/train_Test_Valid/Train\\\\barrel_jellyfish\\\\br_10.jpg',\n   1),\n  ('../../../datas/Project Jellyfish/train_Test_Valid/Train\\\\barrel_jellyfish\\\\br_100.jpg',\n   1),\n  ('../../../datas/Project Jellyfish/train_Test_Valid/Train\\\\barrel_jellyfish\\\\br_101.jpg',\n   1),\n  ('../../../datas/Project Jellyfish/train_Test_Valid/Train\\\\barrel_jellyfish\\\\br_102.jpg',\n   1),\n  ('../../../datas/Project Jellyfish/train_Test_Valid/Train\\\\barrel_jellyfish\\\\br_103.jpg',\n   1),\n  ('../../../datas/Project Jellyfish/train_Test_Valid/Train\\\\barrel_jellyfish\\\\br_104.jpg',\n   1),\n  ('../../../datas/Project Jellyfish/train_Test_Valid/Train\\\\barrel_jellyfish\\\\br_105.jpg',\n   1),\n  ('../../../datas/Project Jellyfish/train_Test_Valid/Train\\\\barrel_jellyfish\\\\br_106.jpg',\n   1),\n  ('../../../datas/Project Jellyfish/train_Test_Valid/Train\\\\barrel_jellyfish\\\\br_107.jpg',\n   1),\n  ('../../../datas/Project Jellyfish/train_Test_Valid/Train\\\\barrel_jellyfish\\\\br_108.JPG',\n   1),\n  ('../../../datas/Project Jellyfish/train_Test_Valid/Train\\\\barrel_jellyfish\\\\br_109.jpg',\n   1),\n  ('../../../datas/Project Jellyfish/train_Test_Valid/Train\\\\barrel_jellyfish\\\\br_11.jpg',\n   1),\n  ('../../../datas/Project Jellyfish/train_Test_Valid/Train\\\\barrel_jellyfish\\\\br_110.jpg',\n   1),\n  ('../../../datas/Project Jellyfish/train_Test_Valid/Train\\\\barrel_jellyfish\\\\br_111.jpg',\n   1),\n  ('../../../datas/Project Jellyfish/train_Test_Valid/Train\\\\barrel_jellyfish\\\\br_112.jpg',\n   1),\n  ('../../../datas/Project Jellyfish/train_Test_Valid/Train\\\\barrel_jellyfish\\\\br_113.jpg',\n   1),\n  ('../../../datas/Project Jellyfish/train_Test_Valid/Train\\\\barrel_jellyfish\\\\br_114.jpg',\n   1),\n  ('../../../datas/Project Jellyfish/train_Test_Valid/Train\\\\barrel_jellyfish\\\\br_115.JPG',\n   1),\n  ('../../../datas/Project Jellyfish/train_Test_Valid/Train\\\\barrel_jellyfish\\\\br_116.jpg',\n   1),\n  ('../../../datas/Project Jellyfish/train_Test_Valid/Train\\\\barrel_jellyfish\\\\br_117.jpg',\n   1),\n  ('../../../datas/Project Jellyfish/train_Test_Valid/Train\\\\barrel_jellyfish\\\\br_118.jpg',\n   1),\n  ('../../../datas/Project Jellyfish/train_Test_Valid/Train\\\\barrel_jellyfish\\\\br_119.jpg',\n   1),\n  ('../../../datas/Project Jellyfish/train_Test_Valid/Train\\\\barrel_jellyfish\\\\br_12.jpg',\n   1),\n  ('../../../datas/Project Jellyfish/train_Test_Valid/Train\\\\barrel_jellyfish\\\\br_120.jpg',\n   1),\n  ('../../../datas/Project Jellyfish/train_Test_Valid/Train\\\\barrel_jellyfish\\\\br_121.jpg',\n   1),\n  ('../../../datas/Project Jellyfish/train_Test_Valid/Train\\\\barrel_jellyfish\\\\br_122.jpg',\n   1),\n  ('../../../datas/Project Jellyfish/train_Test_Valid/Train\\\\barrel_jellyfish\\\\br_123.jpg',\n   1),\n  ('../../../datas/Project Jellyfish/train_Test_Valid/Train\\\\barrel_jellyfish\\\\br_124.jpeg',\n   1),\n  ('../../../datas/Project Jellyfish/train_Test_Valid/Train\\\\barrel_jellyfish\\\\br_125.jpg',\n   1),\n  ('../../../datas/Project Jellyfish/train_Test_Valid/Train\\\\barrel_jellyfish\\\\br_126.jpg',\n   1),\n  ('../../../datas/Project Jellyfish/train_Test_Valid/Train\\\\barrel_jellyfish\\\\br_127.jpg',\n   1),\n  ('../../../datas/Project Jellyfish/train_Test_Valid/Train\\\\barrel_jellyfish\\\\br_128.jpg',\n   1),\n  ('../../../datas/Project Jellyfish/train_Test_Valid/Train\\\\barrel_jellyfish\\\\br_129.jpg',\n   1),\n  ('../../../datas/Project Jellyfish/train_Test_Valid/Train\\\\barrel_jellyfish\\\\br_13.jpg',\n   1),\n  ('../../../datas/Project Jellyfish/train_Test_Valid/Train\\\\barrel_jellyfish\\\\br_130.jpg',\n   1),\n  ('../../../datas/Project Jellyfish/train_Test_Valid/Train\\\\barrel_jellyfish\\\\br_131.jpg',\n   1),\n  ('../../../datas/Project Jellyfish/train_Test_Valid/Train\\\\barrel_jellyfish\\\\br_14.jpg',\n   1),\n  ('../../../datas/Project Jellyfish/train_Test_Valid/Train\\\\barrel_jellyfish\\\\br_15.jpg',\n   1),\n  ('../../../datas/Project Jellyfish/train_Test_Valid/Train\\\\barrel_jellyfish\\\\br_16.jpg',\n   1),\n  ('../../../datas/Project Jellyfish/train_Test_Valid/Train\\\\barrel_jellyfish\\\\br_17.jpg',\n   1),\n  ('../../../datas/Project Jellyfish/train_Test_Valid/Train\\\\barrel_jellyfish\\\\br_18.jpg',\n   1),\n  ('../../../datas/Project Jellyfish/train_Test_Valid/Train\\\\barrel_jellyfish\\\\br_19.jpg',\n   1),\n  ('../../../datas/Project Jellyfish/train_Test_Valid/Train\\\\barrel_jellyfish\\\\br_20.jpg',\n   1),\n  ('../../../datas/Project Jellyfish/train_Test_Valid/Train\\\\barrel_jellyfish\\\\br_21.jpg',\n   1),\n  ('../../../datas/Project Jellyfish/train_Test_Valid/Train\\\\barrel_jellyfish\\\\br_22.jpg',\n   1),\n  ('../../../datas/Project Jellyfish/train_Test_Valid/Train\\\\barrel_jellyfish\\\\br_23.jpg',\n   1),\n  ('../../../datas/Project Jellyfish/train_Test_Valid/Train\\\\barrel_jellyfish\\\\br_24.jpg',\n   1),\n  ('../../../datas/Project Jellyfish/train_Test_Valid/Train\\\\barrel_jellyfish\\\\br_25.jpg',\n   1),\n  ('../../../datas/Project Jellyfish/train_Test_Valid/Train\\\\barrel_jellyfish\\\\br_26.JPG',\n   1),\n  ('../../../datas/Project Jellyfish/train_Test_Valid/Train\\\\barrel_jellyfish\\\\br_27.jpg',\n   1),\n  ('../../../datas/Project Jellyfish/train_Test_Valid/Train\\\\barrel_jellyfish\\\\br_28.jpg',\n   1),\n  ('../../../datas/Project Jellyfish/train_Test_Valid/Train\\\\barrel_jellyfish\\\\br_29.jpg',\n   1),\n  ('../../../datas/Project Jellyfish/train_Test_Valid/Train\\\\barrel_jellyfish\\\\br_30.jpg',\n   1),\n  ('../../../datas/Project Jellyfish/train_Test_Valid/Train\\\\barrel_jellyfish\\\\br_31.jpg',\n   1),\n  ('../../../datas/Project Jellyfish/train_Test_Valid/Train\\\\barrel_jellyfish\\\\br_32.jpg',\n   1),\n  ('../../../datas/Project Jellyfish/train_Test_Valid/Train\\\\barrel_jellyfish\\\\br_33.JPG',\n   1),\n  ('../../../datas/Project Jellyfish/train_Test_Valid/Train\\\\barrel_jellyfish\\\\br_34.jpg',\n   1),\n  ('../../../datas/Project Jellyfish/train_Test_Valid/Train\\\\barrel_jellyfish\\\\br_35.jpg',\n   1),\n  ('../../../datas/Project Jellyfish/train_Test_Valid/Train\\\\barrel_jellyfish\\\\br_36.jpg',\n   1),\n  ('../../../datas/Project Jellyfish/train_Test_Valid/Train\\\\barrel_jellyfish\\\\br_37.jpg',\n   1),\n  ('../../../datas/Project Jellyfish/train_Test_Valid/Train\\\\barrel_jellyfish\\\\br_38.jpg',\n   1),\n  ('../../../datas/Project Jellyfish/train_Test_Valid/Train\\\\barrel_jellyfish\\\\br_39.jpg',\n   1),\n  ('../../../datas/Project Jellyfish/train_Test_Valid/Train\\\\barrel_jellyfish\\\\br_40.jpg',\n   1),\n  ('../../../datas/Project Jellyfish/train_Test_Valid/Train\\\\barrel_jellyfish\\\\br_41.jpg',\n   1),\n  ('../../../datas/Project Jellyfish/train_Test_Valid/Train\\\\barrel_jellyfish\\\\br_42.jpeg',\n   1),\n  ('../../../datas/Project Jellyfish/train_Test_Valid/Train\\\\barrel_jellyfish\\\\br_43.jpg',\n   1),\n  ('../../../datas/Project Jellyfish/train_Test_Valid/Train\\\\barrel_jellyfish\\\\br_44.jpg',\n   1),\n  ('../../../datas/Project Jellyfish/train_Test_Valid/Train\\\\barrel_jellyfish\\\\br_45.jpg',\n   1),\n  ('../../../datas/Project Jellyfish/train_Test_Valid/Train\\\\barrel_jellyfish\\\\br_46.jpg',\n   1),\n  ('../../../datas/Project Jellyfish/train_Test_Valid/Train\\\\barrel_jellyfish\\\\br_47.jpg',\n   1),\n  ('../../../datas/Project Jellyfish/train_Test_Valid/Train\\\\barrel_jellyfish\\\\br_48.jpg',\n   1),\n  ('../../../datas/Project Jellyfish/train_Test_Valid/Train\\\\barrel_jellyfish\\\\br_49.jpg',\n   1),\n  ('../../../datas/Project Jellyfish/train_Test_Valid/Train\\\\barrel_jellyfish\\\\br_50.jpg',\n   1),\n  ('../../../datas/Project Jellyfish/train_Test_Valid/Train\\\\barrel_jellyfish\\\\br_51.jpg',\n   1),\n  ('../../../datas/Project Jellyfish/train_Test_Valid/Train\\\\barrel_jellyfish\\\\br_52.jpg',\n   1),\n  ('../../../datas/Project Jellyfish/train_Test_Valid/Train\\\\barrel_jellyfish\\\\br_53.jpg',\n   1),\n  ('../../../datas/Project Jellyfish/train_Test_Valid/Train\\\\barrel_jellyfish\\\\br_54.jpg',\n   1),\n  ('../../../datas/Project Jellyfish/train_Test_Valid/Train\\\\barrel_jellyfish\\\\br_55.jpg',\n   1),\n  ('../../../datas/Project Jellyfish/train_Test_Valid/Train\\\\barrel_jellyfish\\\\br_56.jpg',\n   1),\n  ('../../../datas/Project Jellyfish/train_Test_Valid/Train\\\\barrel_jellyfish\\\\br_57.jpg',\n   1),\n  ('../../../datas/Project Jellyfish/train_Test_Valid/Train\\\\barrel_jellyfish\\\\br_58.jpg',\n   1),\n  ('../../../datas/Project Jellyfish/train_Test_Valid/Train\\\\barrel_jellyfish\\\\br_59.jpg',\n   1),\n  ('../../../datas/Project Jellyfish/train_Test_Valid/Train\\\\barrel_jellyfish\\\\br_60.jpg',\n   1),\n  ('../../../datas/Project Jellyfish/train_Test_Valid/Train\\\\barrel_jellyfish\\\\br_61.jpg',\n   1),\n  ('../../../datas/Project Jellyfish/train_Test_Valid/Train\\\\barrel_jellyfish\\\\br_62.jpg',\n   1),\n  ('../../../datas/Project Jellyfish/train_Test_Valid/Train\\\\barrel_jellyfish\\\\br_63.jpg',\n   1),\n  ('../../../datas/Project Jellyfish/train_Test_Valid/Train\\\\barrel_jellyfish\\\\br_64.jpg',\n   1),\n  ('../../../datas/Project Jellyfish/train_Test_Valid/Train\\\\barrel_jellyfish\\\\br_65.jpg',\n   1),\n  ('../../../datas/Project Jellyfish/train_Test_Valid/Train\\\\barrel_jellyfish\\\\br_66.jpg',\n   1),\n  ('../../../datas/Project Jellyfish/train_Test_Valid/Train\\\\barrel_jellyfish\\\\br_67.JPG',\n   1),\n  ('../../../datas/Project Jellyfish/train_Test_Valid/Train\\\\barrel_jellyfish\\\\br_68.jpg',\n   1),\n  ('../../../datas/Project Jellyfish/train_Test_Valid/Train\\\\barrel_jellyfish\\\\br_69.jpg',\n   1),\n  ('../../../datas/Project Jellyfish/train_Test_Valid/Train\\\\barrel_jellyfish\\\\br_70.jpg',\n   1),\n  ('../../../datas/Project Jellyfish/train_Test_Valid/Train\\\\barrel_jellyfish\\\\br_71.jpg',\n   1),\n  ('../../../datas/Project Jellyfish/train_Test_Valid/Train\\\\barrel_jellyfish\\\\br_72.jpg',\n   1),\n  ('../../../datas/Project Jellyfish/train_Test_Valid/Train\\\\barrel_jellyfish\\\\br_73.jpg',\n   1),\n  ('../../../datas/Project Jellyfish/train_Test_Valid/Train\\\\barrel_jellyfish\\\\br_74.JPG',\n   1),\n  ('../../../datas/Project Jellyfish/train_Test_Valid/Train\\\\barrel_jellyfish\\\\br_75.jpg',\n   1),\n  ('../../../datas/Project Jellyfish/train_Test_Valid/Train\\\\barrel_jellyfish\\\\br_76.jpg',\n   1),\n  ('../../../datas/Project Jellyfish/train_Test_Valid/Train\\\\barrel_jellyfish\\\\br_77.jpg',\n   1),\n  ('../../../datas/Project Jellyfish/train_Test_Valid/Train\\\\barrel_jellyfish\\\\br_78.jpg',\n   1),\n  ('../../../datas/Project Jellyfish/train_Test_Valid/Train\\\\barrel_jellyfish\\\\br_79.jpg',\n   1),\n  ('../../../datas/Project Jellyfish/train_Test_Valid/Train\\\\barrel_jellyfish\\\\br_80.jpg',\n   1),\n  ('../../../datas/Project Jellyfish/train_Test_Valid/Train\\\\barrel_jellyfish\\\\br_81.jpg',\n   1),\n  ('../../../datas/Project Jellyfish/train_Test_Valid/Train\\\\barrel_jellyfish\\\\br_82.jpg',\n   1),\n  ('../../../datas/Project Jellyfish/train_Test_Valid/Train\\\\barrel_jellyfish\\\\br_83.jpeg',\n   1),\n  ('../../../datas/Project Jellyfish/train_Test_Valid/Train\\\\barrel_jellyfish\\\\br_84.jpg',\n   1),\n  ('../../../datas/Project Jellyfish/train_Test_Valid/Train\\\\barrel_jellyfish\\\\br_85.jpg',\n   1),\n  ('../../../datas/Project Jellyfish/train_Test_Valid/Train\\\\barrel_jellyfish\\\\br_86.jpg',\n   1),\n  ('../../../datas/Project Jellyfish/train_Test_Valid/Train\\\\barrel_jellyfish\\\\br_87.jpg',\n   1),\n  ('../../../datas/Project Jellyfish/train_Test_Valid/Train\\\\barrel_jellyfish\\\\br_88.jpg',\n   1),\n  ('../../../datas/Project Jellyfish/train_Test_Valid/Train\\\\barrel_jellyfish\\\\br_89.jpg',\n   1),\n  ('../../../datas/Project Jellyfish/train_Test_Valid/Train\\\\barrel_jellyfish\\\\br_90.jpg',\n   1),\n  ('../../../datas/Project Jellyfish/train_Test_Valid/Train\\\\barrel_jellyfish\\\\br_91.jpg',\n   1),\n  ('../../../datas/Project Jellyfish/train_Test_Valid/Train\\\\barrel_jellyfish\\\\br_92.jpg',\n   1),\n  ('../../../datas/Project Jellyfish/train_Test_Valid/Train\\\\barrel_jellyfish\\\\br_93.jpg',\n   1),\n  ('../../../datas/Project Jellyfish/train_Test_Valid/Train\\\\barrel_jellyfish\\\\br_94.jpg',\n   1),\n  ('../../../datas/Project Jellyfish/train_Test_Valid/Train\\\\barrel_jellyfish\\\\br_95.jpg',\n   1),\n  ('../../../datas/Project Jellyfish/train_Test_Valid/Train\\\\barrel_jellyfish\\\\br_96.jpg',\n   1),\n  ('../../../datas/Project Jellyfish/train_Test_Valid/Train\\\\barrel_jellyfish\\\\br_97.jpg',\n   1),\n  ('../../../datas/Project Jellyfish/train_Test_Valid/Train\\\\barrel_jellyfish\\\\br_98.jpg',\n   1),\n  ('../../../datas/Project Jellyfish/train_Test_Valid/Train\\\\barrel_jellyfish\\\\br_99.jpg',\n   1),\n  ('../../../datas/Project Jellyfish/train_Test_Valid/Train\\\\blue_jellyfish\\\\02.jpg',\n   2),\n  ('../../../datas/Project Jellyfish/train_Test_Valid/Train\\\\blue_jellyfish\\\\03.jpg',\n   2),\n  ('../../../datas/Project Jellyfish/train_Test_Valid/Train\\\\blue_jellyfish\\\\04.jpg',\n   2),\n  ('../../../datas/Project Jellyfish/train_Test_Valid/Train\\\\blue_jellyfish\\\\06.jpg',\n   2),\n  ('../../../datas/Project Jellyfish/train_Test_Valid/Train\\\\blue_jellyfish\\\\07.jpg',\n   2),\n  ('../../../datas/Project Jellyfish/train_Test_Valid/Train\\\\blue_jellyfish\\\\08.jpg',\n   2),\n  ('../../../datas/Project Jellyfish/train_Test_Valid/Train\\\\blue_jellyfish\\\\09.jpg',\n   2),\n  ('../../../datas/Project Jellyfish/train_Test_Valid/Train\\\\blue_jellyfish\\\\11.jpg',\n   2),\n  ('../../../datas/Project Jellyfish/train_Test_Valid/Train\\\\blue_jellyfish\\\\13.jpg',\n   2),\n  ('../../../datas/Project Jellyfish/train_Test_Valid/Train\\\\blue_jellyfish\\\\15.jpg',\n   2),\n  ('../../../datas/Project Jellyfish/train_Test_Valid/Train\\\\blue_jellyfish\\\\17.jpg',\n   2),\n  ('../../../datas/Project Jellyfish/train_Test_Valid/Train\\\\blue_jellyfish\\\\18.jpg',\n   2),\n  ('../../../datas/Project Jellyfish/train_Test_Valid/Train\\\\blue_jellyfish\\\\20.jpg',\n   2),\n  ('../../../datas/Project Jellyfish/train_Test_Valid/Train\\\\blue_jellyfish\\\\21.jpg',\n   2),\n  ('../../../datas/Project Jellyfish/train_Test_Valid/Train\\\\blue_jellyfish\\\\23.jpg',\n   2),\n  ('../../../datas/Project Jellyfish/train_Test_Valid/Train\\\\blue_jellyfish\\\\25.jpg',\n   2),\n  ('../../../datas/Project Jellyfish/train_Test_Valid/Train\\\\blue_jellyfish\\\\26.jpg',\n   2),\n  ('../../../datas/Project Jellyfish/train_Test_Valid/Train\\\\blue_jellyfish\\\\27.jpg',\n   2),\n  ('../../../datas/Project Jellyfish/train_Test_Valid/Train\\\\blue_jellyfish\\\\28.jpg',\n   2),\n  ('../../../datas/Project Jellyfish/train_Test_Valid/Train\\\\blue_jellyfish\\\\29.jpg',\n   2),\n  ('../../../datas/Project Jellyfish/train_Test_Valid/Train\\\\blue_jellyfish\\\\31.jpg',\n   2),\n  ('../../../datas/Project Jellyfish/train_Test_Valid/Train\\\\blue_jellyfish\\\\32.jpg',\n   2),\n  ('../../../datas/Project Jellyfish/train_Test_Valid/Train\\\\blue_jellyfish\\\\34.jpg',\n   2),\n  ('../../../datas/Project Jellyfish/train_Test_Valid/Train\\\\blue_jellyfish\\\\36.jpg',\n   2),\n  ('../../../datas/Project Jellyfish/train_Test_Valid/Train\\\\blue_jellyfish\\\\37.jpg',\n   2),\n  ('../../../datas/Project Jellyfish/train_Test_Valid/Train\\\\blue_jellyfish\\\\38.jpg',\n   2),\n  ('../../../datas/Project Jellyfish/train_Test_Valid/Train\\\\blue_jellyfish\\\\39.jpg',\n   2),\n  ('../../../datas/Project Jellyfish/train_Test_Valid/Train\\\\blue_jellyfish\\\\40.jpg',\n   2),\n  ('../../../datas/Project Jellyfish/train_Test_Valid/Train\\\\blue_jellyfish\\\\41.jpg',\n   2),\n  ('../../../datas/Project Jellyfish/train_Test_Valid/Train\\\\blue_jellyfish\\\\42.jpg',\n   2),\n  ('../../../datas/Project Jellyfish/train_Test_Valid/Train\\\\blue_jellyfish\\\\43.jpg',\n   2),\n  ('../../../datas/Project Jellyfish/train_Test_Valid/Train\\\\blue_jellyfish\\\\44.jpg',\n   2),\n  ('../../../datas/Project Jellyfish/train_Test_Valid/Train\\\\blue_jellyfish\\\\45.jpg',\n   2),\n  ('../../../datas/Project Jellyfish/train_Test_Valid/Train\\\\blue_jellyfish\\\\46.jpg',\n   2),\n  ('../../../datas/Project Jellyfish/train_Test_Valid/Train\\\\blue_jellyfish\\\\49.jpg',\n   2),\n  ('../../../datas/Project Jellyfish/train_Test_Valid/Train\\\\blue_jellyfish\\\\50.jpg',\n   2),\n  ('../../../datas/Project Jellyfish/train_Test_Valid/Train\\\\blue_jellyfish\\\\51.jpg',\n   2),\n  ('../../../datas/Project Jellyfish/train_Test_Valid/Train\\\\blue_jellyfish\\\\52.jpg',\n   2),\n  ('../../../datas/Project Jellyfish/train_Test_Valid/Train\\\\blue_jellyfish\\\\53.jpg',\n   2),\n  ('../../../datas/Project Jellyfish/train_Test_Valid/Train\\\\blue_jellyfish\\\\54.jpg',\n   2),\n  ('../../../datas/Project Jellyfish/train_Test_Valid/Train\\\\blue_jellyfish\\\\55.jpg',\n   2),\n  ('../../../datas/Project Jellyfish/train_Test_Valid/Train\\\\blue_jellyfish\\\\56.jpg',\n   2),\n  ('../../../datas/Project Jellyfish/train_Test_Valid/Train\\\\blue_jellyfish\\\\57.jpg',\n   2),\n  ('../../../datas/Project Jellyfish/train_Test_Valid/Train\\\\blue_jellyfish\\\\58.jpg',\n   2),\n  ('../../../datas/Project Jellyfish/train_Test_Valid/Train\\\\blue_jellyfish\\\\59.jpg',\n   2),\n  ('../../../datas/Project Jellyfish/train_Test_Valid/Train\\\\blue_jellyfish\\\\60.jpg',\n   2),\n  ('../../../datas/Project Jellyfish/train_Test_Valid/Train\\\\blue_jellyfish\\\\61.jpg',\n   2),\n  ('../../../datas/Project Jellyfish/train_Test_Valid/Train\\\\blue_jellyfish\\\\62.jpg',\n   2),\n  ('../../../datas/Project Jellyfish/train_Test_Valid/Train\\\\blue_jellyfish\\\\63.jpg',\n   2),\n  ('../../../datas/Project Jellyfish/train_Test_Valid/Train\\\\blue_jellyfish\\\\64.jpg',\n   2),\n  ('../../../datas/Project Jellyfish/train_Test_Valid/Train\\\\blue_jellyfish\\\\65.jpg',\n   2),\n  ('../../../datas/Project Jellyfish/train_Test_Valid/Train\\\\blue_jellyfish\\\\66.jpg',\n   2),\n  ('../../../datas/Project Jellyfish/train_Test_Valid/Train\\\\blue_jellyfish\\\\67.jpg',\n   2),\n  ('../../../datas/Project Jellyfish/train_Test_Valid/Train\\\\blue_jellyfish\\\\68.png',\n   2),\n  ('../../../datas/Project Jellyfish/train_Test_Valid/Train\\\\blue_jellyfish\\\\69.jpg',\n   2),\n  ('../../../datas/Project Jellyfish/train_Test_Valid/Train\\\\blue_jellyfish\\\\aug-0-02.jpg',\n   2),\n  ('../../../datas/Project Jellyfish/train_Test_Valid/Train\\\\blue_jellyfish\\\\aug-1-03.jpg',\n   2),\n  ('../../../datas/Project Jellyfish/train_Test_Valid/Train\\\\blue_jellyfish\\\\aug-10-17.jpg',\n   2),\n  ('../../../datas/Project Jellyfish/train_Test_Valid/Train\\\\blue_jellyfish\\\\aug-11-18.jpg',\n   2),\n  ('../../../datas/Project Jellyfish/train_Test_Valid/Train\\\\blue_jellyfish\\\\aug-12-20.jpg',\n   2),\n  ('../../../datas/Project Jellyfish/train_Test_Valid/Train\\\\blue_jellyfish\\\\aug-13-21.jpg',\n   2),\n  ('../../../datas/Project Jellyfish/train_Test_Valid/Train\\\\blue_jellyfish\\\\aug-14-23.jpg',\n   2),\n  ('../../../datas/Project Jellyfish/train_Test_Valid/Train\\\\blue_jellyfish\\\\aug-15-25.jpg',\n   2),\n  ('../../../datas/Project Jellyfish/train_Test_Valid/Train\\\\blue_jellyfish\\\\aug-16-26.jpg',\n   2),\n  ('../../../datas/Project Jellyfish/train_Test_Valid/Train\\\\blue_jellyfish\\\\aug-17-27.jpg',\n   2),\n  ('../../../datas/Project Jellyfish/train_Test_Valid/Train\\\\blue_jellyfish\\\\aug-18-28.jpg',\n   2),\n  ('../../../datas/Project Jellyfish/train_Test_Valid/Train\\\\blue_jellyfish\\\\aug-19-29.jpg',\n   2),\n  ('../../../datas/Project Jellyfish/train_Test_Valid/Train\\\\blue_jellyfish\\\\aug-2-04.jpg',\n   2),\n  ('../../../datas/Project Jellyfish/train_Test_Valid/Train\\\\blue_jellyfish\\\\aug-20-31.jpg',\n   2),\n  ('../../../datas/Project Jellyfish/train_Test_Valid/Train\\\\blue_jellyfish\\\\aug-21-32.jpg',\n   2),\n  ('../../../datas/Project Jellyfish/train_Test_Valid/Train\\\\blue_jellyfish\\\\aug-22-34.jpg',\n   2),\n  ('../../../datas/Project Jellyfish/train_Test_Valid/Train\\\\blue_jellyfish\\\\aug-23-36.jpg',\n   2),\n  ('../../../datas/Project Jellyfish/train_Test_Valid/Train\\\\blue_jellyfish\\\\aug-24-37.jpg',\n   2),\n  ('../../../datas/Project Jellyfish/train_Test_Valid/Train\\\\blue_jellyfish\\\\aug-25-38.jpg',\n   2),\n  ('../../../datas/Project Jellyfish/train_Test_Valid/Train\\\\blue_jellyfish\\\\aug-26-39.jpg',\n   2),\n  ('../../../datas/Project Jellyfish/train_Test_Valid/Train\\\\blue_jellyfish\\\\aug-27-40.jpg',\n   2),\n  ('../../../datas/Project Jellyfish/train_Test_Valid/Train\\\\blue_jellyfish\\\\aug-28-41.jpg',\n   2),\n  ('../../../datas/Project Jellyfish/train_Test_Valid/Train\\\\blue_jellyfish\\\\aug-29-42.jpg',\n   2),\n  ('../../../datas/Project Jellyfish/train_Test_Valid/Train\\\\blue_jellyfish\\\\aug-3-06.jpg',\n   2),\n  ('../../../datas/Project Jellyfish/train_Test_Valid/Train\\\\blue_jellyfish\\\\aug-30-43.jpg',\n   2),\n  ('../../../datas/Project Jellyfish/train_Test_Valid/Train\\\\blue_jellyfish\\\\aug-31-44.jpg',\n   2),\n  ('../../../datas/Project Jellyfish/train_Test_Valid/Train\\\\blue_jellyfish\\\\aug-32-45.jpg',\n   2),\n  ('../../../datas/Project Jellyfish/train_Test_Valid/Train\\\\blue_jellyfish\\\\aug-33-46.jpg',\n   2),\n  ('../../../datas/Project Jellyfish/train_Test_Valid/Train\\\\blue_jellyfish\\\\aug-34-49.jpg',\n   2),\n  ('../../../datas/Project Jellyfish/train_Test_Valid/Train\\\\blue_jellyfish\\\\aug-35-50.jpg',\n   2),\n  ('../../../datas/Project Jellyfish/train_Test_Valid/Train\\\\blue_jellyfish\\\\aug-36-51.jpg',\n   2),\n  ('../../../datas/Project Jellyfish/train_Test_Valid/Train\\\\blue_jellyfish\\\\aug-37-52.jpg',\n   2),\n  ('../../../datas/Project Jellyfish/train_Test_Valid/Train\\\\blue_jellyfish\\\\aug-38-53.jpg',\n   2),\n  ('../../../datas/Project Jellyfish/train_Test_Valid/Train\\\\blue_jellyfish\\\\aug-39-54.jpg',\n   2),\n  ('../../../datas/Project Jellyfish/train_Test_Valid/Train\\\\blue_jellyfish\\\\aug-4-07.jpg',\n   2),\n  ('../../../datas/Project Jellyfish/train_Test_Valid/Train\\\\blue_jellyfish\\\\aug-40-55.jpg',\n   2),\n  ('../../../datas/Project Jellyfish/train_Test_Valid/Train\\\\blue_jellyfish\\\\aug-41-56.jpg',\n   2),\n  ('../../../datas/Project Jellyfish/train_Test_Valid/Train\\\\blue_jellyfish\\\\aug-42-57.jpg',\n   2),\n  ('../../../datas/Project Jellyfish/train_Test_Valid/Train\\\\blue_jellyfish\\\\aug-43-58.jpg',\n   2),\n  ('../../../datas/Project Jellyfish/train_Test_Valid/Train\\\\blue_jellyfish\\\\aug-44-59.jpg',\n   2),\n  ('../../../datas/Project Jellyfish/train_Test_Valid/Train\\\\blue_jellyfish\\\\aug-45-60.jpg',\n   2),\n  ('../../../datas/Project Jellyfish/train_Test_Valid/Train\\\\blue_jellyfish\\\\aug-46-61.jpg',\n   2),\n  ('../../../datas/Project Jellyfish/train_Test_Valid/Train\\\\blue_jellyfish\\\\aug-47-62.jpg',\n   2),\n  ('../../../datas/Project Jellyfish/train_Test_Valid/Train\\\\blue_jellyfish\\\\aug-48-63.jpg',\n   2),\n  ('../../../datas/Project Jellyfish/train_Test_Valid/Train\\\\blue_jellyfish\\\\aug-49-64.jpg',\n   2),\n  ('../../../datas/Project Jellyfish/train_Test_Valid/Train\\\\blue_jellyfish\\\\aug-5-08.jpg',\n   2),\n  ('../../../datas/Project Jellyfish/train_Test_Valid/Train\\\\blue_jellyfish\\\\aug-50-65.jpg',\n   2),\n  ('../../../datas/Project Jellyfish/train_Test_Valid/Train\\\\blue_jellyfish\\\\aug-51-66.jpg',\n   2),\n  ('../../../datas/Project Jellyfish/train_Test_Valid/Train\\\\blue_jellyfish\\\\aug-52-67.jpg',\n   2),\n  ('../../../datas/Project Jellyfish/train_Test_Valid/Train\\\\blue_jellyfish\\\\aug-53-68.png',\n   2),\n  ('../../../datas/Project Jellyfish/train_Test_Valid/Train\\\\blue_jellyfish\\\\aug-54-69.jpg',\n   2),\n  ('../../../datas/Project Jellyfish/train_Test_Valid/Train\\\\blue_jellyfish\\\\aug-55-02.jpg',\n   2),\n  ('../../../datas/Project Jellyfish/train_Test_Valid/Train\\\\blue_jellyfish\\\\aug-56-03.jpg',\n   2),\n  ('../../../datas/Project Jellyfish/train_Test_Valid/Train\\\\blue_jellyfish\\\\aug-57-04.jpg',\n   2),\n  ('../../../datas/Project Jellyfish/train_Test_Valid/Train\\\\blue_jellyfish\\\\aug-58-06.jpg',\n   2),\n  ('../../../datas/Project Jellyfish/train_Test_Valid/Train\\\\blue_jellyfish\\\\aug-59-07.jpg',\n   2),\n  ('../../../datas/Project Jellyfish/train_Test_Valid/Train\\\\blue_jellyfish\\\\aug-6-09.jpg',\n   2),\n  ('../../../datas/Project Jellyfish/train_Test_Valid/Train\\\\blue_jellyfish\\\\aug-60-08.jpg',\n   2),\n  ('../../../datas/Project Jellyfish/train_Test_Valid/Train\\\\blue_jellyfish\\\\aug-61-09.jpg',\n   2),\n  ('../../../datas/Project Jellyfish/train_Test_Valid/Train\\\\blue_jellyfish\\\\aug-62-11.jpg',\n   2),\n  ('../../../datas/Project Jellyfish/train_Test_Valid/Train\\\\blue_jellyfish\\\\aug-63-13.jpg',\n   2),\n  ('../../../datas/Project Jellyfish/train_Test_Valid/Train\\\\blue_jellyfish\\\\aug-64-15.jpg',\n   2),\n  ('../../../datas/Project Jellyfish/train_Test_Valid/Train\\\\blue_jellyfish\\\\aug-65-17.jpg',\n   2),\n  ('../../../datas/Project Jellyfish/train_Test_Valid/Train\\\\blue_jellyfish\\\\aug-66-18.jpg',\n   2),\n  ('../../../datas/Project Jellyfish/train_Test_Valid/Train\\\\blue_jellyfish\\\\aug-67-20.jpg',\n   2),\n  ('../../../datas/Project Jellyfish/train_Test_Valid/Train\\\\blue_jellyfish\\\\aug-68-21.jpg',\n   2),\n  ('../../../datas/Project Jellyfish/train_Test_Valid/Train\\\\blue_jellyfish\\\\aug-69-23.jpg',\n   2),\n  ('../../../datas/Project Jellyfish/train_Test_Valid/Train\\\\blue_jellyfish\\\\aug-7-11.jpg',\n   2),\n  ('../../../datas/Project Jellyfish/train_Test_Valid/Train\\\\blue_jellyfish\\\\aug-70-25.jpg',\n   2),\n  ('../../../datas/Project Jellyfish/train_Test_Valid/Train\\\\blue_jellyfish\\\\aug-71-26.jpg',\n   2),\n  ('../../../datas/Project Jellyfish/train_Test_Valid/Train\\\\blue_jellyfish\\\\aug-72-27.jpg',\n   2),\n  ('../../../datas/Project Jellyfish/train_Test_Valid/Train\\\\blue_jellyfish\\\\aug-73-28.jpg',\n   2),\n  ('../../../datas/Project Jellyfish/train_Test_Valid/Train\\\\blue_jellyfish\\\\aug-74-29.jpg',\n   2),\n  ('../../../datas/Project Jellyfish/train_Test_Valid/Train\\\\blue_jellyfish\\\\aug-75-31.jpg',\n   2),\n  ('../../../datas/Project Jellyfish/train_Test_Valid/Train\\\\blue_jellyfish\\\\aug-76-32.jpg',\n   2),\n  ('../../../datas/Project Jellyfish/train_Test_Valid/Train\\\\blue_jellyfish\\\\aug-77-34.jpg',\n   2),\n  ('../../../datas/Project Jellyfish/train_Test_Valid/Train\\\\blue_jellyfish\\\\aug-78-36.jpg',\n   2),\n  ('../../../datas/Project Jellyfish/train_Test_Valid/Train\\\\blue_jellyfish\\\\aug-79-37.jpg',\n   2),\n  ('../../../datas/Project Jellyfish/train_Test_Valid/Train\\\\blue_jellyfish\\\\aug-8-13.jpg',\n   2),\n  ('../../../datas/Project Jellyfish/train_Test_Valid/Train\\\\blue_jellyfish\\\\aug-80-38.jpg',\n   2),\n  ('../../../datas/Project Jellyfish/train_Test_Valid/Train\\\\blue_jellyfish\\\\aug-81-39.jpg',\n   2),\n  ('../../../datas/Project Jellyfish/train_Test_Valid/Train\\\\blue_jellyfish\\\\aug-82-40.jpg',\n   2),\n  ('../../../datas/Project Jellyfish/train_Test_Valid/Train\\\\blue_jellyfish\\\\aug-83-41.jpg',\n   2),\n  ('../../../datas/Project Jellyfish/train_Test_Valid/Train\\\\blue_jellyfish\\\\aug-84-42.jpg',\n   2),\n  ('../../../datas/Project Jellyfish/train_Test_Valid/Train\\\\blue_jellyfish\\\\aug-85-43.jpg',\n   2),\n  ('../../../datas/Project Jellyfish/train_Test_Valid/Train\\\\blue_jellyfish\\\\aug-86-44.jpg',\n   2),\n  ('../../../datas/Project Jellyfish/train_Test_Valid/Train\\\\blue_jellyfish\\\\aug-87-45.jpg',\n   2),\n  ('../../../datas/Project Jellyfish/train_Test_Valid/Train\\\\blue_jellyfish\\\\aug-88-46.jpg',\n   2),\n  ('../../../datas/Project Jellyfish/train_Test_Valid/Train\\\\blue_jellyfish\\\\aug-89-49.jpg',\n   2),\n  ('../../../datas/Project Jellyfish/train_Test_Valid/Train\\\\blue_jellyfish\\\\aug-9-15.jpg',\n   2),\n  ('../../../datas/Project Jellyfish/train_Test_Valid/Train\\\\blue_jellyfish\\\\aug-90-50.jpg',\n   2),\n  ('../../../datas/Project Jellyfish/train_Test_Valid/Train\\\\blue_jellyfish\\\\aug-91-51.jpg',\n   2),\n  ('../../../datas/Project Jellyfish/train_Test_Valid/Train\\\\blue_jellyfish\\\\aug-92-52.jpg',\n   2),\n  ('../../../datas/Project Jellyfish/train_Test_Valid/Train\\\\blue_jellyfish\\\\aug-93-53.jpg',\n   2),\n  ('../../../datas/Project Jellyfish/train_Test_Valid/Train\\\\blue_jellyfish\\\\aug-94-54.jpg',\n   2),\n  ('../../../datas/Project Jellyfish/train_Test_Valid/Train\\\\compass_jellyfish\\\\01.JPG',\n   3),\n  ('../../../datas/Project Jellyfish/train_Test_Valid/Train\\\\compass_jellyfish\\\\02.jpg',\n   3),\n  ('../../../datas/Project Jellyfish/train_Test_Valid/Train\\\\compass_jellyfish\\\\03.jpg',\n   3),\n  ('../../../datas/Project Jellyfish/train_Test_Valid/Train\\\\compass_jellyfish\\\\05.jpg',\n   3),\n  ('../../../datas/Project Jellyfish/train_Test_Valid/Train\\\\compass_jellyfish\\\\06.jpg',\n   3),\n  ('../../../datas/Project Jellyfish/train_Test_Valid/Train\\\\compass_jellyfish\\\\07.jpg',\n   3),\n  ('../../../datas/Project Jellyfish/train_Test_Valid/Train\\\\compass_jellyfish\\\\08.jpg',\n   3),\n  ('../../../datas/Project Jellyfish/train_Test_Valid/Train\\\\compass_jellyfish\\\\09.jpg',\n   3),\n  ('../../../datas/Project Jellyfish/train_Test_Valid/Train\\\\compass_jellyfish\\\\10.jpg',\n   3),\n  ('../../../datas/Project Jellyfish/train_Test_Valid/Train\\\\compass_jellyfish\\\\12.jpg',\n   3),\n  ('../../../datas/Project Jellyfish/train_Test_Valid/Train\\\\compass_jellyfish\\\\13.jpg',\n   3),\n  ('../../../datas/Project Jellyfish/train_Test_Valid/Train\\\\compass_jellyfish\\\\14.jpg',\n   3),\n  ('../../../datas/Project Jellyfish/train_Test_Valid/Train\\\\compass_jellyfish\\\\15.jpg',\n   3),\n  ('../../../datas/Project Jellyfish/train_Test_Valid/Train\\\\compass_jellyfish\\\\16.jpg',\n   3),\n  ('../../../datas/Project Jellyfish/train_Test_Valid/Train\\\\compass_jellyfish\\\\17.jpg',\n   3),\n  ('../../../datas/Project Jellyfish/train_Test_Valid/Train\\\\compass_jellyfish\\\\18.jpg',\n   3),\n  ('../../../datas/Project Jellyfish/train_Test_Valid/Train\\\\compass_jellyfish\\\\19.jpg',\n   3),\n  ('../../../datas/Project Jellyfish/train_Test_Valid/Train\\\\compass_jellyfish\\\\21.jpg',\n   3),\n  ('../../../datas/Project Jellyfish/train_Test_Valid/Train\\\\compass_jellyfish\\\\22.JPG',\n   3),\n  ('../../../datas/Project Jellyfish/train_Test_Valid/Train\\\\compass_jellyfish\\\\23.jpg',\n   3),\n  ('../../../datas/Project Jellyfish/train_Test_Valid/Train\\\\compass_jellyfish\\\\24.jpg',\n   3),\n  ('../../../datas/Project Jellyfish/train_Test_Valid/Train\\\\compass_jellyfish\\\\25.jpg',\n   3),\n  ('../../../datas/Project Jellyfish/train_Test_Valid/Train\\\\compass_jellyfish\\\\27.jpg',\n   3),\n  ('../../../datas/Project Jellyfish/train_Test_Valid/Train\\\\compass_jellyfish\\\\29.jpg',\n   3),\n  ('../../../datas/Project Jellyfish/train_Test_Valid/Train\\\\compass_jellyfish\\\\30.jpg',\n   3),\n  ('../../../datas/Project Jellyfish/train_Test_Valid/Train\\\\compass_jellyfish\\\\31.jpg',\n   3),\n  ('../../../datas/Project Jellyfish/train_Test_Valid/Train\\\\compass_jellyfish\\\\32.jpg',\n   3),\n  ('../../../datas/Project Jellyfish/train_Test_Valid/Train\\\\compass_jellyfish\\\\33.jpg',\n   3),\n  ('../../../datas/Project Jellyfish/train_Test_Valid/Train\\\\compass_jellyfish\\\\34.jpg',\n   3),\n  ('../../../datas/Project Jellyfish/train_Test_Valid/Train\\\\compass_jellyfish\\\\35.jpg',\n   3),\n  ('../../../datas/Project Jellyfish/train_Test_Valid/Train\\\\compass_jellyfish\\\\36.jpg',\n   3),\n  ('../../../datas/Project Jellyfish/train_Test_Valid/Train\\\\compass_jellyfish\\\\38.jpg',\n   3),\n  ('../../../datas/Project Jellyfish/train_Test_Valid/Train\\\\compass_jellyfish\\\\39.jpg',\n   3),\n  ('../../../datas/Project Jellyfish/train_Test_Valid/Train\\\\compass_jellyfish\\\\42.jpg',\n   3),\n  ('../../../datas/Project Jellyfish/train_Test_Valid/Train\\\\compass_jellyfish\\\\43.jpg',\n   3),\n  ('../../../datas/Project Jellyfish/train_Test_Valid/Train\\\\compass_jellyfish\\\\44.jpg',\n   3),\n  ('../../../datas/Project Jellyfish/train_Test_Valid/Train\\\\compass_jellyfish\\\\45.jpg',\n   3),\n  ('../../../datas/Project Jellyfish/train_Test_Valid/Train\\\\compass_jellyfish\\\\47.jpg',\n   3),\n  ('../../../datas/Project Jellyfish/train_Test_Valid/Train\\\\compass_jellyfish\\\\49.jpg',\n   3),\n  ('../../../datas/Project Jellyfish/train_Test_Valid/Train\\\\compass_jellyfish\\\\50.jpg',\n   3),\n  ('../../../datas/Project Jellyfish/train_Test_Valid/Train\\\\compass_jellyfish\\\\51.jpg',\n   3),\n  ('../../../datas/Project Jellyfish/train_Test_Valid/Train\\\\compass_jellyfish\\\\53.jpg',\n   3),\n  ('../../../datas/Project Jellyfish/train_Test_Valid/Train\\\\compass_jellyfish\\\\55.jpg',\n   3),\n  ('../../../datas/Project Jellyfish/train_Test_Valid/Train\\\\compass_jellyfish\\\\57.jpg',\n   3),\n  ('../../../datas/Project Jellyfish/train_Test_Valid/Train\\\\compass_jellyfish\\\\58.jpg',\n   3),\n  ('../../../datas/Project Jellyfish/train_Test_Valid/Train\\\\compass_jellyfish\\\\59.jpg',\n   3),\n  ('../../../datas/Project Jellyfish/train_Test_Valid/Train\\\\compass_jellyfish\\\\60.jpg',\n   3),\n  ('../../../datas/Project Jellyfish/train_Test_Valid/Train\\\\compass_jellyfish\\\\61.jpg',\n   3),\n  ('../../../datas/Project Jellyfish/train_Test_Valid/Train\\\\compass_jellyfish\\\\62.jpg',\n   3),\n  ('../../../datas/Project Jellyfish/train_Test_Valid/Train\\\\compass_jellyfish\\\\63.jpg',\n   3),\n  ('../../../datas/Project Jellyfish/train_Test_Valid/Train\\\\compass_jellyfish\\\\64.jpg',\n   3),\n  ('../../../datas/Project Jellyfish/train_Test_Valid/Train\\\\compass_jellyfish\\\\65.jpg',\n   3),\n  ('../../../datas/Project Jellyfish/train_Test_Valid/Train\\\\compass_jellyfish\\\\66.jpg',\n   3),\n  ('../../../datas/Project Jellyfish/train_Test_Valid/Train\\\\compass_jellyfish\\\\68.jpeg',\n   3),\n  ('../../../datas/Project Jellyfish/train_Test_Valid/Train\\\\compass_jellyfish\\\\70.jpeg',\n   3),\n  ('../../../datas/Project Jellyfish/train_Test_Valid/Train\\\\compass_jellyfish\\\\71.jpeg',\n   3),\n  ('../../../datas/Project Jellyfish/train_Test_Valid/Train\\\\compass_jellyfish\\\\72.jpg',\n   3),\n  ('../../../datas/Project Jellyfish/train_Test_Valid/Train\\\\compass_jellyfish\\\\aug-0-01.JPG',\n   3),\n  ('../../../datas/Project Jellyfish/train_Test_Valid/Train\\\\compass_jellyfish\\\\aug-1-02.jpg',\n   3),\n  ('../../../datas/Project Jellyfish/train_Test_Valid/Train\\\\compass_jellyfish\\\\aug-10-13.jpg',\n   3),\n  ('../../../datas/Project Jellyfish/train_Test_Valid/Train\\\\compass_jellyfish\\\\aug-11-14.jpg',\n   3),\n  ('../../../datas/Project Jellyfish/train_Test_Valid/Train\\\\compass_jellyfish\\\\aug-12-15.jpg',\n   3),\n  ('../../../datas/Project Jellyfish/train_Test_Valid/Train\\\\compass_jellyfish\\\\aug-13-16.jpg',\n   3),\n  ('../../../datas/Project Jellyfish/train_Test_Valid/Train\\\\compass_jellyfish\\\\aug-14-17.jpg',\n   3),\n  ('../../../datas/Project Jellyfish/train_Test_Valid/Train\\\\compass_jellyfish\\\\aug-15-18.jpg',\n   3),\n  ('../../../datas/Project Jellyfish/train_Test_Valid/Train\\\\compass_jellyfish\\\\aug-16-19.jpg',\n   3),\n  ('../../../datas/Project Jellyfish/train_Test_Valid/Train\\\\compass_jellyfish\\\\aug-17-21.jpg',\n   3),\n  ('../../../datas/Project Jellyfish/train_Test_Valid/Train\\\\compass_jellyfish\\\\aug-18-22.JPG',\n   3),\n  ('../../../datas/Project Jellyfish/train_Test_Valid/Train\\\\compass_jellyfish\\\\aug-19-23.jpg',\n   3),\n  ('../../../datas/Project Jellyfish/train_Test_Valid/Train\\\\compass_jellyfish\\\\aug-2-03.jpg',\n   3),\n  ('../../../datas/Project Jellyfish/train_Test_Valid/Train\\\\compass_jellyfish\\\\aug-20-24.jpg',\n   3),\n  ('../../../datas/Project Jellyfish/train_Test_Valid/Train\\\\compass_jellyfish\\\\aug-21-25.jpg',\n   3),\n  ('../../../datas/Project Jellyfish/train_Test_Valid/Train\\\\compass_jellyfish\\\\aug-22-27.jpg',\n   3),\n  ('../../../datas/Project Jellyfish/train_Test_Valid/Train\\\\compass_jellyfish\\\\aug-23-29.jpg',\n   3),\n  ('../../../datas/Project Jellyfish/train_Test_Valid/Train\\\\compass_jellyfish\\\\aug-24-30.jpg',\n   3),\n  ('../../../datas/Project Jellyfish/train_Test_Valid/Train\\\\compass_jellyfish\\\\aug-25-31.jpg',\n   3),\n  ('../../../datas/Project Jellyfish/train_Test_Valid/Train\\\\compass_jellyfish\\\\aug-26-32.jpg',\n   3),\n  ('../../../datas/Project Jellyfish/train_Test_Valid/Train\\\\compass_jellyfish\\\\aug-27-33.jpg',\n   3),\n  ('../../../datas/Project Jellyfish/train_Test_Valid/Train\\\\compass_jellyfish\\\\aug-28-34.jpg',\n   3),\n  ('../../../datas/Project Jellyfish/train_Test_Valid/Train\\\\compass_jellyfish\\\\aug-29-35.jpg',\n   3),\n  ('../../../datas/Project Jellyfish/train_Test_Valid/Train\\\\compass_jellyfish\\\\aug-3-05.jpg',\n   3),\n  ('../../../datas/Project Jellyfish/train_Test_Valid/Train\\\\compass_jellyfish\\\\aug-30-36.jpg',\n   3),\n  ('../../../datas/Project Jellyfish/train_Test_Valid/Train\\\\compass_jellyfish\\\\aug-31-38.jpg',\n   3),\n  ('../../../datas/Project Jellyfish/train_Test_Valid/Train\\\\compass_jellyfish\\\\aug-32-39.jpg',\n   3),\n  ('../../../datas/Project Jellyfish/train_Test_Valid/Train\\\\compass_jellyfish\\\\aug-33-42.jpg',\n   3),\n  ('../../../datas/Project Jellyfish/train_Test_Valid/Train\\\\compass_jellyfish\\\\aug-34-43.jpg',\n   3),\n  ('../../../datas/Project Jellyfish/train_Test_Valid/Train\\\\compass_jellyfish\\\\aug-35-44.jpg',\n   3),\n  ('../../../datas/Project Jellyfish/train_Test_Valid/Train\\\\compass_jellyfish\\\\aug-36-45.jpg',\n   3),\n  ('../../../datas/Project Jellyfish/train_Test_Valid/Train\\\\compass_jellyfish\\\\aug-37-47.jpg',\n   3),\n  ('../../../datas/Project Jellyfish/train_Test_Valid/Train\\\\compass_jellyfish\\\\aug-38-49.jpg',\n   3),\n  ('../../../datas/Project Jellyfish/train_Test_Valid/Train\\\\compass_jellyfish\\\\aug-39-50.jpg',\n   3),\n  ('../../../datas/Project Jellyfish/train_Test_Valid/Train\\\\compass_jellyfish\\\\aug-4-06.jpg',\n   3),\n  ('../../../datas/Project Jellyfish/train_Test_Valid/Train\\\\compass_jellyfish\\\\aug-40-51.jpg',\n   3),\n  ('../../../datas/Project Jellyfish/train_Test_Valid/Train\\\\compass_jellyfish\\\\aug-41-53.jpg',\n   3),\n  ('../../../datas/Project Jellyfish/train_Test_Valid/Train\\\\compass_jellyfish\\\\aug-42-55.jpg',\n   3),\n  ('../../../datas/Project Jellyfish/train_Test_Valid/Train\\\\compass_jellyfish\\\\aug-43-57.jpg',\n   3),\n  ('../../../datas/Project Jellyfish/train_Test_Valid/Train\\\\compass_jellyfish\\\\aug-44-58.jpg',\n   3),\n  ('../../../datas/Project Jellyfish/train_Test_Valid/Train\\\\compass_jellyfish\\\\aug-45-59.jpg',\n   3),\n  ('../../../datas/Project Jellyfish/train_Test_Valid/Train\\\\compass_jellyfish\\\\aug-46-60.jpg',\n   3),\n  ('../../../datas/Project Jellyfish/train_Test_Valid/Train\\\\compass_jellyfish\\\\aug-47-61.jpg',\n   3),\n  ('../../../datas/Project Jellyfish/train_Test_Valid/Train\\\\compass_jellyfish\\\\aug-48-62.jpg',\n   3),\n  ('../../../datas/Project Jellyfish/train_Test_Valid/Train\\\\compass_jellyfish\\\\aug-49-63.jpg',\n   3),\n  ('../../../datas/Project Jellyfish/train_Test_Valid/Train\\\\compass_jellyfish\\\\aug-5-07.jpg',\n   3),\n  ('../../../datas/Project Jellyfish/train_Test_Valid/Train\\\\compass_jellyfish\\\\aug-50-64.jpg',\n   3),\n  ('../../../datas/Project Jellyfish/train_Test_Valid/Train\\\\compass_jellyfish\\\\aug-51-65.jpg',\n   3),\n  ('../../../datas/Project Jellyfish/train_Test_Valid/Train\\\\compass_jellyfish\\\\aug-52-66.jpg',\n   3),\n  ('../../../datas/Project Jellyfish/train_Test_Valid/Train\\\\compass_jellyfish\\\\aug-53-68.jpeg',\n   3),\n  ('../../../datas/Project Jellyfish/train_Test_Valid/Train\\\\compass_jellyfish\\\\aug-54-70.jpeg',\n   3),\n  ('../../../datas/Project Jellyfish/train_Test_Valid/Train\\\\compass_jellyfish\\\\aug-55-71.jpeg',\n   3),\n  ('../../../datas/Project Jellyfish/train_Test_Valid/Train\\\\compass_jellyfish\\\\aug-56-72.jpg',\n   3),\n  ('../../../datas/Project Jellyfish/train_Test_Valid/Train\\\\compass_jellyfish\\\\aug-57-01.JPG',\n   3),\n  ('../../../datas/Project Jellyfish/train_Test_Valid/Train\\\\compass_jellyfish\\\\aug-58-02.jpg',\n   3),\n  ('../../../datas/Project Jellyfish/train_Test_Valid/Train\\\\compass_jellyfish\\\\aug-59-03.jpg',\n   3),\n  ('../../../datas/Project Jellyfish/train_Test_Valid/Train\\\\compass_jellyfish\\\\aug-6-08.jpg',\n   3),\n  ('../../../datas/Project Jellyfish/train_Test_Valid/Train\\\\compass_jellyfish\\\\aug-60-05.jpg',\n   3),\n  ('../../../datas/Project Jellyfish/train_Test_Valid/Train\\\\compass_jellyfish\\\\aug-61-06.jpg',\n   3),\n  ('../../../datas/Project Jellyfish/train_Test_Valid/Train\\\\compass_jellyfish\\\\aug-62-07.jpg',\n   3),\n  ('../../../datas/Project Jellyfish/train_Test_Valid/Train\\\\compass_jellyfish\\\\aug-63-08.jpg',\n   3),\n  ('../../../datas/Project Jellyfish/train_Test_Valid/Train\\\\compass_jellyfish\\\\aug-64-09.jpg',\n   3),\n  ('../../../datas/Project Jellyfish/train_Test_Valid/Train\\\\compass_jellyfish\\\\aug-65-10.jpg',\n   3),\n  ('../../../datas/Project Jellyfish/train_Test_Valid/Train\\\\compass_jellyfish\\\\aug-66-12.jpg',\n   3),\n  ('../../../datas/Project Jellyfish/train_Test_Valid/Train\\\\compass_jellyfish\\\\aug-67-13.jpg',\n   3),\n  ('../../../datas/Project Jellyfish/train_Test_Valid/Train\\\\compass_jellyfish\\\\aug-68-14.jpg',\n   3),\n  ('../../../datas/Project Jellyfish/train_Test_Valid/Train\\\\compass_jellyfish\\\\aug-69-15.jpg',\n   3),\n  ('../../../datas/Project Jellyfish/train_Test_Valid/Train\\\\compass_jellyfish\\\\aug-7-09.jpg',\n   3),\n  ('../../../datas/Project Jellyfish/train_Test_Valid/Train\\\\compass_jellyfish\\\\aug-70-16.jpg',\n   3),\n  ('../../../datas/Project Jellyfish/train_Test_Valid/Train\\\\compass_jellyfish\\\\aug-71-17.jpg',\n   3),\n  ('../../../datas/Project Jellyfish/train_Test_Valid/Train\\\\compass_jellyfish\\\\aug-72-18.jpg',\n   3),\n  ('../../../datas/Project Jellyfish/train_Test_Valid/Train\\\\compass_jellyfish\\\\aug-73-19.jpg',\n   3),\n  ('../../../datas/Project Jellyfish/train_Test_Valid/Train\\\\compass_jellyfish\\\\aug-74-21.jpg',\n   3),\n  ('../../../datas/Project Jellyfish/train_Test_Valid/Train\\\\compass_jellyfish\\\\aug-75-22.JPG',\n   3),\n  ('../../../datas/Project Jellyfish/train_Test_Valid/Train\\\\compass_jellyfish\\\\aug-76-23.jpg',\n   3),\n  ('../../../datas/Project Jellyfish/train_Test_Valid/Train\\\\compass_jellyfish\\\\aug-77-24.jpg',\n   3),\n  ('../../../datas/Project Jellyfish/train_Test_Valid/Train\\\\compass_jellyfish\\\\aug-78-25.jpg',\n   3),\n  ('../../../datas/Project Jellyfish/train_Test_Valid/Train\\\\compass_jellyfish\\\\aug-79-27.jpg',\n   3),\n  ('../../../datas/Project Jellyfish/train_Test_Valid/Train\\\\compass_jellyfish\\\\aug-8-10.jpg',\n   3),\n  ('../../../datas/Project Jellyfish/train_Test_Valid/Train\\\\compass_jellyfish\\\\aug-80-29.jpg',\n   3),\n  ('../../../datas/Project Jellyfish/train_Test_Valid/Train\\\\compass_jellyfish\\\\aug-81-30.jpg',\n   3),\n  ('../../../datas/Project Jellyfish/train_Test_Valid/Train\\\\compass_jellyfish\\\\aug-82-31.jpg',\n   3),\n  ('../../../datas/Project Jellyfish/train_Test_Valid/Train\\\\compass_jellyfish\\\\aug-83-32.jpg',\n   3),\n  ('../../../datas/Project Jellyfish/train_Test_Valid/Train\\\\compass_jellyfish\\\\aug-84-33.jpg',\n   3),\n  ('../../../datas/Project Jellyfish/train_Test_Valid/Train\\\\compass_jellyfish\\\\aug-85-34.jpg',\n   3),\n  ('../../../datas/Project Jellyfish/train_Test_Valid/Train\\\\compass_jellyfish\\\\aug-86-35.jpg',\n   3),\n  ('../../../datas/Project Jellyfish/train_Test_Valid/Train\\\\compass_jellyfish\\\\aug-87-36.jpg',\n   3),\n  ('../../../datas/Project Jellyfish/train_Test_Valid/Train\\\\compass_jellyfish\\\\aug-88-38.jpg',\n   3),\n  ('../../../datas/Project Jellyfish/train_Test_Valid/Train\\\\compass_jellyfish\\\\aug-89-39.jpg',\n   3),\n  ('../../../datas/Project Jellyfish/train_Test_Valid/Train\\\\compass_jellyfish\\\\aug-9-12.jpg',\n   3),\n  ('../../../datas/Project Jellyfish/train_Test_Valid/Train\\\\compass_jellyfish\\\\aug-90-42.jpg',\n   3),\n  ('../../../datas/Project Jellyfish/train_Test_Valid/Train\\\\compass_jellyfish\\\\aug-91-43.jpg',\n   3),\n  ('../../../datas/Project Jellyfish/train_Test_Valid/Train\\\\compass_jellyfish\\\\aug-92-44.jpg',\n   3),\n  ('../../../datas/Project Jellyfish/train_Test_Valid/Train\\\\lions_mane_jellyfish\\\\01.jpg',\n   4),\n  ('../../../datas/Project Jellyfish/train_Test_Valid/Train\\\\lions_mane_jellyfish\\\\02.jpg',\n   4),\n  ('../../../datas/Project Jellyfish/train_Test_Valid/Train\\\\lions_mane_jellyfish\\\\03.jpg',\n   4),\n  ('../../../datas/Project Jellyfish/train_Test_Valid/Train\\\\lions_mane_jellyfish\\\\04.jpg',\n   4),\n  ('../../../datas/Project Jellyfish/train_Test_Valid/Train\\\\lions_mane_jellyfish\\\\05.jpg',\n   4),\n  ('../../../datas/Project Jellyfish/train_Test_Valid/Train\\\\lions_mane_jellyfish\\\\06.jpg',\n   4),\n  ('../../../datas/Project Jellyfish/train_Test_Valid/Train\\\\lions_mane_jellyfish\\\\07.jpg',\n   4),\n  ('../../../datas/Project Jellyfish/train_Test_Valid/Train\\\\lions_mane_jellyfish\\\\08.jpg',\n   4),\n  ('../../../datas/Project Jellyfish/train_Test_Valid/Train\\\\lions_mane_jellyfish\\\\09.jpg',\n   4),\n  ('../../../datas/Project Jellyfish/train_Test_Valid/Train\\\\lions_mane_jellyfish\\\\10.jpg',\n   4),\n  ('../../../datas/Project Jellyfish/train_Test_Valid/Train\\\\lions_mane_jellyfish\\\\11.jpg',\n   4),\n  ('../../../datas/Project Jellyfish/train_Test_Valid/Train\\\\lions_mane_jellyfish\\\\15.jpg',\n   4),\n  ('../../../datas/Project Jellyfish/train_Test_Valid/Train\\\\lions_mane_jellyfish\\\\16.jpg',\n   4),\n  ('../../../datas/Project Jellyfish/train_Test_Valid/Train\\\\lions_mane_jellyfish\\\\17.jpg',\n   4),\n  ('../../../datas/Project Jellyfish/train_Test_Valid/Train\\\\lions_mane_jellyfish\\\\18.jpg',\n   4),\n  ('../../../datas/Project Jellyfish/train_Test_Valid/Train\\\\lions_mane_jellyfish\\\\20.jpg',\n   4),\n  ('../../../datas/Project Jellyfish/train_Test_Valid/Train\\\\lions_mane_jellyfish\\\\21.jpg',\n   4),\n  ('../../../datas/Project Jellyfish/train_Test_Valid/Train\\\\lions_mane_jellyfish\\\\22.jpg',\n   4),\n  ('../../../datas/Project Jellyfish/train_Test_Valid/Train\\\\lions_mane_jellyfish\\\\23.jpg',\n   4),\n  ('../../../datas/Project Jellyfish/train_Test_Valid/Train\\\\lions_mane_jellyfish\\\\24.jpg',\n   4),\n  ('../../../datas/Project Jellyfish/train_Test_Valid/Train\\\\lions_mane_jellyfish\\\\25.jpg',\n   4),\n  ('../../../datas/Project Jellyfish/train_Test_Valid/Train\\\\lions_mane_jellyfish\\\\26.JPG',\n   4),\n  ('../../../datas/Project Jellyfish/train_Test_Valid/Train\\\\lions_mane_jellyfish\\\\29.jpg',\n   4),\n  ('../../../datas/Project Jellyfish/train_Test_Valid/Train\\\\lions_mane_jellyfish\\\\30.jpg',\n   4),\n  ('../../../datas/Project Jellyfish/train_Test_Valid/Train\\\\lions_mane_jellyfish\\\\31.jpg',\n   4),\n  ('../../../datas/Project Jellyfish/train_Test_Valid/Train\\\\lions_mane_jellyfish\\\\32.jpg',\n   4),\n  ('../../../datas/Project Jellyfish/train_Test_Valid/Train\\\\lions_mane_jellyfish\\\\34.jpg',\n   4),\n  ('../../../datas/Project Jellyfish/train_Test_Valid/Train\\\\lions_mane_jellyfish\\\\35.jpg',\n   4),\n  ('../../../datas/Project Jellyfish/train_Test_Valid/Train\\\\lions_mane_jellyfish\\\\36.jpg',\n   4),\n  ('../../../datas/Project Jellyfish/train_Test_Valid/Train\\\\lions_mane_jellyfish\\\\37.jpg',\n   4),\n  ('../../../datas/Project Jellyfish/train_Test_Valid/Train\\\\lions_mane_jellyfish\\\\38.jpg',\n   4),\n  ('../../../datas/Project Jellyfish/train_Test_Valid/Train\\\\lions_mane_jellyfish\\\\39.jpg',\n   4),\n  ('../../../datas/Project Jellyfish/train_Test_Valid/Train\\\\lions_mane_jellyfish\\\\40.jpg',\n   4),\n  ('../../../datas/Project Jellyfish/train_Test_Valid/Train\\\\lions_mane_jellyfish\\\\41.jpg',\n   4),\n  ('../../../datas/Project Jellyfish/train_Test_Valid/Train\\\\lions_mane_jellyfish\\\\43.jpg',\n   4),\n  ('../../../datas/Project Jellyfish/train_Test_Valid/Train\\\\lions_mane_jellyfish\\\\44.jpg',\n   4),\n  ('../../../datas/Project Jellyfish/train_Test_Valid/Train\\\\lions_mane_jellyfish\\\\45.jpg',\n   4),\n  ('../../../datas/Project Jellyfish/train_Test_Valid/Train\\\\lions_mane_jellyfish\\\\47.jpg',\n   4),\n  ('../../../datas/Project Jellyfish/train_Test_Valid/Train\\\\lions_mane_jellyfish\\\\48.jpg',\n   4),\n  ('../../../datas/Project Jellyfish/train_Test_Valid/Train\\\\lions_mane_jellyfish\\\\49.jpg',\n   4),\n  ('../../../datas/Project Jellyfish/train_Test_Valid/Train\\\\lions_mane_jellyfish\\\\50.jpg',\n   4),\n  ('../../../datas/Project Jellyfish/train_Test_Valid/Train\\\\lions_mane_jellyfish\\\\52.jpg',\n   4),\n  ('../../../datas/Project Jellyfish/train_Test_Valid/Train\\\\lions_mane_jellyfish\\\\54.jpg',\n   4),\n  ('../../../datas/Project Jellyfish/train_Test_Valid/Train\\\\lions_mane_jellyfish\\\\55.jpg',\n   4),\n  ('../../../datas/Project Jellyfish/train_Test_Valid/Train\\\\lions_mane_jellyfish\\\\56.jpg',\n   4),\n  ('../../../datas/Project Jellyfish/train_Test_Valid/Train\\\\lions_mane_jellyfish\\\\57.jpg',\n   4),\n  ('../../../datas/Project Jellyfish/train_Test_Valid/Train\\\\lions_mane_jellyfish\\\\59.jpg',\n   4),\n  ('../../../datas/Project Jellyfish/train_Test_Valid/Train\\\\lions_mane_jellyfish\\\\60.jpg',\n   4),\n  ('../../../datas/Project Jellyfish/train_Test_Valid/Train\\\\lions_mane_jellyfish\\\\61.jpg',\n   4),\n  ('../../../datas/Project Jellyfish/train_Test_Valid/Train\\\\lions_mane_jellyfish\\\\62.jpg',\n   4),\n  ('../../../datas/Project Jellyfish/train_Test_Valid/Train\\\\lions_mane_jellyfish\\\\65.jpg',\n   4),\n  ('../../../datas/Project Jellyfish/train_Test_Valid/Train\\\\lions_mane_jellyfish\\\\68.jpg',\n   4),\n  ('../../../datas/Project Jellyfish/train_Test_Valid/Train\\\\lions_mane_jellyfish\\\\69.jpg',\n   4),\n  ('../../../datas/Project Jellyfish/train_Test_Valid/Train\\\\lions_mane_jellyfish\\\\70.jpg',\n   4),\n  ('../../../datas/Project Jellyfish/train_Test_Valid/Train\\\\lions_mane_jellyfish\\\\71.jpg',\n   4),\n  ('../../../datas/Project Jellyfish/train_Test_Valid/Train\\\\lions_mane_jellyfish\\\\72.jpg',\n   4),\n  ('../../../datas/Project Jellyfish/train_Test_Valid/Train\\\\lions_mane_jellyfish\\\\73.jpeg',\n   4),\n  ('../../../datas/Project Jellyfish/train_Test_Valid/Train\\\\lions_mane_jellyfish\\\\74.png',\n   4),\n  ('../../../datas/Project Jellyfish/train_Test_Valid/Train\\\\lions_mane_jellyfish\\\\75.jpeg',\n   4),\n  ('../../../datas/Project Jellyfish/train_Test_Valid/Train\\\\lions_mane_jellyfish\\\\76.jpg',\n   4),\n  ('../../../datas/Project Jellyfish/train_Test_Valid/Train\\\\lions_mane_jellyfish\\\\77.jpg',\n   4),\n  ('../../../datas/Project Jellyfish/train_Test_Valid/Train\\\\lions_mane_jellyfish\\\\aug-0-01.jpg',\n   4),\n  ('../../../datas/Project Jellyfish/train_Test_Valid/Train\\\\lions_mane_jellyfish\\\\aug-1-02.jpg',\n   4),\n  ('../../../datas/Project Jellyfish/train_Test_Valid/Train\\\\lions_mane_jellyfish\\\\aug-10-11.jpg',\n   4),\n  ('../../../datas/Project Jellyfish/train_Test_Valid/Train\\\\lions_mane_jellyfish\\\\aug-11-15.jpg',\n   4),\n  ('../../../datas/Project Jellyfish/train_Test_Valid/Train\\\\lions_mane_jellyfish\\\\aug-12-16.jpg',\n   4),\n  ('../../../datas/Project Jellyfish/train_Test_Valid/Train\\\\lions_mane_jellyfish\\\\aug-13-17.jpg',\n   4),\n  ('../../../datas/Project Jellyfish/train_Test_Valid/Train\\\\lions_mane_jellyfish\\\\aug-14-18.jpg',\n   4),\n  ('../../../datas/Project Jellyfish/train_Test_Valid/Train\\\\lions_mane_jellyfish\\\\aug-15-20.jpg',\n   4),\n  ('../../../datas/Project Jellyfish/train_Test_Valid/Train\\\\lions_mane_jellyfish\\\\aug-16-21.jpg',\n   4),\n  ('../../../datas/Project Jellyfish/train_Test_Valid/Train\\\\lions_mane_jellyfish\\\\aug-17-22.jpg',\n   4),\n  ('../../../datas/Project Jellyfish/train_Test_Valid/Train\\\\lions_mane_jellyfish\\\\aug-18-23.jpg',\n   4),\n  ('../../../datas/Project Jellyfish/train_Test_Valid/Train\\\\lions_mane_jellyfish\\\\aug-19-24.jpg',\n   4),\n  ('../../../datas/Project Jellyfish/train_Test_Valid/Train\\\\lions_mane_jellyfish\\\\aug-2-03.jpg',\n   4),\n  ('../../../datas/Project Jellyfish/train_Test_Valid/Train\\\\lions_mane_jellyfish\\\\aug-20-25.jpg',\n   4),\n  ('../../../datas/Project Jellyfish/train_Test_Valid/Train\\\\lions_mane_jellyfish\\\\aug-21-26.JPG',\n   4),\n  ('../../../datas/Project Jellyfish/train_Test_Valid/Train\\\\lions_mane_jellyfish\\\\aug-22-29.jpg',\n   4),\n  ('../../../datas/Project Jellyfish/train_Test_Valid/Train\\\\lions_mane_jellyfish\\\\aug-23-30.jpg',\n   4),\n  ('../../../datas/Project Jellyfish/train_Test_Valid/Train\\\\lions_mane_jellyfish\\\\aug-24-31.jpg',\n   4),\n  ('../../../datas/Project Jellyfish/train_Test_Valid/Train\\\\lions_mane_jellyfish\\\\aug-25-32.jpg',\n   4),\n  ('../../../datas/Project Jellyfish/train_Test_Valid/Train\\\\lions_mane_jellyfish\\\\aug-26-34.jpg',\n   4),\n  ('../../../datas/Project Jellyfish/train_Test_Valid/Train\\\\lions_mane_jellyfish\\\\aug-27-35.jpg',\n   4),\n  ('../../../datas/Project Jellyfish/train_Test_Valid/Train\\\\lions_mane_jellyfish\\\\aug-28-36.jpg',\n   4),\n  ('../../../datas/Project Jellyfish/train_Test_Valid/Train\\\\lions_mane_jellyfish\\\\aug-29-37.jpg',\n   4),\n  ('../../../datas/Project Jellyfish/train_Test_Valid/Train\\\\lions_mane_jellyfish\\\\aug-3-04.jpg',\n   4),\n  ('../../../datas/Project Jellyfish/train_Test_Valid/Train\\\\lions_mane_jellyfish\\\\aug-30-38.jpg',\n   4),\n  ('../../../datas/Project Jellyfish/train_Test_Valid/Train\\\\lions_mane_jellyfish\\\\aug-31-39.jpg',\n   4),\n  ('../../../datas/Project Jellyfish/train_Test_Valid/Train\\\\lions_mane_jellyfish\\\\aug-32-40.jpg',\n   4),\n  ('../../../datas/Project Jellyfish/train_Test_Valid/Train\\\\lions_mane_jellyfish\\\\aug-33-41.jpg',\n   4),\n  ('../../../datas/Project Jellyfish/train_Test_Valid/Train\\\\lions_mane_jellyfish\\\\aug-34-43.jpg',\n   4),\n  ('../../../datas/Project Jellyfish/train_Test_Valid/Train\\\\lions_mane_jellyfish\\\\aug-35-44.jpg',\n   4),\n  ('../../../datas/Project Jellyfish/train_Test_Valid/Train\\\\lions_mane_jellyfish\\\\aug-36-45.jpg',\n   4),\n  ('../../../datas/Project Jellyfish/train_Test_Valid/Train\\\\lions_mane_jellyfish\\\\aug-37-47.jpg',\n   4),\n  ('../../../datas/Project Jellyfish/train_Test_Valid/Train\\\\lions_mane_jellyfish\\\\aug-38-48.jpg',\n   4),\n  ('../../../datas/Project Jellyfish/train_Test_Valid/Train\\\\lions_mane_jellyfish\\\\aug-39-49.jpg',\n   4),\n  ('../../../datas/Project Jellyfish/train_Test_Valid/Train\\\\lions_mane_jellyfish\\\\aug-4-05.jpg',\n   4),\n  ('../../../datas/Project Jellyfish/train_Test_Valid/Train\\\\lions_mane_jellyfish\\\\aug-40-50.jpg',\n   4),\n  ('../../../datas/Project Jellyfish/train_Test_Valid/Train\\\\lions_mane_jellyfish\\\\aug-41-52.jpg',\n   4),\n  ('../../../datas/Project Jellyfish/train_Test_Valid/Train\\\\lions_mane_jellyfish\\\\aug-42-54.jpg',\n   4),\n  ('../../../datas/Project Jellyfish/train_Test_Valid/Train\\\\lions_mane_jellyfish\\\\aug-43-55.jpg',\n   4),\n  ('../../../datas/Project Jellyfish/train_Test_Valid/Train\\\\lions_mane_jellyfish\\\\aug-44-56.jpg',\n   4),\n  ('../../../datas/Project Jellyfish/train_Test_Valid/Train\\\\lions_mane_jellyfish\\\\aug-45-57.jpg',\n   4),\n  ('../../../datas/Project Jellyfish/train_Test_Valid/Train\\\\lions_mane_jellyfish\\\\aug-46-59.jpg',\n   4),\n  ('../../../datas/Project Jellyfish/train_Test_Valid/Train\\\\lions_mane_jellyfish\\\\aug-47-60.jpg',\n   4),\n  ('../../../datas/Project Jellyfish/train_Test_Valid/Train\\\\lions_mane_jellyfish\\\\aug-48-61.jpg',\n   4),\n  ('../../../datas/Project Jellyfish/train_Test_Valid/Train\\\\lions_mane_jellyfish\\\\aug-49-62.jpg',\n   4),\n  ('../../../datas/Project Jellyfish/train_Test_Valid/Train\\\\lions_mane_jellyfish\\\\aug-5-06.jpg',\n   4),\n  ('../../../datas/Project Jellyfish/train_Test_Valid/Train\\\\lions_mane_jellyfish\\\\aug-50-65.jpg',\n   4),\n  ('../../../datas/Project Jellyfish/train_Test_Valid/Train\\\\lions_mane_jellyfish\\\\aug-51-68.jpg',\n   4),\n  ('../../../datas/Project Jellyfish/train_Test_Valid/Train\\\\lions_mane_jellyfish\\\\aug-52-69.jpg',\n   4),\n  ('../../../datas/Project Jellyfish/train_Test_Valid/Train\\\\lions_mane_jellyfish\\\\aug-53-70.jpg',\n   4),\n  ('../../../datas/Project Jellyfish/train_Test_Valid/Train\\\\lions_mane_jellyfish\\\\aug-54-71.jpg',\n   4),\n  ('../../../datas/Project Jellyfish/train_Test_Valid/Train\\\\lions_mane_jellyfish\\\\aug-55-72.jpg',\n   4),\n  ('../../../datas/Project Jellyfish/train_Test_Valid/Train\\\\lions_mane_jellyfish\\\\aug-56-73.jpeg',\n   4),\n  ('../../../datas/Project Jellyfish/train_Test_Valid/Train\\\\lions_mane_jellyfish\\\\aug-57-74.png',\n   4),\n  ('../../../datas/Project Jellyfish/train_Test_Valid/Train\\\\lions_mane_jellyfish\\\\aug-58-75.jpeg',\n   4),\n  ('../../../datas/Project Jellyfish/train_Test_Valid/Train\\\\lions_mane_jellyfish\\\\aug-59-76.jpg',\n   4),\n  ('../../../datas/Project Jellyfish/train_Test_Valid/Train\\\\lions_mane_jellyfish\\\\aug-6-07.jpg',\n   4),\n  ('../../../datas/Project Jellyfish/train_Test_Valid/Train\\\\lions_mane_jellyfish\\\\aug-60-77.jpg',\n   4),\n  ('../../../datas/Project Jellyfish/train_Test_Valid/Train\\\\lions_mane_jellyfish\\\\aug-61-01.jpg',\n   4),\n  ('../../../datas/Project Jellyfish/train_Test_Valid/Train\\\\lions_mane_jellyfish\\\\aug-62-02.jpg',\n   4),\n  ('../../../datas/Project Jellyfish/train_Test_Valid/Train\\\\lions_mane_jellyfish\\\\aug-63-03.jpg',\n   4),\n  ('../../../datas/Project Jellyfish/train_Test_Valid/Train\\\\lions_mane_jellyfish\\\\aug-64-04.jpg',\n   4),\n  ('../../../datas/Project Jellyfish/train_Test_Valid/Train\\\\lions_mane_jellyfish\\\\aug-65-05.jpg',\n   4),\n  ('../../../datas/Project Jellyfish/train_Test_Valid/Train\\\\lions_mane_jellyfish\\\\aug-66-06.jpg',\n   4),\n  ('../../../datas/Project Jellyfish/train_Test_Valid/Train\\\\lions_mane_jellyfish\\\\aug-67-07.jpg',\n   4),\n  ('../../../datas/Project Jellyfish/train_Test_Valid/Train\\\\lions_mane_jellyfish\\\\aug-68-08.jpg',\n   4),\n  ('../../../datas/Project Jellyfish/train_Test_Valid/Train\\\\lions_mane_jellyfish\\\\aug-69-09.jpg',\n   4),\n  ('../../../datas/Project Jellyfish/train_Test_Valid/Train\\\\lions_mane_jellyfish\\\\aug-7-08.jpg',\n   4),\n  ('../../../datas/Project Jellyfish/train_Test_Valid/Train\\\\lions_mane_jellyfish\\\\aug-70-10.jpg',\n   4),\n  ('../../../datas/Project Jellyfish/train_Test_Valid/Train\\\\lions_mane_jellyfish\\\\aug-71-11.jpg',\n   4),\n  ('../../../datas/Project Jellyfish/train_Test_Valid/Train\\\\lions_mane_jellyfish\\\\aug-72-15.jpg',\n   4),\n  ('../../../datas/Project Jellyfish/train_Test_Valid/Train\\\\lions_mane_jellyfish\\\\aug-73-16.jpg',\n   4),\n  ('../../../datas/Project Jellyfish/train_Test_Valid/Train\\\\lions_mane_jellyfish\\\\aug-74-17.jpg',\n   4),\n  ('../../../datas/Project Jellyfish/train_Test_Valid/Train\\\\lions_mane_jellyfish\\\\aug-75-18.jpg',\n   4),\n  ('../../../datas/Project Jellyfish/train_Test_Valid/Train\\\\lions_mane_jellyfish\\\\aug-76-20.jpg',\n   4),\n  ('../../../datas/Project Jellyfish/train_Test_Valid/Train\\\\lions_mane_jellyfish\\\\aug-77-21.jpg',\n   4),\n  ('../../../datas/Project Jellyfish/train_Test_Valid/Train\\\\lions_mane_jellyfish\\\\aug-78-22.jpg',\n   4),\n  ('../../../datas/Project Jellyfish/train_Test_Valid/Train\\\\lions_mane_jellyfish\\\\aug-79-23.jpg',\n   4),\n  ('../../../datas/Project Jellyfish/train_Test_Valid/Train\\\\lions_mane_jellyfish\\\\aug-8-09.jpg',\n   4),\n  ('../../../datas/Project Jellyfish/train_Test_Valid/Train\\\\lions_mane_jellyfish\\\\aug-80-24.jpg',\n   4),\n  ('../../../datas/Project Jellyfish/train_Test_Valid/Train\\\\lions_mane_jellyfish\\\\aug-81-25.jpg',\n   4),\n  ('../../../datas/Project Jellyfish/train_Test_Valid/Train\\\\lions_mane_jellyfish\\\\aug-82-26.JPG',\n   4),\n  ('../../../datas/Project Jellyfish/train_Test_Valid/Train\\\\lions_mane_jellyfish\\\\aug-83-29.jpg',\n   4),\n  ('../../../datas/Project Jellyfish/train_Test_Valid/Train\\\\lions_mane_jellyfish\\\\aug-84-30.jpg',\n   4),\n  ('../../../datas/Project Jellyfish/train_Test_Valid/Train\\\\lions_mane_jellyfish\\\\aug-85-31.jpg',\n   4),\n  ('../../../datas/Project Jellyfish/train_Test_Valid/Train\\\\lions_mane_jellyfish\\\\aug-86-32.jpg',\n   4),\n  ('../../../datas/Project Jellyfish/train_Test_Valid/Train\\\\lions_mane_jellyfish\\\\aug-87-34.jpg',\n   4),\n  ('../../../datas/Project Jellyfish/train_Test_Valid/Train\\\\lions_mane_jellyfish\\\\aug-88-35.jpg',\n   4),\n  ('../../../datas/Project Jellyfish/train_Test_Valid/Train\\\\lions_mane_jellyfish\\\\aug-9-10.jpg',\n   4),\n  ('../../../datas/Project Jellyfish/train_Test_Valid/Train\\\\mauve_stinger_jellyfish\\\\01.jpg',\n   5),\n  ('../../../datas/Project Jellyfish/train_Test_Valid/Train\\\\mauve_stinger_jellyfish\\\\02.jpg',\n   5),\n  ('../../../datas/Project Jellyfish/train_Test_Valid/Train\\\\mauve_stinger_jellyfish\\\\03.jpg',\n   5),\n  ('../../../datas/Project Jellyfish/train_Test_Valid/Train\\\\mauve_stinger_jellyfish\\\\04.jpg',\n   5),\n  ('../../../datas/Project Jellyfish/train_Test_Valid/Train\\\\mauve_stinger_jellyfish\\\\05.jpg',\n   5),\n  ('../../../datas/Project Jellyfish/train_Test_Valid/Train\\\\mauve_stinger_jellyfish\\\\06.jpg',\n   5),\n  ('../../../datas/Project Jellyfish/train_Test_Valid/Train\\\\mauve_stinger_jellyfish\\\\08.jpg',\n   5),\n  ('../../../datas/Project Jellyfish/train_Test_Valid/Train\\\\mauve_stinger_jellyfish\\\\09.jpg',\n   5),\n  ('../../../datas/Project Jellyfish/train_Test_Valid/Train\\\\mauve_stinger_jellyfish\\\\11.jpg',\n   5),\n  ('../../../datas/Project Jellyfish/train_Test_Valid/Train\\\\mauve_stinger_jellyfish\\\\12.jpg',\n   5),\n  ('../../../datas/Project Jellyfish/train_Test_Valid/Train\\\\mauve_stinger_jellyfish\\\\13.jpg',\n   5),\n  ('../../../datas/Project Jellyfish/train_Test_Valid/Train\\\\mauve_stinger_jellyfish\\\\15.jpg',\n   5),\n  ('../../../datas/Project Jellyfish/train_Test_Valid/Train\\\\mauve_stinger_jellyfish\\\\16.jpg',\n   5),\n  ('../../../datas/Project Jellyfish/train_Test_Valid/Train\\\\mauve_stinger_jellyfish\\\\17.jpg',\n   5),\n  ('../../../datas/Project Jellyfish/train_Test_Valid/Train\\\\mauve_stinger_jellyfish\\\\18.jpg',\n   5),\n  ('../../../datas/Project Jellyfish/train_Test_Valid/Train\\\\mauve_stinger_jellyfish\\\\20.jpg',\n   5),\n  ('../../../datas/Project Jellyfish/train_Test_Valid/Train\\\\mauve_stinger_jellyfish\\\\21.jpg',\n   5),\n  ('../../../datas/Project Jellyfish/train_Test_Valid/Train\\\\mauve_stinger_jellyfish\\\\22.jpg',\n   5),\n  ('../../../datas/Project Jellyfish/train_Test_Valid/Train\\\\mauve_stinger_jellyfish\\\\23.jpg',\n   5),\n  ('../../../datas/Project Jellyfish/train_Test_Valid/Train\\\\mauve_stinger_jellyfish\\\\24.jpg',\n   5),\n  ('../../../datas/Project Jellyfish/train_Test_Valid/Train\\\\mauve_stinger_jellyfish\\\\25.jpg',\n   5),\n  ('../../../datas/Project Jellyfish/train_Test_Valid/Train\\\\mauve_stinger_jellyfish\\\\28.jpg',\n   5),\n  ('../../../datas/Project Jellyfish/train_Test_Valid/Train\\\\mauve_stinger_jellyfish\\\\29.jpg',\n   5),\n  ('../../../datas/Project Jellyfish/train_Test_Valid/Train\\\\mauve_stinger_jellyfish\\\\30.jpg',\n   5),\n  ('../../../datas/Project Jellyfish/train_Test_Valid/Train\\\\mauve_stinger_jellyfish\\\\31.jpg',\n   5),\n  ('../../../datas/Project Jellyfish/train_Test_Valid/Train\\\\mauve_stinger_jellyfish\\\\32.jpg',\n   5),\n  ('../../../datas/Project Jellyfish/train_Test_Valid/Train\\\\mauve_stinger_jellyfish\\\\33.jpg',\n   5),\n  ('../../../datas/Project Jellyfish/train_Test_Valid/Train\\\\mauve_stinger_jellyfish\\\\35.JPG',\n   5),\n  ('../../../datas/Project Jellyfish/train_Test_Valid/Train\\\\mauve_stinger_jellyfish\\\\36.jpg',\n   5),\n  ('../../../datas/Project Jellyfish/train_Test_Valid/Train\\\\mauve_stinger_jellyfish\\\\37.jpg',\n   5),\n  ('../../../datas/Project Jellyfish/train_Test_Valid/Train\\\\mauve_stinger_jellyfish\\\\39.jpg',\n   5),\n  ('../../../datas/Project Jellyfish/train_Test_Valid/Train\\\\mauve_stinger_jellyfish\\\\40.jpg',\n   5),\n  ('../../../datas/Project Jellyfish/train_Test_Valid/Train\\\\mauve_stinger_jellyfish\\\\41.jpg',\n   5),\n  ('../../../datas/Project Jellyfish/train_Test_Valid/Train\\\\mauve_stinger_jellyfish\\\\42.jpg',\n   5),\n  ('../../../datas/Project Jellyfish/train_Test_Valid/Train\\\\mauve_stinger_jellyfish\\\\43.jpg',\n   5),\n  ('../../../datas/Project Jellyfish/train_Test_Valid/Train\\\\mauve_stinger_jellyfish\\\\44.jpg',\n   5),\n  ('../../../datas/Project Jellyfish/train_Test_Valid/Train\\\\mauve_stinger_jellyfish\\\\45.jpg',\n   5),\n  ('../../../datas/Project Jellyfish/train_Test_Valid/Train\\\\mauve_stinger_jellyfish\\\\46.jpg',\n   5),\n  ('../../../datas/Project Jellyfish/train_Test_Valid/Train\\\\mauve_stinger_jellyfish\\\\47.jpg',\n   5),\n  ('../../../datas/Project Jellyfish/train_Test_Valid/Train\\\\mauve_stinger_jellyfish\\\\49.jpg',\n   5),\n  ('../../../datas/Project Jellyfish/train_Test_Valid/Train\\\\mauve_stinger_jellyfish\\\\50.jpg',\n   5),\n  ('../../../datas/Project Jellyfish/train_Test_Valid/Train\\\\mauve_stinger_jellyfish\\\\51.jpg',\n   5),\n  ('../../../datas/Project Jellyfish/train_Test_Valid/Train\\\\mauve_stinger_jellyfish\\\\52.jpg',\n   5),\n  ('../../../datas/Project Jellyfish/train_Test_Valid/Train\\\\mauve_stinger_jellyfish\\\\53.jpg',\n   5),\n  ('../../../datas/Project Jellyfish/train_Test_Valid/Train\\\\mauve_stinger_jellyfish\\\\54.jpg',\n   5),\n  ('../../../datas/Project Jellyfish/train_Test_Valid/Train\\\\mauve_stinger_jellyfish\\\\55.jpg',\n   5),\n  ('../../../datas/Project Jellyfish/train_Test_Valid/Train\\\\mauve_stinger_jellyfish\\\\56.JPG',\n   5),\n  ('../../../datas/Project Jellyfish/train_Test_Valid/Train\\\\mauve_stinger_jellyfish\\\\57.jpg',\n   5),\n  ('../../../datas/Project Jellyfish/train_Test_Valid/Train\\\\mauve_stinger_jellyfish\\\\58.jpg',\n   5),\n  ('../../../datas/Project Jellyfish/train_Test_Valid/Train\\\\mauve_stinger_jellyfish\\\\59.jpg',\n   5),\n  ('../../../datas/Project Jellyfish/train_Test_Valid/Train\\\\mauve_stinger_jellyfish\\\\62.jpg',\n   5),\n  ('../../../datas/Project Jellyfish/train_Test_Valid/Train\\\\mauve_stinger_jellyfish\\\\63.jpg',\n   5),\n  ('../../../datas/Project Jellyfish/train_Test_Valid/Train\\\\mauve_stinger_jellyfish\\\\64.jpg',\n   5),\n  ('../../../datas/Project Jellyfish/train_Test_Valid/Train\\\\mauve_stinger_jellyfish\\\\65.jpg',\n   5),\n  ('../../../datas/Project Jellyfish/train_Test_Valid/Train\\\\mauve_stinger_jellyfish\\\\66.JPG',\n   5),\n  ('../../../datas/Project Jellyfish/train_Test_Valid/Train\\\\mauve_stinger_jellyfish\\\\68.jpg',\n   5),\n  ('../../../datas/Project Jellyfish/train_Test_Valid/Train\\\\mauve_stinger_jellyfish\\\\71.jpg',\n   5),\n  ('../../../datas/Project Jellyfish/train_Test_Valid/Train\\\\mauve_stinger_jellyfish\\\\72.jpg',\n   5),\n  ('../../../datas/Project Jellyfish/train_Test_Valid/Train\\\\mauve_stinger_jellyfish\\\\aug-0-01.jpg',\n   5),\n  ('../../../datas/Project Jellyfish/train_Test_Valid/Train\\\\mauve_stinger_jellyfish\\\\aug-1-02.jpg',\n   5),\n  ('../../../datas/Project Jellyfish/train_Test_Valid/Train\\\\mauve_stinger_jellyfish\\\\aug-10-13.jpg',\n   5),\n  ('../../../datas/Project Jellyfish/train_Test_Valid/Train\\\\mauve_stinger_jellyfish\\\\aug-11-15.jpg',\n   5),\n  ('../../../datas/Project Jellyfish/train_Test_Valid/Train\\\\mauve_stinger_jellyfish\\\\aug-12-16.jpg',\n   5),\n  ('../../../datas/Project Jellyfish/train_Test_Valid/Train\\\\mauve_stinger_jellyfish\\\\aug-13-17.jpg',\n   5),\n  ('../../../datas/Project Jellyfish/train_Test_Valid/Train\\\\mauve_stinger_jellyfish\\\\aug-14-18.jpg',\n   5),\n  ('../../../datas/Project Jellyfish/train_Test_Valid/Train\\\\mauve_stinger_jellyfish\\\\aug-15-20.jpg',\n   5),\n  ('../../../datas/Project Jellyfish/train_Test_Valid/Train\\\\mauve_stinger_jellyfish\\\\aug-16-21.jpg',\n   5),\n  ('../../../datas/Project Jellyfish/train_Test_Valid/Train\\\\mauve_stinger_jellyfish\\\\aug-17-22.jpg',\n   5),\n  ('../../../datas/Project Jellyfish/train_Test_Valid/Train\\\\mauve_stinger_jellyfish\\\\aug-18-23.jpg',\n   5),\n  ('../../../datas/Project Jellyfish/train_Test_Valid/Train\\\\mauve_stinger_jellyfish\\\\aug-19-24.jpg',\n   5),\n  ('../../../datas/Project Jellyfish/train_Test_Valid/Train\\\\mauve_stinger_jellyfish\\\\aug-2-03.jpg',\n   5),\n  ('../../../datas/Project Jellyfish/train_Test_Valid/Train\\\\mauve_stinger_jellyfish\\\\aug-20-25.jpg',\n   5),\n  ('../../../datas/Project Jellyfish/train_Test_Valid/Train\\\\mauve_stinger_jellyfish\\\\aug-21-28.jpg',\n   5),\n  ('../../../datas/Project Jellyfish/train_Test_Valid/Train\\\\mauve_stinger_jellyfish\\\\aug-22-29.jpg',\n   5),\n  ('../../../datas/Project Jellyfish/train_Test_Valid/Train\\\\mauve_stinger_jellyfish\\\\aug-23-30.jpg',\n   5),\n  ('../../../datas/Project Jellyfish/train_Test_Valid/Train\\\\mauve_stinger_jellyfish\\\\aug-24-31.jpg',\n   5),\n  ('../../../datas/Project Jellyfish/train_Test_Valid/Train\\\\mauve_stinger_jellyfish\\\\aug-25-32.jpg',\n   5),\n  ('../../../datas/Project Jellyfish/train_Test_Valid/Train\\\\mauve_stinger_jellyfish\\\\aug-26-33.jpg',\n   5),\n  ('../../../datas/Project Jellyfish/train_Test_Valid/Train\\\\mauve_stinger_jellyfish\\\\aug-27-35.JPG',\n   5),\n  ('../../../datas/Project Jellyfish/train_Test_Valid/Train\\\\mauve_stinger_jellyfish\\\\aug-28-36.jpg',\n   5),\n  ('../../../datas/Project Jellyfish/train_Test_Valid/Train\\\\mauve_stinger_jellyfish\\\\aug-29-37.jpg',\n   5),\n  ('../../../datas/Project Jellyfish/train_Test_Valid/Train\\\\mauve_stinger_jellyfish\\\\aug-3-04.jpg',\n   5),\n  ('../../../datas/Project Jellyfish/train_Test_Valid/Train\\\\mauve_stinger_jellyfish\\\\aug-30-39.jpg',\n   5),\n  ('../../../datas/Project Jellyfish/train_Test_Valid/Train\\\\mauve_stinger_jellyfish\\\\aug-31-40.jpg',\n   5),\n  ('../../../datas/Project Jellyfish/train_Test_Valid/Train\\\\mauve_stinger_jellyfish\\\\aug-32-41.jpg',\n   5),\n  ('../../../datas/Project Jellyfish/train_Test_Valid/Train\\\\mauve_stinger_jellyfish\\\\aug-33-42.jpg',\n   5),\n  ('../../../datas/Project Jellyfish/train_Test_Valid/Train\\\\mauve_stinger_jellyfish\\\\aug-34-43.jpg',\n   5),\n  ('../../../datas/Project Jellyfish/train_Test_Valid/Train\\\\mauve_stinger_jellyfish\\\\aug-35-44.jpg',\n   5),\n  ('../../../datas/Project Jellyfish/train_Test_Valid/Train\\\\mauve_stinger_jellyfish\\\\aug-36-45.jpg',\n   5),\n  ('../../../datas/Project Jellyfish/train_Test_Valid/Train\\\\mauve_stinger_jellyfish\\\\aug-37-46.jpg',\n   5),\n  ('../../../datas/Project Jellyfish/train_Test_Valid/Train\\\\mauve_stinger_jellyfish\\\\aug-38-47.jpg',\n   5),\n  ('../../../datas/Project Jellyfish/train_Test_Valid/Train\\\\mauve_stinger_jellyfish\\\\aug-39-49.jpg',\n   5),\n  ('../../../datas/Project Jellyfish/train_Test_Valid/Train\\\\mauve_stinger_jellyfish\\\\aug-4-05.jpg',\n   5),\n  ('../../../datas/Project Jellyfish/train_Test_Valid/Train\\\\mauve_stinger_jellyfish\\\\aug-40-50.jpg',\n   5),\n  ('../../../datas/Project Jellyfish/train_Test_Valid/Train\\\\mauve_stinger_jellyfish\\\\aug-41-51.jpg',\n   5),\n  ('../../../datas/Project Jellyfish/train_Test_Valid/Train\\\\mauve_stinger_jellyfish\\\\aug-42-52.jpg',\n   5),\n  ('../../../datas/Project Jellyfish/train_Test_Valid/Train\\\\mauve_stinger_jellyfish\\\\aug-43-53.jpg',\n   5),\n  ('../../../datas/Project Jellyfish/train_Test_Valid/Train\\\\mauve_stinger_jellyfish\\\\aug-44-54.jpg',\n   5),\n  ('../../../datas/Project Jellyfish/train_Test_Valid/Train\\\\mauve_stinger_jellyfish\\\\aug-45-55.jpg',\n   5),\n  ('../../../datas/Project Jellyfish/train_Test_Valid/Train\\\\mauve_stinger_jellyfish\\\\aug-46-56.JPG',\n   5),\n  ('../../../datas/Project Jellyfish/train_Test_Valid/Train\\\\mauve_stinger_jellyfish\\\\aug-47-57.jpg',\n   5),\n  ('../../../datas/Project Jellyfish/train_Test_Valid/Train\\\\mauve_stinger_jellyfish\\\\aug-48-58.jpg',\n   5),\n  ('../../../datas/Project Jellyfish/train_Test_Valid/Train\\\\mauve_stinger_jellyfish\\\\aug-49-59.jpg',\n   5),\n  ('../../../datas/Project Jellyfish/train_Test_Valid/Train\\\\mauve_stinger_jellyfish\\\\aug-5-06.jpg',\n   5),\n  ('../../../datas/Project Jellyfish/train_Test_Valid/Train\\\\mauve_stinger_jellyfish\\\\aug-50-62.jpg',\n   5),\n  ('../../../datas/Project Jellyfish/train_Test_Valid/Train\\\\mauve_stinger_jellyfish\\\\aug-51-63.jpg',\n   5),\n  ('../../../datas/Project Jellyfish/train_Test_Valid/Train\\\\mauve_stinger_jellyfish\\\\aug-52-64.jpg',\n   5),\n  ('../../../datas/Project Jellyfish/train_Test_Valid/Train\\\\mauve_stinger_jellyfish\\\\aug-53-65.jpg',\n   5),\n  ('../../../datas/Project Jellyfish/train_Test_Valid/Train\\\\mauve_stinger_jellyfish\\\\aug-54-66.JPG',\n   5),\n  ('../../../datas/Project Jellyfish/train_Test_Valid/Train\\\\mauve_stinger_jellyfish\\\\aug-55-68.jpg',\n   5),\n  ('../../../datas/Project Jellyfish/train_Test_Valid/Train\\\\mauve_stinger_jellyfish\\\\aug-56-71.jpg',\n   5),\n  ('../../../datas/Project Jellyfish/train_Test_Valid/Train\\\\mauve_stinger_jellyfish\\\\aug-57-72.jpg',\n   5),\n  ('../../../datas/Project Jellyfish/train_Test_Valid/Train\\\\mauve_stinger_jellyfish\\\\aug-58-01.jpg',\n   5),\n  ('../../../datas/Project Jellyfish/train_Test_Valid/Train\\\\mauve_stinger_jellyfish\\\\aug-59-02.jpg',\n   5),\n  ('../../../datas/Project Jellyfish/train_Test_Valid/Train\\\\mauve_stinger_jellyfish\\\\aug-6-08.jpg',\n   5),\n  ('../../../datas/Project Jellyfish/train_Test_Valid/Train\\\\mauve_stinger_jellyfish\\\\aug-60-03.jpg',\n   5),\n  ('../../../datas/Project Jellyfish/train_Test_Valid/Train\\\\mauve_stinger_jellyfish\\\\aug-61-04.jpg',\n   5),\n  ('../../../datas/Project Jellyfish/train_Test_Valid/Train\\\\mauve_stinger_jellyfish\\\\aug-62-05.jpg',\n   5),\n  ('../../../datas/Project Jellyfish/train_Test_Valid/Train\\\\mauve_stinger_jellyfish\\\\aug-63-06.jpg',\n   5),\n  ('../../../datas/Project Jellyfish/train_Test_Valid/Train\\\\mauve_stinger_jellyfish\\\\aug-64-08.jpg',\n   5),\n  ('../../../datas/Project Jellyfish/train_Test_Valid/Train\\\\mauve_stinger_jellyfish\\\\aug-65-09.jpg',\n   5),\n  ('../../../datas/Project Jellyfish/train_Test_Valid/Train\\\\mauve_stinger_jellyfish\\\\aug-66-11.jpg',\n   5),\n  ('../../../datas/Project Jellyfish/train_Test_Valid/Train\\\\mauve_stinger_jellyfish\\\\aug-67-12.jpg',\n   5),\n  ('../../../datas/Project Jellyfish/train_Test_Valid/Train\\\\mauve_stinger_jellyfish\\\\aug-68-13.jpg',\n   5),\n  ('../../../datas/Project Jellyfish/train_Test_Valid/Train\\\\mauve_stinger_jellyfish\\\\aug-69-15.jpg',\n   5),\n  ('../../../datas/Project Jellyfish/train_Test_Valid/Train\\\\mauve_stinger_jellyfish\\\\aug-7-09.jpg',\n   5),\n  ('../../../datas/Project Jellyfish/train_Test_Valid/Train\\\\mauve_stinger_jellyfish\\\\aug-70-16.jpg',\n   5),\n  ('../../../datas/Project Jellyfish/train_Test_Valid/Train\\\\mauve_stinger_jellyfish\\\\aug-71-17.jpg',\n   5),\n  ('../../../datas/Project Jellyfish/train_Test_Valid/Train\\\\mauve_stinger_jellyfish\\\\aug-72-18.jpg',\n   5),\n  ('../../../datas/Project Jellyfish/train_Test_Valid/Train\\\\mauve_stinger_jellyfish\\\\aug-73-20.jpg',\n   5),\n  ('../../../datas/Project Jellyfish/train_Test_Valid/Train\\\\mauve_stinger_jellyfish\\\\aug-74-21.jpg',\n   5),\n  ('../../../datas/Project Jellyfish/train_Test_Valid/Train\\\\mauve_stinger_jellyfish\\\\aug-75-22.jpg',\n   5),\n  ('../../../datas/Project Jellyfish/train_Test_Valid/Train\\\\mauve_stinger_jellyfish\\\\aug-76-23.jpg',\n   5),\n  ('../../../datas/Project Jellyfish/train_Test_Valid/Train\\\\mauve_stinger_jellyfish\\\\aug-77-24.jpg',\n   5),\n  ('../../../datas/Project Jellyfish/train_Test_Valid/Train\\\\mauve_stinger_jellyfish\\\\aug-78-25.jpg',\n   5),\n  ('../../../datas/Project Jellyfish/train_Test_Valid/Train\\\\mauve_stinger_jellyfish\\\\aug-79-28.jpg',\n   5),\n  ('../../../datas/Project Jellyfish/train_Test_Valid/Train\\\\mauve_stinger_jellyfish\\\\aug-8-11.jpg',\n   5),\n  ('../../../datas/Project Jellyfish/train_Test_Valid/Train\\\\mauve_stinger_jellyfish\\\\aug-80-29.jpg',\n   5),\n  ('../../../datas/Project Jellyfish/train_Test_Valid/Train\\\\mauve_stinger_jellyfish\\\\aug-81-30.jpg',\n   5),\n  ('../../../datas/Project Jellyfish/train_Test_Valid/Train\\\\mauve_stinger_jellyfish\\\\aug-82-31.jpg',\n   5),\n  ('../../../datas/Project Jellyfish/train_Test_Valid/Train\\\\mauve_stinger_jellyfish\\\\aug-83-32.jpg',\n   5),\n  ('../../../datas/Project Jellyfish/train_Test_Valid/Train\\\\mauve_stinger_jellyfish\\\\aug-84-33.jpg',\n   5),\n  ('../../../datas/Project Jellyfish/train_Test_Valid/Train\\\\mauve_stinger_jellyfish\\\\aug-85-35.JPG',\n   5),\n  ('../../../datas/Project Jellyfish/train_Test_Valid/Train\\\\mauve_stinger_jellyfish\\\\aug-86-36.jpg',\n   5),\n  ('../../../datas/Project Jellyfish/train_Test_Valid/Train\\\\mauve_stinger_jellyfish\\\\aug-87-37.jpg',\n   5),\n  ('../../../datas/Project Jellyfish/train_Test_Valid/Train\\\\mauve_stinger_jellyfish\\\\aug-88-39.jpg',\n   5),\n  ('../../../datas/Project Jellyfish/train_Test_Valid/Train\\\\mauve_stinger_jellyfish\\\\aug-89-40.jpg',\n   5),\n  ('../../../datas/Project Jellyfish/train_Test_Valid/Train\\\\mauve_stinger_jellyfish\\\\aug-9-12.jpg',\n   5),\n  ('../../../datas/Project Jellyfish/train_Test_Valid/Train\\\\mauve_stinger_jellyfish\\\\aug-90-41.jpg',\n   5),\n  ('../../../datas/Project Jellyfish/train_Test_Valid/Train\\\\mauve_stinger_jellyfish\\\\aug-91-42.jpg',\n   5)])"
     },
     "execution_count": 33,
     "metadata": {},
     "output_type": "execute_result"
    }
   ],
   "source": [
    "# 확인\n",
    "imgdataset.classes, imgdataset.class_to_idx, imgdataset.imgs"
   ],
   "metadata": {
    "collapsed": false,
    "ExecuteTime": {
     "end_time": "2024-03-25T09:34:13.561612Z",
     "start_time": "2024-03-25T09:34:13.516860Z"
    }
   },
   "id": "15e33804276aa928",
   "execution_count": 33
  },
  {
   "cell_type": "code",
   "outputs": [
    {
     "name": "stdout",
     "output_type": "stream",
     "text": [
      "torch.Size([10, 3, 50, 50]) tensor([2, 2, 5, 2, 2, 5, 0, 1, 0, 5])\n",
      "torch.Size([10, 3, 50, 50]) tensor([2, 2, 0, 4, 0, 1, 0, 3, 3, 2])\n",
      "torch.Size([10, 3, 50, 50]) tensor([4, 1, 5, 5, 2, 4, 1, 0, 3, 0])\n",
      "torch.Size([10, 3, 50, 50]) tensor([3, 5, 3, 5, 5, 2, 1, 3, 0, 2])\n",
      "torch.Size([10, 3, 50, 50]) tensor([5, 4, 3, 1, 4, 4, 1, 5, 4, 4])\n",
      "torch.Size([10, 3, 50, 50]) tensor([5, 4, 3, 0, 3, 5, 2, 4, 3, 1])\n",
      "torch.Size([10, 3, 50, 50]) tensor([2, 4, 0, 5, 1, 1, 3, 0, 3, 0])\n",
      "torch.Size([10, 3, 50, 50]) tensor([4, 5, 0, 0, 3, 5, 1, 1, 1, 4])\n",
      "torch.Size([10, 3, 50, 50]) tensor([3, 0, 2, 5, 2, 1, 4, 0, 2, 5])\n",
      "torch.Size([10, 3, 50, 50]) tensor([5, 2, 5, 4, 4, 1, 0, 2, 2, 3])\n",
      "torch.Size([10, 3, 50, 50]) tensor([1, 4, 2, 3, 5, 5, 1, 4, 4, 3])\n",
      "torch.Size([10, 3, 50, 50]) tensor([3, 0, 0, 1, 4, 0, 4, 2, 1, 1])\n",
      "torch.Size([10, 3, 50, 50]) tensor([0, 2, 3, 3, 2, 5, 5, 0, 2, 0])\n",
      "torch.Size([10, 3, 50, 50]) tensor([4, 4, 4, 4, 3, 3, 5, 2, 4, 5])\n",
      "torch.Size([10, 3, 50, 50]) tensor([1, 1, 3, 0, 0, 4, 2, 2, 5, 3])\n",
      "torch.Size([10, 3, 50, 50]) tensor([2, 5, 1, 3, 0, 5, 3, 5, 4, 5])\n",
      "torch.Size([10, 3, 50, 50]) tensor([1, 4, 3, 0, 5, 5, 2, 4, 4, 4])\n",
      "torch.Size([10, 3, 50, 50]) tensor([4, 2, 1, 5, 4, 4, 5, 3, 5, 2])\n",
      "torch.Size([10, 3, 50, 50]) tensor([5, 3, 3, 3, 1, 4, 3, 1, 3, 5])\n",
      "torch.Size([10, 3, 50, 50]) tensor([3, 1, 2, 4, 0, 4, 3, 0, 0, 1])\n",
      "torch.Size([10, 3, 50, 50]) tensor([4, 0, 4, 2, 4, 5, 1, 4, 1, 5])\n",
      "torch.Size([10, 3, 50, 50]) tensor([5, 5, 3, 5, 4, 3, 3, 1, 4, 1])\n",
      "torch.Size([10, 3, 50, 50]) tensor([1, 5, 4, 0, 3, 3, 5, 2, 1, 2])\n",
      "torch.Size([10, 3, 50, 50]) tensor([2, 1, 3, 1, 4, 2, 5, 5, 2, 5])\n",
      "torch.Size([10, 3, 50, 50]) tensor([1, 4, 3, 2, 3, 3, 2, 0, 1, 5])\n",
      "torch.Size([10, 3, 50, 50]) tensor([4, 5, 2, 1, 0, 5, 2, 3, 1, 3])\n",
      "torch.Size([10, 3, 50, 50]) tensor([3, 5, 4, 3, 1, 3, 0, 3, 4, 5])\n",
      "torch.Size([10, 3, 50, 50]) tensor([0, 3, 5, 5, 1, 2, 3, 5, 5, 5])\n",
      "torch.Size([10, 3, 50, 50]) tensor([1, 5, 1, 2, 0, 4, 4, 2, 5, 2])\n",
      "torch.Size([10, 3, 50, 50]) tensor([5, 4, 3, 4, 3, 2, 5, 0, 3, 5])\n",
      "torch.Size([10, 3, 50, 50]) tensor([0, 1, 0, 5, 5, 4, 3, 4, 2, 3])\n",
      "torch.Size([10, 3, 50, 50]) tensor([3, 1, 2, 3, 5, 0, 1, 5, 0, 3])\n",
      "torch.Size([10, 3, 50, 50]) tensor([2, 4, 2, 2, 2, 3, 0, 2, 5, 2])\n",
      "torch.Size([10, 3, 50, 50]) tensor([0, 2, 1, 0, 5, 2, 0, 4, 5, 4])\n",
      "torch.Size([10, 3, 50, 50]) tensor([0, 5, 5, 1, 3, 5, 1, 4, 0, 4])\n",
      "torch.Size([10, 3, 50, 50]) tensor([3, 0, 5, 4, 1, 5, 4, 2, 0, 3])\n",
      "torch.Size([10, 3, 50, 50]) tensor([5, 2, 0, 1, 0, 2, 1, 5, 3, 1])\n",
      "torch.Size([10, 3, 50, 50]) tensor([4, 4, 3, 1, 4, 2, 2, 3, 5, 5])\n",
      "torch.Size([10, 3, 50, 50]) tensor([4, 3, 4, 1, 5, 1, 1, 0, 0, 3])\n",
      "torch.Size([10, 3, 50, 50]) tensor([4, 3, 4, 4, 0, 3, 3, 0, 4, 4])\n",
      "torch.Size([10, 3, 50, 50]) tensor([3, 1, 3, 2, 1, 4, 0, 5, 2, 0])\n",
      "torch.Size([10, 3, 50, 50]) tensor([0, 2, 0, 0, 3, 5, 5, 4, 3, 2])\n",
      "torch.Size([10, 3, 50, 50]) tensor([1, 0, 0, 3, 2, 5, 1, 4, 4, 0])\n",
      "torch.Size([10, 3, 50, 50]) tensor([5, 5, 0, 3, 2, 4, 1, 2, 3, 2])\n",
      "torch.Size([10, 3, 50, 50]) tensor([0, 3, 5, 0, 0, 4, 1, 4, 4, 0])\n",
      "torch.Size([10, 3, 50, 50]) tensor([0, 1, 0, 0, 4, 3, 0, 2, 2, 1])\n",
      "torch.Size([10, 3, 50, 50]) tensor([4, 0, 2, 0, 3, 0, 2, 1, 0, 1])\n",
      "torch.Size([10, 3, 50, 50]) tensor([2, 2, 4, 3, 4, 4, 2, 0, 2, 0])\n",
      "torch.Size([10, 3, 50, 50]) tensor([0, 0, 0, 0, 0, 3, 1, 1, 0, 3])\n",
      "torch.Size([10, 3, 50, 50]) tensor([0, 0, 1, 3, 3, 5, 2, 1, 3, 3])\n",
      "torch.Size([10, 3, 50, 50]) tensor([3, 2, 4, 2, 4, 5, 2, 3, 5, 3])\n",
      "torch.Size([10, 3, 50, 50]) tensor([5, 0, 2, 4, 2, 2, 4, 0, 3, 4])\n",
      "torch.Size([10, 3, 50, 50]) tensor([5, 3, 5, 1, 0, 2, 1, 4, 5, 5])\n",
      "torch.Size([10, 3, 50, 50]) tensor([5, 1, 4, 5, 2, 4, 4, 2, 4, 0])\n",
      "torch.Size([10, 3, 50, 50]) tensor([2, 4, 4, 3, 1, 1, 3, 1, 5, 5])\n",
      "torch.Size([10, 3, 50, 50]) tensor([3, 5, 1, 3, 5, 1, 3, 1, 1, 3])\n",
      "torch.Size([10, 3, 50, 50]) tensor([4, 1, 3, 0, 4, 2, 4, 5, 1, 0])\n",
      "torch.Size([10, 3, 50, 50]) tensor([4, 1, 2, 5, 2, 3, 2, 5, 3, 3])\n",
      "torch.Size([10, 3, 50, 50]) tensor([2, 3, 2, 4, 4, 2, 5, 2, 2, 3])\n",
      "torch.Size([10, 3, 50, 50]) tensor([1, 0, 2, 0, 0, 5, 3, 1, 2, 5])\n",
      "torch.Size([10, 3, 50, 50]) tensor([5, 1, 0, 3, 2, 0, 2, 4, 3, 5])\n",
      "torch.Size([10, 3, 50, 50]) tensor([0, 0, 0, 0, 2, 1, 3, 4, 3, 0])\n",
      "torch.Size([10, 3, 50, 50]) tensor([3, 1, 2, 1, 1, 1, 4, 1, 1, 2])\n",
      "torch.Size([10, 3, 50, 50]) tensor([3, 2, 1, 0, 4, 0, 3, 4, 0, 1])\n",
      "torch.Size([10, 3, 50, 50]) tensor([1, 4, 5, 4, 0, 5, 5, 2, 4, 4])\n",
      "torch.Size([10, 3, 50, 50]) tensor([0, 4, 4, 3, 5, 5, 0, 5, 5, 0])\n",
      "torch.Size([10, 3, 50, 50]) tensor([1, 2, 5, 1, 1, 1, 0, 4, 2, 5])\n",
      "torch.Size([10, 3, 50, 50]) tensor([0, 4, 3, 2, 2, 3, 1, 5, 4, 0])\n",
      "torch.Size([10, 3, 50, 50]) tensor([4, 4, 4, 0, 5, 1, 1, 4, 2, 5])\n",
      "torch.Size([10, 3, 50, 50]) tensor([2, 5, 5, 5, 3, 2, 4, 0, 1, 0])\n",
      "torch.Size([10, 3, 50, 50]) tensor([3, 2, 1, 2, 0, 4, 5, 4, 5, 5])\n",
      "torch.Size([10, 3, 50, 50]) tensor([0, 5, 3, 0, 1, 5, 0, 4, 5, 4])\n",
      "torch.Size([10, 3, 50, 50]) tensor([1, 3, 1, 5, 5, 0, 5, 1, 5, 4])\n",
      "torch.Size([10, 3, 50, 50]) tensor([2, 2, 0, 1, 0, 2, 3, 3, 4, 5])\n",
      "torch.Size([10, 3, 50, 50]) tensor([1, 0, 2, 2, 1, 3, 3, 4, 2, 3])\n",
      "torch.Size([10, 3, 50, 50]) tensor([3, 4, 3, 0, 1, 3, 4, 2, 2, 0])\n",
      "torch.Size([10, 3, 50, 50]) tensor([1, 0, 2, 1, 2, 1, 1, 1, 5, 1])\n",
      "torch.Size([10, 3, 50, 50]) tensor([1, 1, 2, 1, 0, 5, 0, 5, 1, 5])\n",
      "torch.Size([10, 3, 50, 50]) tensor([0, 0, 3, 3, 4, 5, 0, 3, 5, 1])\n",
      "torch.Size([10, 3, 50, 50]) tensor([2, 2, 1, 1, 3, 2, 1, 5, 2, 3])\n",
      "torch.Size([10, 3, 50, 50]) tensor([1, 4, 1, 2, 4, 3, 3, 1, 5, 2])\n",
      "torch.Size([10, 3, 50, 50]) tensor([2, 0, 5, 4, 5, 2, 0, 0, 2, 3])\n",
      "torch.Size([10, 3, 50, 50]) tensor([1, 0, 3, 3, 2, 2, 0, 2, 5, 5])\n",
      "torch.Size([10, 3, 50, 50]) tensor([0, 1, 4, 3, 2, 0, 1, 2, 0, 0])\n",
      "torch.Size([10, 3, 50, 50]) tensor([1, 1, 4, 4, 5, 3, 1, 1, 5, 5])\n",
      "torch.Size([10, 3, 50, 50]) tensor([3, 2, 0, 4, 2, 1, 0, 2, 4, 1])\n",
      "torch.Size([10, 3, 50, 50]) tensor([1, 1, 4, 4, 2, 2, 4, 4, 3, 4])\n",
      "torch.Size([10, 3, 50, 50]) tensor([4, 1, 3, 1, 3, 1, 3, 2, 2, 4])\n",
      "torch.Size([10, 3, 50, 50]) tensor([0, 1, 0, 5, 0, 0, 3, 2, 3, 2])\n",
      "torch.Size([10, 3, 50, 50]) tensor([1, 0, 4, 4, 3, 2, 0, 3, 1, 0])\n"
     ]
    }
   ],
   "source": [
    "# 전처리\n",
    "for(img, label) in dataloader:\n",
    "    print(img.shape, label)"
   ],
   "metadata": {
    "collapsed": false,
    "ExecuteTime": {
     "end_time": "2024-03-25T09:34:14.505036Z",
     "start_time": "2024-03-25T09:34:13.563605Z"
    }
   },
   "id": "55f9f8aa1b63a126",
   "execution_count": 34
  },
  {
   "cell_type": "code",
   "outputs": [
    {
     "name": "stdout",
     "output_type": "stream",
     "text": [
      "torch.Size([10, 3, 50, 50]) torch.Size([10]) tensor([1, 1, 1, 2, 1, 4])\n",
      "torch.Size([10, 3, 50, 50]) torch.Size([10]) tensor([1, 2, 2, 2, 1, 2])\n",
      "torch.Size([10, 3, 50, 50]) torch.Size([10]) tensor([2, 1, 2, 3, 1, 1])\n",
      "torch.Size([10, 3, 50, 50]) torch.Size([10]) tensor([1, 1, 3, 1, 3, 1])\n",
      "torch.Size([10, 3, 50, 50]) torch.Size([10]) tensor([2, 0, 3, 1, 1, 3])\n",
      "torch.Size([10, 3, 50, 50]) torch.Size([10]) tensor([3, 2, 1, 1, 1, 2])\n",
      "torch.Size([10, 3, 50, 50]) torch.Size([10]) tensor([2, 0, 1, 2, 3, 2])\n",
      "torch.Size([10, 3, 50, 50]) torch.Size([10]) tensor([5, 1, 3, 0, 1])\n",
      "torch.Size([10, 3, 50, 50]) torch.Size([10]) tensor([3, 1, 0, 1, 2, 3])\n",
      "torch.Size([10, 3, 50, 50]) torch.Size([10]) tensor([1, 2, 2, 2, 0, 3])\n",
      "torch.Size([10, 3, 50, 50]) torch.Size([10]) tensor([2, 0, 2, 1, 2, 3])\n",
      "torch.Size([10, 3, 50, 50]) torch.Size([10]) tensor([2, 2, 2, 2, 1, 1])\n",
      "torch.Size([10, 3, 50, 50]) torch.Size([10]) tensor([0, 2, 2, 2, 2, 2])\n",
      "torch.Size([10, 3, 50, 50]) torch.Size([10]) tensor([2, 0, 2, 3, 2, 1])\n",
      "torch.Size([10, 3, 50, 50]) torch.Size([10]) tensor([4, 1, 0, 2, 0, 3])\n",
      "torch.Size([10, 3, 50, 50]) torch.Size([10]) tensor([2, 1, 0, 4, 1, 2])\n",
      "torch.Size([10, 3, 50, 50]) torch.Size([10]) tensor([2, 0, 3, 1, 2, 2])\n",
      "torch.Size([10, 3, 50, 50]) torch.Size([10]) tensor([3, 1, 2, 0, 1, 3])\n",
      "torch.Size([10, 3, 50, 50]) torch.Size([10]) tensor([2, 3, 1, 2, 2])\n",
      "torch.Size([10, 3, 50, 50]) torch.Size([10]) tensor([4, 1, 2, 1, 0, 2])\n",
      "torch.Size([10, 3, 50, 50]) torch.Size([10]) tensor([0, 1, 3, 3, 0, 3])\n",
      "torch.Size([10, 3, 50, 50]) torch.Size([10]) tensor([4, 0, 1, 1, 3, 1])\n",
      "torch.Size([10, 3, 50, 50]) torch.Size([10]) tensor([2, 3, 1, 0, 1, 3])\n",
      "torch.Size([10, 3, 50, 50]) torch.Size([10]) tensor([0, 1, 0, 2, 3, 4])\n",
      "torch.Size([10, 3, 50, 50]) torch.Size([10]) tensor([5, 1, 0, 0, 1, 3])\n",
      "torch.Size([10, 3, 50, 50]) torch.Size([10]) tensor([0, 3, 3, 1, 1, 2])\n",
      "torch.Size([10, 3, 50, 50]) torch.Size([10]) tensor([3, 2, 1, 2, 0, 2])\n",
      "torch.Size([10, 3, 50, 50]) torch.Size([10]) tensor([2, 0, 2, 4, 1, 1])\n",
      "torch.Size([10, 3, 50, 50]) torch.Size([10]) tensor([1, 1, 2, 2, 4])\n",
      "torch.Size([10, 3, 50, 50]) torch.Size([10]) tensor([2, 3, 1, 0, 3, 1])\n",
      "torch.Size([10, 3, 50, 50]) torch.Size([10]) tensor([4, 1, 2, 0, 1, 2])\n",
      "torch.Size([10, 3, 50, 50]) torch.Size([10]) tensor([1, 2, 0, 0, 7])\n",
      "torch.Size([10, 3, 50, 50]) torch.Size([10]) tensor([2, 2, 2, 2, 1, 1])\n",
      "torch.Size([10, 3, 50, 50]) torch.Size([10]) tensor([1, 3, 1, 1, 1, 3])\n",
      "torch.Size([10, 3, 50, 50]) torch.Size([10]) tensor([2, 1, 3, 0, 2, 2])\n",
      "torch.Size([10, 3, 50, 50]) torch.Size([10]) tensor([0, 3, 3, 1, 3])\n",
      "torch.Size([10, 3, 50, 50]) torch.Size([10]) tensor([5, 2, 3])\n",
      "torch.Size([10, 3, 50, 50]) torch.Size([10]) tensor([4, 0, 1, 1, 4])\n",
      "torch.Size([10, 3, 50, 50]) torch.Size([10]) tensor([0, 1, 1, 3, 1, 4])\n",
      "torch.Size([10, 3, 50, 50]) torch.Size([10]) tensor([2, 4, 1, 2, 0, 1])\n",
      "torch.Size([10, 3, 50, 50]) torch.Size([10]) tensor([1, 1, 3, 1, 1, 3])\n",
      "torch.Size([10, 3, 50, 50]) torch.Size([10]) tensor([1, 3, 0, 4, 1, 1])\n",
      "torch.Size([10, 3, 50, 50]) torch.Size([10]) tensor([1, 3, 1, 2, 3])\n",
      "torch.Size([10, 3, 50, 50]) torch.Size([10]) tensor([3, 3, 2, 1, 0, 1])\n",
      "torch.Size([10, 3, 50, 50]) torch.Size([10]) tensor([2, 2, 2, 1, 1, 2])\n",
      "torch.Size([10, 3, 50, 50]) torch.Size([10]) tensor([1, 1, 2, 2, 2, 2])\n",
      "torch.Size([10, 3, 50, 50]) torch.Size([10]) tensor([2, 0, 1, 4, 2, 1])\n",
      "torch.Size([10, 3, 50, 50]) torch.Size([10]) tensor([2, 0, 4, 1, 1, 2])\n",
      "torch.Size([10, 3, 50, 50]) torch.Size([10]) tensor([2, 2, 0, 1, 3, 2])\n",
      "torch.Size([10, 3, 50, 50]) torch.Size([10]) tensor([1, 1, 2, 2, 2, 2])\n",
      "torch.Size([10, 3, 50, 50]) torch.Size([10]) tensor([1, 1, 1, 2, 1, 4])\n",
      "torch.Size([10, 3, 50, 50]) torch.Size([10]) tensor([3, 2, 1, 2, 1, 1])\n",
      "torch.Size([10, 3, 50, 50]) torch.Size([10]) tensor([1, 4, 0, 3, 1, 1])\n",
      "torch.Size([10, 3, 50, 50]) torch.Size([10]) tensor([4, 2, 1, 0, 1, 2])\n",
      "torch.Size([10, 3, 50, 50]) torch.Size([10]) tensor([3, 2, 1, 4])\n",
      "torch.Size([10, 3, 50, 50]) torch.Size([10]) tensor([2, 1, 2, 3, 0, 2])\n",
      "torch.Size([10, 3, 50, 50]) torch.Size([10]) tensor([0, 3, 1, 1, 2, 3])\n",
      "torch.Size([10, 3, 50, 50]) torch.Size([10]) tensor([1, 3, 1, 3, 2])\n",
      "torch.Size([10, 3, 50, 50]) torch.Size([10]) tensor([2, 2, 2, 0, 4])\n",
      "torch.Size([10, 3, 50, 50]) torch.Size([10]) tensor([2, 0, 1, 2, 1, 4])\n",
      "torch.Size([10, 3, 50, 50]) torch.Size([10]) tensor([1, 0, 4, 2, 3])\n",
      "torch.Size([10, 3, 50, 50]) torch.Size([10]) tensor([1, 2, 2, 1, 2, 2])\n",
      "torch.Size([10, 3, 50, 50]) torch.Size([10]) tensor([2, 0, 5, 1, 2])\n",
      "torch.Size([10, 3, 50, 50]) torch.Size([10]) tensor([1, 1, 3, 2, 2, 1])\n",
      "torch.Size([10, 3, 50, 50]) torch.Size([10]) tensor([2, 1, 2, 2, 1, 2])\n",
      "torch.Size([10, 3, 50, 50]) torch.Size([10]) tensor([1, 0, 0, 3, 4, 2])\n",
      "torch.Size([10, 3, 50, 50]) torch.Size([10]) tensor([2, 3, 1, 0, 2, 2])\n",
      "torch.Size([10, 3, 50, 50]) torch.Size([10]) tensor([0, 4, 2, 2, 0, 2])\n",
      "torch.Size([10, 3, 50, 50]) torch.Size([10]) tensor([0, 2, 3, 1, 3, 1])\n",
      "torch.Size([10, 3, 50, 50]) torch.Size([10]) tensor([2, 0, 2, 1, 4, 1])\n",
      "torch.Size([10, 3, 50, 50]) torch.Size([10]) tensor([1, 3, 3, 0, 2, 1])\n",
      "torch.Size([10, 3, 50, 50]) torch.Size([10]) tensor([1, 1, 1, 2, 2, 3])\n",
      "torch.Size([10, 3, 50, 50]) torch.Size([10]) tensor([1, 0, 4, 1, 3, 1])\n",
      "torch.Size([10, 3, 50, 50]) torch.Size([10]) tensor([2, 1, 2, 4, 0, 1])\n",
      "torch.Size([10, 3, 50, 50]) torch.Size([10]) tensor([1, 0, 3, 1, 2, 3])\n",
      "torch.Size([10, 3, 50, 50]) torch.Size([10]) tensor([0, 2, 3, 4, 1])\n",
      "torch.Size([10, 3, 50, 50]) torch.Size([10]) tensor([1, 5, 1, 1, 0, 2])\n",
      "torch.Size([10, 3, 50, 50]) torch.Size([10]) tensor([0, 5, 1, 3, 1])\n",
      "torch.Size([10, 3, 50, 50]) torch.Size([10]) tensor([0, 0, 0, 3, 6, 1])\n",
      "torch.Size([10, 3, 50, 50]) torch.Size([10]) tensor([2, 4, 2, 0, 1, 1])\n",
      "torch.Size([10, 3, 50, 50]) torch.Size([10]) tensor([1, 2, 1, 1, 3, 2])\n",
      "torch.Size([10, 3, 50, 50]) torch.Size([10]) tensor([0, 2, 1, 3, 3, 1])\n",
      "torch.Size([10, 3, 50, 50]) torch.Size([10]) tensor([0, 5, 0, 2, 2, 1])\n",
      "torch.Size([10, 3, 50, 50]) torch.Size([10]) tensor([0, 3, 2, 2, 1, 2])\n",
      "torch.Size([10, 3, 50, 50]) torch.Size([10]) tensor([2, 2, 1, 3, 0, 2])\n",
      "torch.Size([10, 3, 50, 50]) torch.Size([10]) tensor([1, 4, 3, 0, 0, 2])\n",
      "torch.Size([10, 3, 50, 50]) torch.Size([10]) tensor([1, 3, 2, 1, 2, 1])\n",
      "torch.Size([10, 3, 50, 50]) torch.Size([10]) tensor([0, 2, 0, 3, 3, 2])\n",
      "torch.Size([10, 3, 50, 50]) torch.Size([10]) tensor([4, 0, 1, 2, 1, 2])\n",
      "torch.Size([10, 3, 50, 50]) torch.Size([10]) tensor([1, 1, 2, 2, 1, 3])\n"
     ]
    }
   ],
   "source": [
    "for (img, label) in dataloader:\n",
    "    print(img.shape, label.shape, label.bincount())"
   ],
   "metadata": {
    "collapsed": false,
    "ExecuteTime": {
     "end_time": "2024-03-25T09:34:15.483763Z",
     "start_time": "2024-03-25T09:34:14.506089Z"
    }
   },
   "id": "51f9d5d3e7f19199",
   "execution_count": 35
  },
  {
   "cell_type": "code",
   "outputs": [
    {
     "name": "stdout",
     "output_type": "stream",
     "text": [
      "torch.Size([10, 16, 50, 50])\n"
     ]
    }
   ],
   "source": [
    "# 첫번째 conv 레이어\n",
    "conlayer = nn.Conv2d(in_channels=3, out_channels=16, kernel_size=3, stride=1, padding=1)\n",
    "for img, label in dataloader:\n",
    "    output = conlayer(img)\n",
    "    print(output.shape)\n",
    "    break"
   ],
   "metadata": {
    "collapsed": false,
    "ExecuteTime": {
     "end_time": "2024-03-25T09:34:15.514732Z",
     "start_time": "2024-03-25T09:34:15.487260Z"
    }
   },
   "id": "b851d395a71dcf6f",
   "execution_count": 36
  },
  {
   "cell_type": "code",
   "outputs": [
    {
     "name": "stdout",
     "output_type": "stream",
     "text": [
      "torch.Size([10, 16, 25, 25])\n"
     ]
    }
   ],
   "source": [
    "# Pooling layer\n",
    "\n",
    "pool = nn.MaxPool2d(kernel_size=2)\n",
    "relu = nn.ReLU()(output)\n",
    "pool_output = pool(relu)\n",
    "print(pool_output.shape)"
   ],
   "metadata": {
    "collapsed": false,
    "ExecuteTime": {
     "end_time": "2024-03-25T09:34:15.530324Z",
     "start_time": "2024-03-25T09:34:15.516729Z"
    }
   },
   "id": "1302dcdd7c2cce84",
   "execution_count": 37
  },
  {
   "cell_type": "code",
   "outputs": [],
   "source": [
    "# 완전 연결 층 추가\n",
    "# 특징 맵 평탄화하기\n",
    "flatten = output.view(output.size(0),-1)\n",
    "fc_layer = nn.Linear(flatten.size(1), len(label))"
   ],
   "metadata": {
    "collapsed": false,
    "ExecuteTime": {
     "end_time": "2024-03-25T09:35:02.743327Z",
     "start_time": "2024-03-25T09:35:02.734970Z"
    }
   },
   "id": "b20b8db1c2f042cd",
   "execution_count": 39
  },
  {
   "cell_type": "code",
   "outputs": [],
   "source": [
    "# 손실 함수 정의\n",
    "c = nn.CrossEntropyLoss()\n",
    "import torch.optim as optim\n",
    "# optimizer:\n",
    "optimizer = optim.Adam(conlayer.parameters(), lr=0.001)"
   ],
   "metadata": {
    "collapsed": false,
    "ExecuteTime": {
     "end_time": "2024-03-25T09:36:30.277496Z",
     "start_time": "2024-03-25T09:36:29.299642Z"
    }
   },
   "id": "427e3e0444e6e4a9",
   "execution_count": 40
  },
  {
   "cell_type": "code",
   "outputs": [],
   "source": [
    "EPOCHS = 42\n",
    "DEVICE = 'cuda' if torch.cuda.is_available() else 'cpu'\n",
    "LOSS_FN = nn.CrossEntropyLoss().to(DEVICE)\n",
    "batch_size = 10"
   ],
   "metadata": {
    "collapsed": false,
    "ExecuteTime": {
     "end_time": "2024-03-25T09:54:47.104924Z",
     "start_time": "2024-03-25T09:54:47.087022Z"
    }
   },
   "id": "13c51ea3ca687226",
   "execution_count": 44
  },
  {
   "cell_type": "code",
   "outputs": [],
   "source": [
    "class JELLYFISHMODEL(nn.Module):   \n",
    "    def __init__(self, in_, out_):\n",
    "        super().__init__()\n",
    "        self.layer1 = nn.Linear(in_,120)\n",
    "        self.layer2 = nn.Linear(120,84)\n",
    "        self.layer3 = nn.Linear(84,out_)\n",
    "        self.relu = nn.ReLU()\n",
    "        \n",
    "    def forward(self, x):\n",
    "        y = self.layer1(x)\n",
    "        y = self.relu(y)\n",
    "        y = self.layer2(y)\n",
    "        y = self.relu(y)\n",
    "        y = self.layer3(y)\n",
    "        return y"
   ],
   "metadata": {
    "collapsed": false,
    "ExecuteTime": {
     "end_time": "2024-03-25T09:43:43.249391Z",
     "start_time": "2024-03-25T09:43:43.228938Z"
    }
   },
   "id": "1e39367a094f6fef",
   "execution_count": 41
  },
  {
   "cell_type": "code",
   "outputs": [],
   "source": [
    "# Model instance\n",
    "model = JELLYFISHMODEL(in_=3, out_=10)"
   ],
   "metadata": {
    "collapsed": false,
    "ExecuteTime": {
     "end_time": "2024-03-25T10:04:11.754086Z",
     "start_time": "2024-03-25T10:04:11.735029Z"
    }
   },
   "id": "6c369eb5248654f5",
   "execution_count": 48
  },
  {
   "cell_type": "code",
   "outputs": [],
   "source": [
    "# 학습\n",
    "def training(epoch):\n",
    "    # 학습모드\n",
    "    model.train()\n",
    "    \n",
    "    #배치크기만큼 학습 진행하고 저장하기\n",
    "    trainreport = [[],[],[]]\n",
    "    for idx,(feature, target)in enumerate(dataloader):\n",
    "        #배치크기만큼 학습 데이터 준비\n",
    "        feature, target = feature.to(DEVICE), target.to(DEVICE)\n",
    "        feature = feature.unsqueeze(0)\n",
    "        #학습\n",
    "        pretarget = model(feature)\n",
    "        \n",
    "        # 손실\n",
    "        loss = LOSS_FN(pretarget, target)\n",
    "        trainreport[0].append(loss.item())\n",
    "        \n",
    "        # 성능평가\n",
    "        acc = metrics.accuracy(pretarget, target, task='multiclass',num_classes = len(label))\n",
    "        trainreport[1].append(acc)\n",
    "        \n",
    "        f1 = metrics.f1_score(pretarget, target, task='multiclass',num_classes = len(label))\n",
    "        trainreport[2].append(f1)\n",
    "        \n",
    "        #ep 단위 학습 진행 메시지 출력\n",
    "        loss = (sum(trainreport[0]/batch_size)).item()\n",
    "        acc = (sum(trainreport[1]/batch_size)).item()\n",
    "        f1 = (sum(trainreport[2]/batch_size)).item()\n",
    "        \n",
    "        print(f'[{epoch}] loss: {loss:.3f}, acc: {acc:.3f}, f1: {f1:.3f}')\n",
    "        \n",
    "        return loss,acc,f1"
   ],
   "metadata": {
    "collapsed": false,
    "ExecuteTime": {
     "end_time": "2024-03-25T10:23:16.051776Z",
     "start_time": "2024-03-25T10:23:16.044656Z"
    }
   },
   "id": "3ba1cc1e64be56e0",
   "execution_count": 60
  },
  {
   "cell_type": "code",
   "outputs": [],
   "source": [
    "# 검증 및 테스트 진행함수\n",
    "def testing(epoch, kind='val'):\n",
    "    # 학습\n",
    "    model.eval()\n",
    "    \n",
    "    with torch.no_grad():\n",
    "        test_report= [[],[],[]]\n",
    "        if kind=='val':\n",
    "            dataloader = valid_dl \n",
    "\n",
    "        else:\n",
    "            test_dl\n",
    "        for idx, (feature, target) in enumerate(test_dl):\n",
    "            #배치크기만큼 학습데이터 준비\n",
    "            feature, target= feature.to(DEVICE) , target.to(DEVICE)\n",
    "            \n",
    "            # 학습\n",
    "            pre_target = model(feature)\n",
    "            \n",
    "\n",
    "            # 손실계산\n",
    "            loss = LOSS_FN(pre_target, target)\n",
    "            test_report[0].append(loss)\n",
    "            \n",
    "            # 성능 평가 \n",
    "            acc = metrics.accuracy(pre_target, target, task='multiclass', num_classes=len(label))\n",
    "            test_report[1].append(acc)\n",
    "            \n",
    "            f1 = metrics.f1_score(pre_target, target, task='multiclass', num_classes=len(label))\n",
    "            test_report[2].append(f1)\n",
    "            \n",
    "             \n",
    "        #ep 단위 학습 진행 메시지 출력\n",
    "        loss = (sum(test_report[0]/batch_size)).item()\n",
    "        acc = (sum(test_report[1]/batch_size)).item()\n",
    "        f1 = (sum(test_report[2]/batch_size)).item()\n",
    "        \n",
    "        print(f'[{epoch}] loss: {loss:.3f}, acc: {acc:.3f}, f1: {f1:.3f}')\n",
    "        \n",
    "        return loss,acc,f1"
   ],
   "metadata": {
    "collapsed": false,
    "ExecuteTime": {
     "end_time": "2024-03-25T10:23:16.235827Z",
     "start_time": "2024-03-25T10:23:16.215657Z"
    }
   },
   "id": "8fcfb01cfff3fb62",
   "execution_count": 61
  },
  {
   "cell_type": "code",
   "outputs": [],
   "source": [
    "# 실행 디바이스\n",
    "DEVICE = 'cuda' if torch.cuda.is_available() else 'cpu'\n",
    "#입출력 피처\n",
    "IN_, OUT_ = 500, 10\n",
    "#최적화 인스턴스 생성\n",
    "OPTIMIZER = optim.Adam(model.parameters(), lr=0.001)\n",
    "#손실함수\n",
    "LOSS_FN = nn.CrossEntropyLoss()\n",
    "#학습 횟수 설정\n",
    "EPOCHS = 10"
   ],
   "metadata": {
    "collapsed": false,
    "ExecuteTime": {
     "end_time": "2024-03-25T10:23:16.421673Z",
     "start_time": "2024-03-25T10:23:16.411267Z"
    }
   },
   "id": "6e3ddc3de4d216c6",
   "execution_count": 62
  },
  {
   "cell_type": "code",
   "outputs": [
    {
     "name": "stdout",
     "output_type": "stream",
     "text": [
      "[Epoch 1/10] "
     ]
    },
    {
     "ename": "RuntimeError",
     "evalue": "mat1 and mat2 shapes cannot be multiplied (1500x50 and 3x120)",
     "output_type": "error",
     "traceback": [
      "\u001B[1;31m---------------------------------------------------------------------------\u001B[0m",
      "\u001B[1;31mRuntimeError\u001B[0m                              Traceback (most recent call last)",
      "Cell \u001B[1;32mIn[63], line 11\u001B[0m\n\u001B[0;32m      9\u001B[0m \u001B[38;5;28;01mfor\u001B[39;00m epo \u001B[38;5;129;01min\u001B[39;00m \u001B[38;5;28mrange\u001B[39m(EPOCHS):\n\u001B[0;32m     10\u001B[0m     \u001B[38;5;28mprint\u001B[39m(\u001B[38;5;124mf\u001B[39m\u001B[38;5;124m\"\u001B[39m\u001B[38;5;124m[Epoch \u001B[39m\u001B[38;5;132;01m{\u001B[39;00mepo\u001B[38;5;241m+\u001B[39m\u001B[38;5;241m1\u001B[39m\u001B[38;5;132;01m}\u001B[39;00m\u001B[38;5;124m/\u001B[39m\u001B[38;5;132;01m{\u001B[39;00mEPOCHS\u001B[38;5;132;01m}\u001B[39;00m\u001B[38;5;124m] \u001B[39m\u001B[38;5;124m\"\u001B[39m, end\u001B[38;5;241m=\u001B[39m\u001B[38;5;124m'\u001B[39m\u001B[38;5;124m'\u001B[39m)\n\u001B[1;32m---> 11\u001B[0m     tr_score\u001B[38;5;241m=\u001B[39m\u001B[43mtraining\u001B[49m\u001B[43m(\u001B[49m\u001B[43mepo\u001B[49m\u001B[43m)\u001B[49m\n\u001B[0;32m     12\u001B[0m     va_score\u001B[38;5;241m=\u001B[39mtesting(epo)\n\u001B[0;32m     14\u001B[0m     \u001B[38;5;66;03m# 검증 데이터 기준 학습된 모델 저장하기: Loss가 이전보다 작아진 경우 저장/ acc 또는 F1이면 이전보다 큰 경우 저장\u001B[39;00m\n\u001B[0;32m     15\u001B[0m     \u001B[38;5;66;03m# if pre_va_score > va_score[0]:\u001B[39;00m\n\u001B[0;32m     16\u001B[0m     \u001B[38;5;66;03m#     torch.save(model, filename)\u001B[39;00m\n\u001B[0;32m     17\u001B[0m     \u001B[38;5;66;03m# 가중치저장하기\u001B[39;00m\n\u001B[0;32m     18\u001B[0m     \u001B[38;5;66;03m#     model.state_dict()\u001B[39;00m\n",
      "Cell \u001B[1;32mIn[60], line 13\u001B[0m, in \u001B[0;36mtraining\u001B[1;34m(epoch)\u001B[0m\n\u001B[0;32m     11\u001B[0m feature \u001B[38;5;241m=\u001B[39m feature\u001B[38;5;241m.\u001B[39munsqueeze(\u001B[38;5;241m0\u001B[39m)\n\u001B[0;32m     12\u001B[0m \u001B[38;5;66;03m#학습\u001B[39;00m\n\u001B[1;32m---> 13\u001B[0m pretarget \u001B[38;5;241m=\u001B[39m \u001B[43mmodel\u001B[49m\u001B[43m(\u001B[49m\u001B[43mfeature\u001B[49m\u001B[43m)\u001B[49m\n\u001B[0;32m     15\u001B[0m \u001B[38;5;66;03m# 손실\u001B[39;00m\n\u001B[0;32m     16\u001B[0m loss \u001B[38;5;241m=\u001B[39m LOSS_FN(pretarget, target)\n",
      "File \u001B[1;32m~\\anaconda3\\envs\\Pytorch38\\lib\\site-packages\\torch\\nn\\modules\\module.py:1511\u001B[0m, in \u001B[0;36mModule._wrapped_call_impl\u001B[1;34m(self, *args, **kwargs)\u001B[0m\n\u001B[0;32m   1509\u001B[0m     \u001B[38;5;28;01mreturn\u001B[39;00m \u001B[38;5;28mself\u001B[39m\u001B[38;5;241m.\u001B[39m_compiled_call_impl(\u001B[38;5;241m*\u001B[39margs, \u001B[38;5;241m*\u001B[39m\u001B[38;5;241m*\u001B[39mkwargs)  \u001B[38;5;66;03m# type: ignore[misc]\u001B[39;00m\n\u001B[0;32m   1510\u001B[0m \u001B[38;5;28;01melse\u001B[39;00m:\n\u001B[1;32m-> 1511\u001B[0m     \u001B[38;5;28;01mreturn\u001B[39;00m \u001B[38;5;28;43mself\u001B[39;49m\u001B[38;5;241;43m.\u001B[39;49m\u001B[43m_call_impl\u001B[49m\u001B[43m(\u001B[49m\u001B[38;5;241;43m*\u001B[39;49m\u001B[43margs\u001B[49m\u001B[43m,\u001B[49m\u001B[43m \u001B[49m\u001B[38;5;241;43m*\u001B[39;49m\u001B[38;5;241;43m*\u001B[39;49m\u001B[43mkwargs\u001B[49m\u001B[43m)\u001B[49m\n",
      "File \u001B[1;32m~\\anaconda3\\envs\\Pytorch38\\lib\\site-packages\\torch\\nn\\modules\\module.py:1520\u001B[0m, in \u001B[0;36mModule._call_impl\u001B[1;34m(self, *args, **kwargs)\u001B[0m\n\u001B[0;32m   1515\u001B[0m \u001B[38;5;66;03m# If we don't have any hooks, we want to skip the rest of the logic in\u001B[39;00m\n\u001B[0;32m   1516\u001B[0m \u001B[38;5;66;03m# this function, and just call forward.\u001B[39;00m\n\u001B[0;32m   1517\u001B[0m \u001B[38;5;28;01mif\u001B[39;00m \u001B[38;5;129;01mnot\u001B[39;00m (\u001B[38;5;28mself\u001B[39m\u001B[38;5;241m.\u001B[39m_backward_hooks \u001B[38;5;129;01mor\u001B[39;00m \u001B[38;5;28mself\u001B[39m\u001B[38;5;241m.\u001B[39m_backward_pre_hooks \u001B[38;5;129;01mor\u001B[39;00m \u001B[38;5;28mself\u001B[39m\u001B[38;5;241m.\u001B[39m_forward_hooks \u001B[38;5;129;01mor\u001B[39;00m \u001B[38;5;28mself\u001B[39m\u001B[38;5;241m.\u001B[39m_forward_pre_hooks\n\u001B[0;32m   1518\u001B[0m         \u001B[38;5;129;01mor\u001B[39;00m _global_backward_pre_hooks \u001B[38;5;129;01mor\u001B[39;00m _global_backward_hooks\n\u001B[0;32m   1519\u001B[0m         \u001B[38;5;129;01mor\u001B[39;00m _global_forward_hooks \u001B[38;5;129;01mor\u001B[39;00m _global_forward_pre_hooks):\n\u001B[1;32m-> 1520\u001B[0m     \u001B[38;5;28;01mreturn\u001B[39;00m \u001B[43mforward_call\u001B[49m\u001B[43m(\u001B[49m\u001B[38;5;241;43m*\u001B[39;49m\u001B[43margs\u001B[49m\u001B[43m,\u001B[49m\u001B[43m \u001B[49m\u001B[38;5;241;43m*\u001B[39;49m\u001B[38;5;241;43m*\u001B[39;49m\u001B[43mkwargs\u001B[49m\u001B[43m)\u001B[49m\n\u001B[0;32m   1522\u001B[0m \u001B[38;5;28;01mtry\u001B[39;00m:\n\u001B[0;32m   1523\u001B[0m     result \u001B[38;5;241m=\u001B[39m \u001B[38;5;28;01mNone\u001B[39;00m\n",
      "Cell \u001B[1;32mIn[41], line 10\u001B[0m, in \u001B[0;36mJELLYFISHMODEL.forward\u001B[1;34m(self, x)\u001B[0m\n\u001B[0;32m      9\u001B[0m \u001B[38;5;28;01mdef\u001B[39;00m \u001B[38;5;21mforward\u001B[39m(\u001B[38;5;28mself\u001B[39m, x):\n\u001B[1;32m---> 10\u001B[0m     y \u001B[38;5;241m=\u001B[39m \u001B[38;5;28;43mself\u001B[39;49m\u001B[38;5;241;43m.\u001B[39;49m\u001B[43mlayer1\u001B[49m\u001B[43m(\u001B[49m\u001B[43mx\u001B[49m\u001B[43m)\u001B[49m\n\u001B[0;32m     11\u001B[0m     y \u001B[38;5;241m=\u001B[39m \u001B[38;5;28mself\u001B[39m\u001B[38;5;241m.\u001B[39mrelu(y)\n\u001B[0;32m     12\u001B[0m     y \u001B[38;5;241m=\u001B[39m \u001B[38;5;28mself\u001B[39m\u001B[38;5;241m.\u001B[39mlayer2(y)\n",
      "File \u001B[1;32m~\\anaconda3\\envs\\Pytorch38\\lib\\site-packages\\torch\\nn\\modules\\module.py:1511\u001B[0m, in \u001B[0;36mModule._wrapped_call_impl\u001B[1;34m(self, *args, **kwargs)\u001B[0m\n\u001B[0;32m   1509\u001B[0m     \u001B[38;5;28;01mreturn\u001B[39;00m \u001B[38;5;28mself\u001B[39m\u001B[38;5;241m.\u001B[39m_compiled_call_impl(\u001B[38;5;241m*\u001B[39margs, \u001B[38;5;241m*\u001B[39m\u001B[38;5;241m*\u001B[39mkwargs)  \u001B[38;5;66;03m# type: ignore[misc]\u001B[39;00m\n\u001B[0;32m   1510\u001B[0m \u001B[38;5;28;01melse\u001B[39;00m:\n\u001B[1;32m-> 1511\u001B[0m     \u001B[38;5;28;01mreturn\u001B[39;00m \u001B[38;5;28;43mself\u001B[39;49m\u001B[38;5;241;43m.\u001B[39;49m\u001B[43m_call_impl\u001B[49m\u001B[43m(\u001B[49m\u001B[38;5;241;43m*\u001B[39;49m\u001B[43margs\u001B[49m\u001B[43m,\u001B[49m\u001B[43m \u001B[49m\u001B[38;5;241;43m*\u001B[39;49m\u001B[38;5;241;43m*\u001B[39;49m\u001B[43mkwargs\u001B[49m\u001B[43m)\u001B[49m\n",
      "File \u001B[1;32m~\\anaconda3\\envs\\Pytorch38\\lib\\site-packages\\torch\\nn\\modules\\module.py:1520\u001B[0m, in \u001B[0;36mModule._call_impl\u001B[1;34m(self, *args, **kwargs)\u001B[0m\n\u001B[0;32m   1515\u001B[0m \u001B[38;5;66;03m# If we don't have any hooks, we want to skip the rest of the logic in\u001B[39;00m\n\u001B[0;32m   1516\u001B[0m \u001B[38;5;66;03m# this function, and just call forward.\u001B[39;00m\n\u001B[0;32m   1517\u001B[0m \u001B[38;5;28;01mif\u001B[39;00m \u001B[38;5;129;01mnot\u001B[39;00m (\u001B[38;5;28mself\u001B[39m\u001B[38;5;241m.\u001B[39m_backward_hooks \u001B[38;5;129;01mor\u001B[39;00m \u001B[38;5;28mself\u001B[39m\u001B[38;5;241m.\u001B[39m_backward_pre_hooks \u001B[38;5;129;01mor\u001B[39;00m \u001B[38;5;28mself\u001B[39m\u001B[38;5;241m.\u001B[39m_forward_hooks \u001B[38;5;129;01mor\u001B[39;00m \u001B[38;5;28mself\u001B[39m\u001B[38;5;241m.\u001B[39m_forward_pre_hooks\n\u001B[0;32m   1518\u001B[0m         \u001B[38;5;129;01mor\u001B[39;00m _global_backward_pre_hooks \u001B[38;5;129;01mor\u001B[39;00m _global_backward_hooks\n\u001B[0;32m   1519\u001B[0m         \u001B[38;5;129;01mor\u001B[39;00m _global_forward_hooks \u001B[38;5;129;01mor\u001B[39;00m _global_forward_pre_hooks):\n\u001B[1;32m-> 1520\u001B[0m     \u001B[38;5;28;01mreturn\u001B[39;00m \u001B[43mforward_call\u001B[49m\u001B[43m(\u001B[49m\u001B[38;5;241;43m*\u001B[39;49m\u001B[43margs\u001B[49m\u001B[43m,\u001B[49m\u001B[43m \u001B[49m\u001B[38;5;241;43m*\u001B[39;49m\u001B[38;5;241;43m*\u001B[39;49m\u001B[43mkwargs\u001B[49m\u001B[43m)\u001B[49m\n\u001B[0;32m   1522\u001B[0m \u001B[38;5;28;01mtry\u001B[39;00m:\n\u001B[0;32m   1523\u001B[0m     result \u001B[38;5;241m=\u001B[39m \u001B[38;5;28;01mNone\u001B[39;00m\n",
      "File \u001B[1;32m~\\anaconda3\\envs\\Pytorch38\\lib\\site-packages\\torch\\nn\\modules\\linear.py:116\u001B[0m, in \u001B[0;36mLinear.forward\u001B[1;34m(self, input)\u001B[0m\n\u001B[0;32m    115\u001B[0m \u001B[38;5;28;01mdef\u001B[39;00m \u001B[38;5;21mforward\u001B[39m(\u001B[38;5;28mself\u001B[39m, \u001B[38;5;28minput\u001B[39m: Tensor) \u001B[38;5;241m-\u001B[39m\u001B[38;5;241m>\u001B[39m Tensor:\n\u001B[1;32m--> 116\u001B[0m     \u001B[38;5;28;01mreturn\u001B[39;00m \u001B[43mF\u001B[49m\u001B[38;5;241;43m.\u001B[39;49m\u001B[43mlinear\u001B[49m\u001B[43m(\u001B[49m\u001B[38;5;28;43minput\u001B[39;49m\u001B[43m,\u001B[49m\u001B[43m \u001B[49m\u001B[38;5;28;43mself\u001B[39;49m\u001B[38;5;241;43m.\u001B[39;49m\u001B[43mweight\u001B[49m\u001B[43m,\u001B[49m\u001B[43m \u001B[49m\u001B[38;5;28;43mself\u001B[39;49m\u001B[38;5;241;43m.\u001B[39;49m\u001B[43mbias\u001B[49m\u001B[43m)\u001B[49m\n",
      "\u001B[1;31mRuntimeError\u001B[0m: mat1 and mat2 shapes cannot be multiplied (1500x50 and 3x120)"
     ]
    }
   ],
   "source": [
    "# 학습 데이별 성능지표 값\n",
    "train_ = {'loss':[], 'acc':[], 'f1':[]}\n",
    "val_ = {'loss':[], 'acc':[], 'f1':[]}\n",
    "\n",
    "#모델 저장 관련 변수\n",
    "pre_va_score=0\n",
    "\n",
    "#학습 진행\n",
    "for epo in range(EPOCHS):\n",
    "    print(f\"[Epoch {epo+1}/{EPOCHS}] \", end='')\n",
    "    tr_score=training(epo)\n",
    "    va_score=testing(epo)\n",
    "    \n",
    "    # 검증 데이터 기준 학습된 모델 저장하기: Loss가 이전보다 작아진 경우 저장/ acc 또는 F1이면 이전보다 큰 경우 저장\n",
    "    # if pre_va_score > va_score[0]:\n",
    "    #     torch.save(model, filename)\n",
    "    # 가중치저장하기\n",
    "    #     model.state_dict()\n",
    "    \n",
    "    for idx, key in enumerate(train_):\n",
    "        train_[key].append(tr_score[idx])\n",
    "        val_[key].append(va_score[idx])\n",
    "\n",
    "print(\"Done!\")"
   ],
   "metadata": {
    "collapsed": false,
    "ExecuteTime": {
     "end_time": "2024-03-25T10:23:16.822357Z",
     "start_time": "2024-03-25T10:23:16.710852Z"
    }
   },
   "id": "5e4ee5d0d9676f7d",
   "execution_count": 63
  },
  {
   "cell_type": "code",
   "outputs": [],
   "source": [],
   "metadata": {
    "collapsed": false,
    "ExecuteTime": {
     "end_time": "2024-03-25T10:23:17.039042Z",
     "start_time": "2024-03-25T10:23:17.030629Z"
    }
   },
   "id": "77a8881f98220446",
   "execution_count": 63
  },
  {
   "cell_type": "code",
   "outputs": [],
   "source": [],
   "metadata": {
    "collapsed": false
   },
   "id": "be750361c3d08eb7"
  }
 ],
 "metadata": {
  "kernelspec": {
   "display_name": "Python 3",
   "language": "python",
   "name": "python3"
  },
  "language_info": {
   "codemirror_mode": {
    "name": "ipython",
    "version": 2
   },
   "file_extension": ".py",
   "mimetype": "text/x-python",
   "name": "python",
   "nbconvert_exporter": "python",
   "pygments_lexer": "ipython2",
   "version": "2.7.6"
  }
 },
 "nbformat": 4,
 "nbformat_minor": 5
}
