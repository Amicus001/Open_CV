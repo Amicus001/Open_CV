{
 "cells": [
  {
   "cell_type": "markdown",
   "source": [
    "## 전이학습"
   ],
   "metadata": {
    "collapsed": false
   },
   "id": "85c2b1ae20eeaaac"
  },
  {
   "cell_type": "code",
   "outputs": [],
   "source": [
    "import torch\n",
    "import torch.nn as nn\n",
    "import torch.optim as optim\n",
    "from torch.utils.data import DataLoader\n",
    "\n",
    "from torchvision.datasets import ImageFolder\n",
    "import torchvision.transforms as transforms\n",
    "from torchvision.models import resnet18, ResNet18_Weights\n",
    "\n",
    "from torchinfo import summary\n",
    "from torchmetrics.functional.classification import multiclass_accuracy"
   ],
   "metadata": {
    "collapsed": false,
    "ExecuteTime": {
     "end_time": "2024-03-26T04:08:37.854798Z",
     "start_time": "2024-03-26T04:08:37.838667Z"
    }
   },
   "id": "745429a844750601",
   "execution_count": 2
  },
  {
   "cell_type": "code",
   "outputs": [
    {
     "name": "stdout",
     "output_type": "stream",
     "text": [
      "['Moon_jellyfish', 'barrel_jellyfish', 'blue_jellyfish', 'compass_jellyfish', 'lions_mane_jellyfish', 'mauve_stinger_jellyfish'] [0, 0, 0, 0, 0, 0, 1, 1, 1, 1, 1, 2, 2, 2, 2, 2, 2, 2, 3, 3, 3, 3, 3, 3, 3, 4, 4, 4, 4, 4, 4, 4, 4, 5, 5, 5, 5, 5, 5, 5] [('../../datas/Project Jellyfish/Train_Test_Valid/test\\\\Moon_jellyfish\\\\07.JPG', 0), ('../../datas/Project Jellyfish/Train_Test_Valid/test\\\\Moon_jellyfish\\\\11.jpg', 0), ('../../datas/Project Jellyfish/Train_Test_Valid/test\\\\Moon_jellyfish\\\\19.jpg', 0), ('../../datas/Project Jellyfish/Train_Test_Valid/test\\\\Moon_jellyfish\\\\23.jpg', 0), ('../../datas/Project Jellyfish/Train_Test_Valid/test\\\\Moon_jellyfish\\\\33.jpg', 0), ('../../datas/Project Jellyfish/Train_Test_Valid/test\\\\Moon_jellyfish\\\\48.jpg', 0), ('../../datas/Project Jellyfish/Train_Test_Valid/test\\\\barrel_jellyfish\\\\08.jpg', 1), ('../../datas/Project Jellyfish/Train_Test_Valid/test\\\\barrel_jellyfish\\\\16.jpg', 1), ('../../datas/Project Jellyfish/Train_Test_Valid/test\\\\barrel_jellyfish\\\\23.jpg', 1), ('../../datas/Project Jellyfish/Train_Test_Valid/test\\\\barrel_jellyfish\\\\43.jpg', 1), ('../../datas/Project Jellyfish/Train_Test_Valid/test\\\\barrel_jellyfish\\\\50.jpg', 1), ('../../datas/Project Jellyfish/Train_Test_Valid/test\\\\blue_jellyfish\\\\01.jpeg', 2), ('../../datas/Project Jellyfish/Train_Test_Valid/test\\\\blue_jellyfish\\\\10.jpg', 2), ('../../datas/Project Jellyfish/Train_Test_Valid/test\\\\blue_jellyfish\\\\14.jpg', 2), ('../../datas/Project Jellyfish/Train_Test_Valid/test\\\\blue_jellyfish\\\\19.jpg', 2), ('../../datas/Project Jellyfish/Train_Test_Valid/test\\\\blue_jellyfish\\\\24.jpg', 2), ('../../datas/Project Jellyfish/Train_Test_Valid/test\\\\blue_jellyfish\\\\33.jpeg', 2), ('../../datas/Project Jellyfish/Train_Test_Valid/test\\\\blue_jellyfish\\\\47.jpg', 2), ('../../datas/Project Jellyfish/Train_Test_Valid/test\\\\compass_jellyfish\\\\04.jpg', 3), ('../../datas/Project Jellyfish/Train_Test_Valid/test\\\\compass_jellyfish\\\\20.jpg', 3), ('../../datas/Project Jellyfish/Train_Test_Valid/test\\\\compass_jellyfish\\\\28.JPG', 3), ('../../datas/Project Jellyfish/Train_Test_Valid/test\\\\compass_jellyfish\\\\41.jpg', 3), ('../../datas/Project Jellyfish/Train_Test_Valid/test\\\\compass_jellyfish\\\\48.jpg', 3), ('../../datas/Project Jellyfish/Train_Test_Valid/test\\\\compass_jellyfish\\\\54.jpg', 3), ('../../datas/Project Jellyfish/Train_Test_Valid/test\\\\compass_jellyfish\\\\69.png', 3), ('../../datas/Project Jellyfish/Train_Test_Valid/test\\\\lions_mane_jellyfish\\\\12.jpg', 4), ('../../datas/Project Jellyfish/Train_Test_Valid/test\\\\lions_mane_jellyfish\\\\14.jpg', 4), ('../../datas/Project Jellyfish/Train_Test_Valid/test\\\\lions_mane_jellyfish\\\\27.jpg', 4), ('../../datas/Project Jellyfish/Train_Test_Valid/test\\\\lions_mane_jellyfish\\\\33.jpg', 4), ('../../datas/Project Jellyfish/Train_Test_Valid/test\\\\lions_mane_jellyfish\\\\46.jpg', 4), ('../../datas/Project Jellyfish/Train_Test_Valid/test\\\\lions_mane_jellyfish\\\\58.jpg', 4), ('../../datas/Project Jellyfish/Train_Test_Valid/test\\\\lions_mane_jellyfish\\\\64.jpg', 4), ('../../datas/Project Jellyfish/Train_Test_Valid/test\\\\lions_mane_jellyfish\\\\67.jpg', 4), ('../../datas/Project Jellyfish/Train_Test_Valid/test\\\\mauve_stinger_jellyfish\\\\07.jpg', 5), ('../../datas/Project Jellyfish/Train_Test_Valid/test\\\\mauve_stinger_jellyfish\\\\14.jpg', 5), ('../../datas/Project Jellyfish/Train_Test_Valid/test\\\\mauve_stinger_jellyfish\\\\26.jpg', 5), ('../../datas/Project Jellyfish/Train_Test_Valid/test\\\\mauve_stinger_jellyfish\\\\34.jpg', 5), ('../../datas/Project Jellyfish/Train_Test_Valid/test\\\\mauve_stinger_jellyfish\\\\48.jpg', 5), ('../../datas/Project Jellyfish/Train_Test_Valid/test\\\\mauve_stinger_jellyfish\\\\61.jpg', 5), ('../../datas/Project Jellyfish/Train_Test_Valid/test\\\\mauve_stinger_jellyfish\\\\69.jpg', 5)]/"
     ]
    }
   ],
   "source": [
    "### 데이터 로드\n",
    "\n",
    "imgdir = '../../datas/Project Jellyfish/Train_Test_Valid/test'\n",
    "\n",
    "#resnet 전처리\n",
    "preprocessing = transforms.Compose([transforms.Resize(size=256, interpolation=transforms.InterpolationMode.BILINEAR),\n",
    "                                    transforms.CenterCrop(size=224),\n",
    "                                    transforms.ToTensor(),\n",
    "                                    transforms.Normalize(mean=(0.485,0.456,0.406), std=(0.229,0.224,0.225))])\n",
    "\n",
    "#이미지 데이터셋 생성\n",
    "imgDS = ImageFolder(root=imgdir, transform=preprocessing)\n",
    "print(imgDS.classes, imgDS.targets, imgDS.imgs, end='/')"
   ],
   "metadata": {
    "collapsed": false,
    "ExecuteTime": {
     "end_time": "2024-03-26T04:14:26.004027Z",
     "start_time": "2024-03-26T04:14:25.996040Z"
    }
   },
   "id": "339fab234d17873",
   "execution_count": 4
  },
  {
   "cell_type": "code",
   "outputs": [
    {
     "name": "stdout",
     "output_type": "stream",
     "text": [
      "torch.Size([3, 3, 224, 224]) tensor([4, 1, 4])\n",
      "torch.Size([3, 3, 224, 224]) tensor([1, 0, 0])\n",
      "torch.Size([3, 3, 224, 224]) tensor([0, 1, 5])\n",
      "torch.Size([3, 3, 224, 224]) tensor([5, 1, 4])\n",
      "torch.Size([3, 3, 224, 224]) tensor([0, 3, 4])\n",
      "torch.Size([3, 3, 224, 224]) tensor([4, 3, 5])\n",
      "torch.Size([3, 3, 224, 224]) tensor([5, 0, 2])\n",
      "torch.Size([3, 3, 224, 224]) tensor([4, 3, 3])\n",
      "torch.Size([3, 3, 224, 224]) tensor([2, 2, 5])\n",
      "torch.Size([3, 3, 224, 224]) tensor([2, 4, 5])\n",
      "torch.Size([3, 3, 224, 224]) tensor([3, 2, 1])\n",
      "torch.Size([3, 3, 224, 224]) tensor([0, 3, 5])\n",
      "torch.Size([3, 3, 224, 224]) tensor([2, 4, 2])\n"
     ]
    }
   ],
   "source": [
    "# 데이터 로더 생성\n",
    "imgDL = DataLoader(dataset=imgDS, batch_size=3, shuffle=True, drop_last=True)\n",
    "for (img, label) in imgDL:\n",
    "    print(img.shape, label)"
   ],
   "metadata": {
    "collapsed": false,
    "ExecuteTime": {
     "end_time": "2024-03-26T04:16:24.927796Z",
     "start_time": "2024-03-26T04:16:24.759447Z"
    }
   },
   "id": "dd98204b2c69b467",
   "execution_count": 5
  },
  {
   "cell_type": "code",
   "outputs": [],
   "source": [
    "## 모델 설계 / 설정\n",
    "# 사전학습된 모델 인스턴스 생성\n",
    "resmodel = resnet18(weights=ResNet18_Weights.DEFAULT) # 파라미터 세팅 안 했음\n",
    "\n",
    "#전결합층 변경\n",
    "# in_features: featuremap에서 받은 feature 수, out_features = 출력 / 분류할 클래스 수\n",
    "\n",
    "resmodel.fc = nn.Linear(in_features=512, out_features=6)\n"
   ],
   "metadata": {
    "collapsed": false,
    "ExecuteTime": {
     "end_time": "2024-03-26T04:25:10.453868Z",
     "start_time": "2024-03-26T04:25:10.287847Z"
    }
   },
   "id": "40becaecce108812",
   "execution_count": 10
  },
  {
   "cell_type": "code",
   "outputs": [
    {
     "data": {
      "text/plain": "==========================================================================================\nLayer (type:depth-idx)                   Output Shape              Param #\n==========================================================================================\nResNet                                   [3, 6]                    --\n├─Conv2d: 1-1                            [3, 64, 112, 112]         9,408\n├─BatchNorm2d: 1-2                       [3, 64, 112, 112]         128\n├─ReLU: 1-3                              [3, 64, 112, 112]         --\n├─MaxPool2d: 1-4                         [3, 64, 56, 56]           --\n├─Sequential: 1-5                        [3, 64, 56, 56]           --\n│    └─BasicBlock: 2-1                   [3, 64, 56, 56]           --\n│    │    └─Conv2d: 3-1                  [3, 64, 56, 56]           36,864\n│    │    └─BatchNorm2d: 3-2             [3, 64, 56, 56]           128\n│    │    └─ReLU: 3-3                    [3, 64, 56, 56]           --\n│    │    └─Conv2d: 3-4                  [3, 64, 56, 56]           36,864\n│    │    └─BatchNorm2d: 3-5             [3, 64, 56, 56]           128\n│    │    └─ReLU: 3-6                    [3, 64, 56, 56]           --\n│    └─BasicBlock: 2-2                   [3, 64, 56, 56]           --\n│    │    └─Conv2d: 3-7                  [3, 64, 56, 56]           36,864\n│    │    └─BatchNorm2d: 3-8             [3, 64, 56, 56]           128\n│    │    └─ReLU: 3-9                    [3, 64, 56, 56]           --\n│    │    └─Conv2d: 3-10                 [3, 64, 56, 56]           36,864\n│    │    └─BatchNorm2d: 3-11            [3, 64, 56, 56]           128\n│    │    └─ReLU: 3-12                   [3, 64, 56, 56]           --\n├─Sequential: 1-6                        [3, 128, 28, 28]          --\n│    └─BasicBlock: 2-3                   [3, 128, 28, 28]          --\n│    │    └─Conv2d: 3-13                 [3, 128, 28, 28]          73,728\n│    │    └─BatchNorm2d: 3-14            [3, 128, 28, 28]          256\n│    │    └─ReLU: 3-15                   [3, 128, 28, 28]          --\n│    │    └─Conv2d: 3-16                 [3, 128, 28, 28]          147,456\n│    │    └─BatchNorm2d: 3-17            [3, 128, 28, 28]          256\n│    │    └─Sequential: 3-18             [3, 128, 28, 28]          8,448\n│    │    └─ReLU: 3-19                   [3, 128, 28, 28]          --\n│    └─BasicBlock: 2-4                   [3, 128, 28, 28]          --\n│    │    └─Conv2d: 3-20                 [3, 128, 28, 28]          147,456\n│    │    └─BatchNorm2d: 3-21            [3, 128, 28, 28]          256\n│    │    └─ReLU: 3-22                   [3, 128, 28, 28]          --\n│    │    └─Conv2d: 3-23                 [3, 128, 28, 28]          147,456\n│    │    └─BatchNorm2d: 3-24            [3, 128, 28, 28]          256\n│    │    └─ReLU: 3-25                   [3, 128, 28, 28]          --\n├─Sequential: 1-7                        [3, 256, 14, 14]          --\n│    └─BasicBlock: 2-5                   [3, 256, 14, 14]          --\n│    │    └─Conv2d: 3-26                 [3, 256, 14, 14]          294,912\n│    │    └─BatchNorm2d: 3-27            [3, 256, 14, 14]          512\n│    │    └─ReLU: 3-28                   [3, 256, 14, 14]          --\n│    │    └─Conv2d: 3-29                 [3, 256, 14, 14]          589,824\n│    │    └─BatchNorm2d: 3-30            [3, 256, 14, 14]          512\n│    │    └─Sequential: 3-31             [3, 256, 14, 14]          33,280\n│    │    └─ReLU: 3-32                   [3, 256, 14, 14]          --\n│    └─BasicBlock: 2-6                   [3, 256, 14, 14]          --\n│    │    └─Conv2d: 3-33                 [3, 256, 14, 14]          589,824\n│    │    └─BatchNorm2d: 3-34            [3, 256, 14, 14]          512\n│    │    └─ReLU: 3-35                   [3, 256, 14, 14]          --\n│    │    └─Conv2d: 3-36                 [3, 256, 14, 14]          589,824\n│    │    └─BatchNorm2d: 3-37            [3, 256, 14, 14]          512\n│    │    └─ReLU: 3-38                   [3, 256, 14, 14]          --\n├─Sequential: 1-8                        [3, 512, 7, 7]            --\n│    └─BasicBlock: 2-7                   [3, 512, 7, 7]            --\n│    │    └─Conv2d: 3-39                 [3, 512, 7, 7]            1,179,648\n│    │    └─BatchNorm2d: 3-40            [3, 512, 7, 7]            1,024\n│    │    └─ReLU: 3-41                   [3, 512, 7, 7]            --\n│    │    └─Conv2d: 3-42                 [3, 512, 7, 7]            2,359,296\n│    │    └─BatchNorm2d: 3-43            [3, 512, 7, 7]            1,024\n│    │    └─Sequential: 3-44             [3, 512, 7, 7]            132,096\n│    │    └─ReLU: 3-45                   [3, 512, 7, 7]            --\n│    └─BasicBlock: 2-8                   [3, 512, 7, 7]            --\n│    │    └─Conv2d: 3-46                 [3, 512, 7, 7]            2,359,296\n│    │    └─BatchNorm2d: 3-47            [3, 512, 7, 7]            1,024\n│    │    └─ReLU: 3-48                   [3, 512, 7, 7]            --\n│    │    └─Conv2d: 3-49                 [3, 512, 7, 7]            2,359,296\n│    │    └─BatchNorm2d: 3-50            [3, 512, 7, 7]            1,024\n│    │    └─ReLU: 3-51                   [3, 512, 7, 7]            --\n├─AdaptiveAvgPool2d: 1-9                 [3, 512, 1, 1]            --\n├─Linear: 1-10                           [3, 6]                    3,078\n==========================================================================================\nTotal params: 11,179,590\nTrainable params: 11,179,590\nNon-trainable params: 0\nTotal mult-adds (G): 5.44\n==========================================================================================\nInput size (MB): 1.81\nForward/backward pass size (MB): 119.22\nParams size (MB): 44.72\nEstimated Total Size (MB): 165.74\n=========================================================================================="
     },
     "execution_count": 11,
     "metadata": {},
     "output_type": "execute_result"
    }
   ],
   "source": [
    "#summary: 구조 보기\n",
    "summary(resmodel, (3,3,224,224))"
   ],
   "metadata": {
    "collapsed": false,
    "ExecuteTime": {
     "end_time": "2024-03-26T04:25:14.036077Z",
     "start_time": "2024-03-26T04:25:13.941966Z"
    }
   },
   "id": "e90835866fc26356",
   "execution_count": 11
  },
  {
   "cell_type": "code",
   "outputs": [
    {
     "name": "stdout",
     "output_type": "stream",
     "text": [
      "conv1.weight False   =======>   False\n",
      "bn1.weight False   =======>   False\n",
      "bn1.bias False   =======>   False\n",
      "layer1.0.conv1.weight False   =======>   False\n",
      "layer1.0.bn1.weight False   =======>   False\n",
      "layer1.0.bn1.bias False   =======>   False\n",
      "layer1.0.conv2.weight False   =======>   False\n",
      "layer1.0.bn2.weight False   =======>   False\n",
      "layer1.0.bn2.bias False   =======>   False\n",
      "layer1.1.conv1.weight False   =======>   False\n",
      "layer1.1.bn1.weight False   =======>   False\n",
      "layer1.1.bn1.bias False   =======>   False\n",
      "layer1.1.conv2.weight False   =======>   False\n",
      "layer1.1.bn2.weight False   =======>   False\n",
      "layer1.1.bn2.bias False   =======>   False\n",
      "layer2.0.conv1.weight False   =======>   False\n",
      "layer2.0.bn1.weight False   =======>   False\n",
      "layer2.0.bn1.bias False   =======>   False\n",
      "layer2.0.conv2.weight False   =======>   False\n",
      "layer2.0.bn2.weight False   =======>   False\n",
      "layer2.0.bn2.bias False   =======>   False\n",
      "layer2.0.downsample.0.weight False   =======>   False\n",
      "layer2.0.downsample.1.weight False   =======>   False\n",
      "layer2.0.downsample.1.bias False   =======>   False\n",
      "layer2.1.conv1.weight False   =======>   False\n",
      "layer2.1.bn1.weight False   =======>   False\n",
      "layer2.1.bn1.bias False   =======>   False\n",
      "layer2.1.conv2.weight False   =======>   False\n",
      "layer2.1.bn2.weight False   =======>   False\n",
      "layer2.1.bn2.bias False   =======>   False\n",
      "layer3.0.conv1.weight False   =======>   False\n",
      "layer3.0.bn1.weight False   =======>   False\n",
      "layer3.0.bn1.bias False   =======>   False\n",
      "layer3.0.conv2.weight False   =======>   False\n",
      "layer3.0.bn2.weight False   =======>   False\n",
      "layer3.0.bn2.bias False   =======>   False\n",
      "layer3.0.downsample.0.weight False   =======>   False\n",
      "layer3.0.downsample.1.weight False   =======>   False\n",
      "layer3.0.downsample.1.bias False   =======>   False\n",
      "layer3.1.conv1.weight False   =======>   False\n",
      "layer3.1.bn1.weight False   =======>   False\n",
      "layer3.1.bn1.bias False   =======>   False\n",
      "layer3.1.conv2.weight False   =======>   False\n",
      "layer3.1.bn2.weight False   =======>   False\n",
      "layer3.1.bn2.bias False   =======>   False\n",
      "layer4.0.conv1.weight False   =======>   False\n",
      "layer4.0.bn1.weight False   =======>   False\n",
      "layer4.0.bn1.bias False   =======>   False\n",
      "layer4.0.conv2.weight False   =======>   False\n",
      "layer4.0.bn2.weight False   =======>   False\n",
      "layer4.0.bn2.bias False   =======>   False\n",
      "layer4.0.downsample.0.weight False   =======>   False\n",
      "layer4.0.downsample.1.weight False   =======>   False\n",
      "layer4.0.downsample.1.bias False   =======>   False\n",
      "layer4.1.conv1.weight False   =======>   False\n",
      "layer4.1.bn1.weight False   =======>   False\n",
      "layer4.1.bn1.bias False   =======>   False\n",
      "layer4.1.conv2.weight False   =======>   False\n",
      "layer4.1.bn2.weight False   =======>   False\n",
      "layer4.1.bn2.bias False   =======>   False\n",
      "fc.weight True   =======>   False\n",
      "fc.bias True   =======>   False\n",
      "weight False   =======>   True\n",
      "bias False   =======>   True\n"
     ]
    }
   ],
   "source": [
    "##resnet18 Feature Module parameter requires_grad = True-> False (변경)\n",
    "\n",
    "for name, param in resmodel.named_parameters():\n",
    "    print(name,param.requires_grad, end='   =======>   ')\n",
    "    param.requires_grad = False\n",
    "    print(param.requires_grad)\n",
    "    \n",
    "###resnet18 Full cConnected Module parameter requires_grad = False -> True (변경)\n",
    "# \n",
    "for name, param in resmodel.fc.named_parameters():\n",
    "    print(name, param.requires_grad, end='   =======>   ')\n",
    "    param.requires_grad = True\n",
    "    print(param.requires_grad)"
   ],
   "metadata": {
    "collapsed": false,
    "ExecuteTime": {
     "end_time": "2024-03-26T04:29:08.550921Z",
     "start_time": "2024-03-26T04:29:08.529980Z"
    }
   },
   "id": "afc3ae34772a42b8",
   "execution_count": 13
  },
  {
   "cell_type": "code",
   "outputs": [],
   "source": [
    "# 학습 준비\n",
    "optimizer = optim.Adam(resmodel.fc.parameters())\n",
    "loss_fn = nn.CrossEntropyLoss()\n",
    "EPOCHS = 3\n"
   ],
   "metadata": {
    "collapsed": false,
    "ExecuteTime": {
     "end_time": "2024-03-26T04:29:46.885635Z",
     "start_time": "2024-03-26T04:29:46.004022Z"
    }
   },
   "id": "2ffd87c2e355ff93",
   "execution_count": 14
  },
  {
   "cell_type": "code",
   "outputs": [],
   "source": [],
   "metadata": {
    "collapsed": false
   },
   "id": "55ed289fd921a4cb"
  }
 ],
 "metadata": {
  "kernelspec": {
   "display_name": "Python 3",
   "language": "python",
   "name": "python3"
  },
  "language_info": {
   "codemirror_mode": {
    "name": "ipython",
    "version": 2
   },
   "file_extension": ".py",
   "mimetype": "text/x-python",
   "name": "python",
   "nbconvert_exporter": "python",
   "pygments_lexer": "ipython2",
   "version": "2.7.6"
  }
 },
 "nbformat": 4,
 "nbformat_minor": 5
}
