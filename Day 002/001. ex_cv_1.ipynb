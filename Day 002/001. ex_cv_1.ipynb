{
 "cells": [
  {
   "cell_type": "markdown",
   "source": [
    "### [기본적 이미지 다루기]"
   ],
   "metadata": {
    "collapsed": false
   },
   "id": "ed58434116d5e87d"
  },
  {
   "cell_type": "code",
   "outputs": [],
   "source": [
    "#MODULE\n",
    "import cv2\n",
    "import numpy as np"
   ],
   "metadata": {
    "collapsed": false,
    "ExecuteTime": {
     "end_time": "2024-03-22T04:17:54.533031Z",
     "start_time": "2024-03-22T04:17:54.499764Z"
    }
   },
   "id": "acfb0d976f969013",
   "execution_count": 6
  },
  {
   "cell_type": "markdown",
   "source": [
    "- [ 1 ] image data load\n",
    "    - color / grayscale image converted load available"
   ],
   "metadata": {
    "collapsed": false
   },
   "id": "f1b76431be1ae2c9"
  },
  {
   "cell_type": "code",
   "outputs": [],
   "source": [
    "file = '../datas/KakaoTalk_20240322_100801555.png'"
   ],
   "metadata": {
    "collapsed": false,
    "ExecuteTime": {
     "end_time": "2024-03-22T04:17:54.549099Z",
     "start_time": "2024-03-22T04:17:54.539123Z"
    }
   },
   "id": "c055cb996ebf9b2c",
   "execution_count": 7
  },
  {
   "cell_type": "code",
   "outputs": [],
   "source": [
    "# COLOR IMAGE LOAD(default)\n",
    "img_rgb = cv2.imread(file, cv2.IMREAD_COLOR)\n",
    "\n",
    "#GRAY IMAGE LOAD\n",
    "img_gray = cv2.imread(file, cv2.IMREAD_GRAYSCALE)"
   ],
   "metadata": {
    "collapsed": false,
    "ExecuteTime": {
     "end_time": "2024-03-22T04:17:54.580118Z",
     "start_time": "2024-03-22T04:17:54.551083Z"
    }
   },
   "id": "93447c40f661491d",
   "execution_count": 8
  },
  {
   "cell_type": "code",
   "outputs": [
    {
     "name": "stdout",
     "output_type": "stream",
     "text": [
      "[COLOR IMG]\n",
      "SHAPE: (565, 603, 3)\n",
      "DIM:3D\n",
      "TYPE: uint8\n",
      "SIZE:1022085bytes\n",
      "\n",
      "\n",
      "[GRAYSCALED IMG]\n",
      "SHAPE: (565, 603)\n",
      "DIM:2D\n",
      "TYPE: uint8\n",
      "SIZE:340695bytes\n"
     ]
    }
   ],
   "source": [
    "#Image data info check\n",
    "\n",
    "print(f'[COLOR IMG]')\n",
    "print(f'SHAPE: {img_rgb.shape}\\nDIM:{img_rgb.ndim}D')\n",
    "print(f'TYPE: {img_rgb.dtype}\\nSIZE:{img_rgb.size}bytes\\n\\n')\n",
    "\n",
    "#Gray Image data info check: size = color img * 1/3\n",
    "print(f'[GRAYSCALED IMG]')\n",
    "print(f'SHAPE: {img_gray.shape}\\nDIM:{img_gray.ndim}D')\n",
    "print(f'TYPE: {img_gray.dtype}\\nSIZE:{img_gray.size}bytes')\n",
    "#shape: Height, Width, Channel 순으로 출력"
   ],
   "metadata": {
    "collapsed": false,
    "ExecuteTime": {
     "end_time": "2024-03-22T04:17:54.595890Z",
     "start_time": "2024-03-22T04:17:54.581101Z"
    }
   },
   "id": "73b4e0ef7cfc5b3c",
   "execution_count": 9
  },
  {
   "cell_type": "code",
   "outputs": [],
   "source": [
    "### IMAGE WINDOW SHOW\n",
    "\n",
    "cv2.imshow('[COLOR]', img_rgb)\n",
    "\n",
    "#IMAGE WINDOW CONTROL CODE\n",
    "cv2.waitKey()\n",
    "\n",
    "##CLOSE IMAGE WINDOW\n",
    "cv2.destroyAllWindows()"
   ],
   "metadata": {
    "collapsed": false,
    "ExecuteTime": {
     "end_time": "2024-03-22T04:18:00.879947Z",
     "start_time": "2024-03-22T04:17:54.596886Z"
    }
   },
   "id": "70eb96c62ef1231f",
   "execution_count": 10
  },
  {
   "cell_type": "code",
   "outputs": [],
   "source": [
    "imgfile = '../../datas/Project Jellyfish/Moon_jellyfish/01.jpg'\n",
    "img = cv2.imread(imgfile)\n",
    "\n",
    "if img is not None:\n",
    "    cv2.imshow('MOON_JELLYFISH',img)\n",
    "    cv2.waitKey()\n",
    "    cv2.destroyAllWindows()\n",
    "    \n",
    "else:\n",
    "    print('THERE IS NO IMG FILE')"
   ],
   "metadata": {
    "collapsed": false,
    "ExecuteTime": {
     "end_time": "2024-03-22T04:18:01.575825Z",
     "start_time": "2024-03-22T04:18:00.881094Z"
    }
   },
   "id": "2aa4d94b9e276129",
   "execution_count": 11
  },
  {
   "cell_type": "code",
   "outputs": [],
   "source": [
    "img_grayjf = cv2.imread(imgfile, cv2.IMREAD_GRAYSCALE)\n",
    "savefilename = '../datas/grayjellyfish.jpg'\n",
    "grayjellyfish = cv2.imwrite(savefilename,img_gray)"
   ],
   "metadata": {
    "collapsed": false,
    "ExecuteTime": {
     "end_time": "2024-03-22T04:18:01.591698Z",
     "start_time": "2024-03-22T04:18:01.576822Z"
    }
   },
   "id": "3079a1320114ef8e",
   "execution_count": 12
  },
  {
   "cell_type": "code",
   "outputs": [],
   "source": [
    "img = cv2.imread(imgfile)\n",
    "\n",
    "img_b, img_g, img_r = cv2.split(img)#이미지 채널로 분리하기 (bgr)\n",
    "#b,g,r = img[:,:,0], img[:,:,1], img[:,:,2] <- ndarray로 분리하기\n",
    "\n",
    "cv2.imshow('[B]', img_b)\n",
    "cv2.imshow('[G]', img_g)\n",
    "cv2.imshow('[R]', img_r)\n",
    "\n",
    "\n",
    "cv2.waitKey(delay= 8000)\n",
    "cv2.destroyAllWindows()"
   ],
   "metadata": {
    "collapsed": false,
    "ExecuteTime": {
     "end_time": "2024-03-22T04:18:02.394784Z",
     "start_time": "2024-03-22T04:18:01.593691Z"
    }
   },
   "id": "6f955ff341278ffb",
   "execution_count": 13
  },
  {
   "cell_type": "code",
   "outputs": [],
   "source": [
    " # 이미지데이터 채널 병합 / 변경하기\n",
    "img_rgb = cv2.merge((img_r, img_g, img_b))\n",
    " #BGR to RGB\n",
    "cv2.imshow('[RGB]',img_rgb)\n",
    "cv2.waitKey()\n",
    "cv2.destroyAllWindows()"
   ],
   "metadata": {
    "collapsed": false,
    "ExecuteTime": {
     "end_time": "2024-03-22T04:18:03.050089Z",
     "start_time": "2024-03-22T04:18:02.397023Z"
    }
   },
   "id": "1f6cfe55cee06dd2",
   "execution_count": 14
  },
  {
   "cell_type": "code",
   "outputs": [],
   "source": [
    "#RGB -> HSV\n",
    "\n",
    "# img_hsv = cv2.cvtColor(img_rgb, cv2.COLOR_BGR2HSV)\n",
    "# planes = cv2.split(img_hsv)\n",
    "# \n",
    "# cv2.imshow('[HSV]', planes)\n",
    "# \n",
    "# cv2.waitKey()\n",
    "# cv2.destroyAllWindows()"
   ],
   "metadata": {
    "collapsed": false,
    "ExecuteTime": {
     "end_time": "2024-03-22T04:18:03.060628Z",
     "start_time": "2024-03-22T04:18:03.053351Z"
    }
   },
   "id": "79121ea8c8191c76",
   "execution_count": 15
  },
  {
   "cell_type": "code",
   "outputs": [],
   "source": [
    "# 이미지 창 띄우기\n",
    "cv2.imshow('[color]', img)\n",
    "\n",
    "\n",
    "#IMAGE WINDOW CONTROL CODE\n",
    "if cv2.waitKey() or cv2.getWindowProperty('[color]', cv2.WND_PROP_VISIBLE)<1:\n",
    "    cv2.destroyAllWindows()"
   ],
   "metadata": {
    "collapsed": false,
    "ExecuteTime": {
     "end_time": "2024-03-22T04:18:03.730029Z",
     "start_time": "2024-03-22T04:18:03.061613Z"
    }
   },
   "id": "f7347d4d451bdc4e",
   "execution_count": 16
  },
  {
   "cell_type": "code",
   "outputs": [],
   "source": [
    "#Image Resizing\n",
    "\n",
    "downimg = cv2.resize(img, dsize=(30,30), interpolation=cv2.INTER_AREA)\n",
    "upimg = cv2.resize(img, dsize=(0,0), fx=1.5, fy = 1.5, interpolation=cv2.INTER_CUBIC)\n",
    "\n",
    "# cv2. imshow('[down]', downimg)\n",
    "# cv2.imshow('[up]', upimg)\n",
    "# cv2.imshow(['org', img])\n",
    "# \n",
    "# cv2.waitKey()\n",
    "# cv2.destroyAllWindows()"
   ],
   "metadata": {
    "collapsed": false,
    "ExecuteTime": {
     "end_time": "2024-03-22T04:18:03.743456Z",
     "start_time": "2024-03-22T04:18:03.732559Z"
    }
   },
   "id": "284a5f4eb720e084",
   "execution_count": 17
  },
  {
   "cell_type": "code",
   "outputs": [],
   "source": [
    "# 도화지 만들기\n",
    "\n",
    "import numpy as np\n",
    "blksketchbook = np.zeros((100,100))\n",
    "blksketchbook.shape, blksketchbook.ndim\n",
    "\n",
    "wtesketchbook = np.full((300,300),255, dtype=np.uint8)"
   ],
   "metadata": {
    "collapsed": false,
    "ExecuteTime": {
     "end_time": "2024-03-22T04:21:44.701907Z",
     "start_time": "2024-03-22T04:21:44.691939Z"
    }
   },
   "id": "3b92338af57c467b",
   "execution_count": 23
  },
  {
   "cell_type": "code",
   "outputs": [
    {
     "name": "stdout",
     "output_type": "stream",
     "text": [
      "[[0. 0. 0. ... 0. 0. 0.]\n",
      " [0. 0. 0. ... 0. 0. 0.]\n",
      " [0. 0. 0. ... 0. 0. 0.]\n",
      " ...\n",
      " [0. 0. 0. ... 0. 0. 0.]\n",
      " [0. 0. 0. ... 0. 0. 0.]\n",
      " [0. 0. 0. ... 0. 0. 0.]]\n"
     ]
    }
   ],
   "source": [
    "# 도화지에 그림 그리기\n",
    "cv2.line(blksketchbook, (10, 10), (70,70), (255,255,0),10)\n",
    "print(blksketchbook)"
   ],
   "metadata": {
    "collapsed": false,
    "ExecuteTime": {
     "end_time": "2024-03-22T04:24:02.630344Z",
     "start_time": "2024-03-22T04:24:02.622831Z"
    }
   },
   "id": "e32709b0919726cd",
   "execution_count": 26
  },
  {
   "cell_type": "code",
   "outputs": [],
   "source": [
    "#출력하기\n",
    "cv2.imshow('BLK',blksketchbook)\n",
    "cv2.waitKey(5000)\n",
    "cv2.destroyAllWindows()"
   ],
   "metadata": {
    "collapsed": false,
    "ExecuteTime": {
     "end_time": "2024-03-22T04:24:09.072909Z",
     "start_time": "2024-03-22T04:24:04.032644Z"
    }
   },
   "id": "e9f33bedc173a191",
   "execution_count": 27
  },
  {
   "cell_type": "code",
   "outputs": [],
   "source": [
    "white = np.full((500,500,3),255,dtype=np.uint8)\n",
    "\n",
    "cv2.line(white, (50,50),(150,50),(255,0,0))\n",
    "cv2.line(white, (200,50), (300,50), (0,255,0))\n",
    "cv2.line(white, (350,50),(450,50), (0,0,255))\n",
    "\n",
    "#하늘색 10픽셀 선\n",
    "cv2.line(white,(100,100), (400,100),(255,255,0),10)\n",
    "cv2.line(white,(100,150),(400,150),(255,0,255),10)\n",
    "cv2.line(white,(100,200),(400,200),(0,255,255),10)\n",
    "cv2.line(white,(100,250),(400,250),(200,200,200),10)\n",
    "cv2.line(img,(100,300),(400,300),(0,0,0),10)\n",
    "\n",
    "#4d연결 선\n",
    "cv2.line(white,(100,350),(400,400),(0,0,255),20,cv2.LINE_4)\n",
    "cv2.line(white,(100,400),(400,450),(0,0,255),20, cv2.LINE_8)\n",
    "cv2.line(white,(100,450),(400,500),(0,0,255),20, cv2.LINE_AA)\n",
    "\n",
    "#이미지 전체에 대각선\n",
    "cv2.line(white,(0,0),(500,500),(0,0,255))\n",
    "\n",
    "cv2.imshow('WHITE',white)\n",
    "cv2.waitKey()\n",
    "cv2.destroyAllWindows()"
   ],
   "metadata": {
    "collapsed": false,
    "ExecuteTime": {
     "end_time": "2024-03-22T04:42:12.317441Z",
     "start_time": "2024-03-22T04:36:05.555253Z"
    }
   },
   "id": "706b1c099bbfa362",
   "execution_count": 31
  },
  {
   "cell_type": "code",
   "outputs": [],
   "source": [
    "cv2.rectangle(img,(50,50),(150,150),(255,0,0)) #img 이미지에 좌상 50, 50, 우하 150,150좌표에다 네모 그려줘\n",
    "cv2.rectangle(img,(300,300),(100,100),(0,255,0),10)\n",
    "cv2.rectangle(img,(450,200),(200,450),(0,0,255),-1) #사각형 채워서 그리기\n",
    "\n",
    "cv2.imshow('RECT',img)\n",
    "cv2.waitKey()\n",
    "cv2.destroyAllWindows()"
   ],
   "metadata": {
    "collapsed": false,
    "ExecuteTime": {
     "end_time": "2024-03-22T04:49:05.759048Z",
     "start_time": "2024-03-22T04:48:58.936532Z"
    }
   },
   "id": "ef70ea0ebd6d0fa5",
   "execution_count": 32
  },
  {
   "cell_type": "code",
   "outputs": [],
   "source": [
    "\n",
    "# 번개모양 선\n",
    "pts1 = np.array([[50,50],[150,150],[100,140],[200,240]],dtype=np.int32)\n",
    "#세모\n",
    "pts2 = np.array([[350,50],[250,200],[450,200],] ,dtype = np.int32)\n",
    "#세모\n",
    "pts3 = np.array([[150,300],[50,450],[250,450]],dtype=np.int32)\n",
    "\n",
    "# 오각형\n",
    "pts4 = np.array([[350,250],[450,350],[400,450],[300,450],[250,350]],dtype = np.int32)\n",
    "\n",
    "#다각형 그리기\n",
    "cv2.polylines(white, [pts1], False,(255,0,0))\n",
    "cv2.polylines(white, [pts2], False,(0,0,0),10)\n",
    "cv2.polylines(white,[pts3], True, (0,0,0))\n",
    "cv2.polylines(white,[pts4], True, (0,0,0))\n",
    "\n",
    "cv2.imshow('polylines',white)\n",
    "cv2.waitKey()\n",
    "cv2.destroyAllWindows()"
   ],
   "metadata": {
    "collapsed": false,
    "ExecuteTime": {
     "end_time": "2024-03-22T04:56:23.519943Z",
     "start_time": "2024-03-22T04:55:34.209812Z"
    }
   },
   "id": "9c612716c6b980fc",
   "execution_count": 33
  },
  {
   "cell_type": "code",
   "outputs": [],
   "source": [
    "white = np.ndarray ((500,500,3),dtype=np.uint8)\n",
    "white.fill(255)"
   ],
   "metadata": {
    "collapsed": false,
    "ExecuteTime": {
     "end_time": "2024-03-22T04:56:44.656982Z",
     "start_time": "2024-03-22T04:56:44.651990Z"
    }
   },
   "id": "2d3378427e31c8c8",
   "execution_count": 34
  },
  {
   "cell_type": "code",
   "outputs": [],
   "source": [
    "# 원 그리기\n",
    "\n",
    "#원 중심(150,150), 반지름 100\n",
    "cv2.circle(white, (150, 150),100,(255,0,0))\n",
    "cv2.circle(white, (300,150), 70, (0,255,0),5)\n",
    "\n",
    "#원 중심(400,150), 반지름 50, 컬러 0,0,255, 채우기\n",
    "cv2.circle(white,(400,150),50,(0,0,255),-1)\n",
    "\n",
    "# 호 그리기(0도부터 360도)\n",
    "cv2.ellipse(white,(50,300),(50,50),0,0,360,(0,0,255))\n",
    "\n",
    "#반원 그리기\n",
    "cv2.ellipse(white,(150,300),(50,50),0,0,180,(255,0,0))\n",
    "cv2.ellipse(white,(200,300),(50,50),0,181,360,(0,0,255))\n",
    "\n",
    "# 타원 그리기\n",
    "cv2.ellipse(white, (325,300),(75,50),0,0,360,(0,255,0))\n",
    "cv2.ellipse(white,(200,425),(50,75),45,0,360,(255,0,255))\n",
    "\n",
    "# 회전 호 그리기\n",
    "cv2.ellipse(white,(50,425),(50,75),45,0,360,(0,0,0))\n",
    "cv2.ellipse(white,(200,425),(50,75),0,0,360,(0,0,0))\n",
    "\n",
    "#타원 호\n",
    "cv2.ellipse(white,(350,425),(50,75),45,0,180,(0,0,255))\n",
    "cv2.ellipse(white,(400,425),(50,75),45,181,360,(255,0,0))\n",
    "\n",
    "cv2.imshow('ellipse',white)\n",
    "cv2.waitKey()\n",
    "cv2.destroyAllWindows()"
   ],
   "metadata": {
    "collapsed": false,
    "ExecuteTime": {
     "end_time": "2024-03-22T05:08:01.561068Z",
     "start_time": "2024-03-22T05:06:50.002609Z"
    }
   },
   "id": "9db201df698c3070",
   "execution_count": 35
  },
  {
   "cell_type": "code",
   "outputs": [],
   "source": [
    "white = np.ndarray ((500,500,3),dtype=np.uint8)"
   ],
   "metadata": {
    "collapsed": false,
    "ExecuteTime": {
     "end_time": "2024-03-22T05:08:09.833911Z",
     "start_time": "2024-03-22T05:08:09.817200Z"
    }
   },
   "id": "e56d9ad240e0bd26",
   "execution_count": 36
  },
  {
   "cell_type": "code",
   "outputs": [],
   "source": [
    "#글씨 쓰기\n",
    "cv2.putText(white,\"Plain\",(50,30),cv2.FONT_HERSHEY_PLAIN,1,(0,0,0))\n",
    "cv2.putText(white,\"Simplex\",(50,30),cv2.FONT_HERSHEY_SIMPLEX,1,(0,0,0))\n",
    "cv2.putText(white,\"Duplex\",(50,110),cv2.FONT_HERSHEY_DUPLEX,1,(0,0,0))\n",
    "\n",
    "#2개\n",
    "cv2.putText(white,'Simplex', (200,110),cv2.FONT_HERSHEY_SIMPLEX,2,(0,0,250))\n",
    "\n",
    "cv2.putText(white,\"Complex Small\", (50,180),cv2.FONT_HERSHEY_COMPLEX_SMALL,1,(0,0,0))\n",
    "cv2.putText(white,\"Complex\",(50,220),cv2.FONT_HERSHEY_COMPLEX,1,(0,0,0))\n",
    "cv2.putText(white,\"TRiplex\",(50,260),cv2.FONT_HERSHEY_TRIPLEX,1,(0,0,0))\n",
    "\n",
    "cv2.putText(white, \"complex\",(200,260), cv2.FONT_HERSHEY_TRIPLEX,2,(0,0,255))\n",
    "cv2.putText(white,\"script simplex\",(50,330),cv2.FONT_HERSHEY_SCRIPT_SIMPLEX,1,(0,0,0))\n",
    "cv2.putText(white,\"script complex\",(50,370),cv2.FONT_HERSHEY_SCRIPT_COMPLEX,1,(0,0,0))\n",
    "\n",
    "#italic\n",
    "\n",
    "cv2.putText(white,\"plain italic\",(50,430),cv2.FONT_HERSHEY_PLAIN|cv2.FONT_ITALIC,1,(0,0,0))\n",
    "cv2.putText(white,\"simple italic\",(50,470),cv2.FONT_HERSHEY_COMPLEX|cv2.FONT_ITALIC,1,(0,0,0))\n",
    "\n",
    "cv2.imshow('drqwtext',white)\n",
    "cv2.waitKey()\n",
    "cv2.destroyAllWindows()"
   ],
   "metadata": {
    "collapsed": false,
    "ExecuteTime": {
     "end_time": "2024-03-22T05:16:55.587737Z",
     "start_time": "2024-03-22T05:16:51.363778Z"
    }
   },
   "id": "a98241d180e22f6e",
   "execution_count": 37
  },
  {
   "cell_type": "code",
   "outputs": [
    {
     "name": "stdout",
     "output_type": "stream",
     "text": [
      "**face_detections RESULT\n",
      "[[51 32 96 96]]\n"
     ]
    }
   ],
   "source": [
    "frontalface_model = '../datas/hrc/haarcascade_frontalface_alt.xml'\n",
    "imgfile = '../datas/aha.jpg'\n",
    "\n",
    "#정변얼굴 인식 모델 로딩\n",
    "face_detector = cv2.CascadeClassifier(frontalface_model)\n",
    "\n",
    "#이미지 로딩\n",
    "imgNP = cv2.imread(imgfile)\n",
    "\n",
    "#이미지 정면 얼굴 인식-> (결과) 인식된 얼굴 수만큼 위치정보(x,y,w,h) 반환\n",
    "facedetections = face_detector.detectMultiScale(imgNP)\n",
    "print(f'**face_detections RESULT\\n{facedetections}')\n",
    "\n",
    "#인식된 정면 얼굴 ROI 표시\n",
    "for x,y,w,h in facedetections:\n",
    "    cv2.rectangle(imgNP,(x,y),(x+w,y+h),(0,255,0),2)\n",
    "    \n",
    "#표시된 이미지 출력\n",
    "cv2.imshow('[M]',imgNP)\n",
    "\n",
    "#키 입력하면 창 닫기\n",
    "if cv2.waitKey()or cv2.getWindowProperty('image',cv2.WND_PROP_VISIBLE)<1:\n",
    "    cv2.destroyAllWindows()"
   ],
   "metadata": {
    "collapsed": false,
    "ExecuteTime": {
     "end_time": "2024-03-22T06:07:35.838831Z",
     "start_time": "2024-03-22T05:47:01.327175Z"
    }
   },
   "id": "6024a52732a20eae",
   "execution_count": 40
  },
  {
   "cell_type": "code",
   "outputs": [],
   "source": [],
   "metadata": {
    "collapsed": false
   },
   "id": "874c59e4d93d82f8"
  }
 ],
 "metadata": {
  "kernelspec": {
   "display_name": "Python 3",
   "language": "python",
   "name": "python3"
  },
  "language_info": {
   "codemirror_mode": {
    "name": "ipython",
    "version": 2
   },
   "file_extension": ".py",
   "mimetype": "text/x-python",
   "name": "python",
   "nbconvert_exporter": "python",
   "pygments_lexer": "ipython2",
   "version": "2.7.6"
  }
 },
 "nbformat": 4,
 "nbformat_minor": 5
}
